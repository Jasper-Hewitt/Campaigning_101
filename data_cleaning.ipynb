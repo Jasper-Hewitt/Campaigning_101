{
 "cells": [
  {
   "attachments": {},
   "cell_type": "markdown",
   "metadata": {},
   "source": [
    "# cleaning data until 12/15"
   ]
  },
  {
   "cell_type": "code",
   "execution_count": 31,
   "metadata": {},
   "outputs": [],
   "source": [
    "import pandas as pd\n",
    "#read csv /Users/jasperhewitt/Desktop/github_repos/Campaigning_101/data/campaign_to_12_15.csv\n",
    "df=pd.read_csv('/Users/jasperhewitt/Desktop/github_repos/Campaigning_101/data/original_crowdtangle_to_12_15.csv')"
   ]
  },
  {
   "cell_type": "code",
   "execution_count": 32,
   "metadata": {},
   "outputs": [],
   "source": [
    "df = df.sort_values(by='Post Created')"
   ]
  },
  {
   "cell_type": "code",
   "execution_count": 33,
   "metadata": {},
   "outputs": [
    {
     "data": {
      "text/plain": [
       "1591"
      ]
     },
     "execution_count": 33,
     "metadata": {},
     "output_type": "execute_result"
    }
   ],
   "source": [
    "#take out the dates before the other candidates were announced\n",
    "len(df)"
   ]
  },
  {
   "cell_type": "code",
   "execution_count": 34,
   "metadata": {},
   "outputs": [
    {
     "name": "stdout",
     "output_type": "stream",
     "text": [
      "     Page Name User Name      Facebook Id Page Category   \n",
      "152        侯友宜   houyuih  100044642490075    POLITICIAN  \\\n",
      "727        侯友宜   houyuih  100044642490075    POLITICIAN   \n",
      "1163       侯友宜   houyuih  100044642490075    POLITICIAN   \n",
      "483        侯友宜   houyuih  100044642490075    POLITICIAN   \n",
      "445        侯友宜   houyuih  100044642490075    POLITICIAN   \n",
      "...        ...       ...              ...           ...   \n",
      "18         賴清德   chingte  100044573580122    POLITICIAN   \n",
      "303        賴清德   chingte  100044573580122    POLITICIAN   \n",
      "939        賴清德   chingte  100044573580122    POLITICIAN   \n",
      "836        賴清德   chingte  100044573580122    POLITICIAN   \n",
      "1523       賴清德   chingte  100044573580122    POLITICIAN   \n",
      "\n",
      "     Page Admin Top Country       Page Description         Page Created   \n",
      "152                      TW             顧好台灣，人民好康！  2016-05-26 07:40:26  \\\n",
      "727                      TW             顧好台灣，人民好康！  2016-05-26 07:40:26   \n",
      "1163                     TW             顧好台灣，人民好康！  2016-05-26 07:40:26   \n",
      "483                      TW             顧好台灣，人民好康！  2016-05-26 07:40:26   \n",
      "445                      TW             顧好台灣，人民好康！  2016-05-26 07:40:26   \n",
      "...                     ...                    ...                  ...   \n",
      "18                       TW  2020年5月20日宣誓就任第15任副總統  2010-12-15 08:29:54   \n",
      "303                      TW  2020年5月20日宣誓就任第15任副總統  2010-12-15 08:29:54   \n",
      "939                      TW  2020年5月20日宣誓就任第15任副總統  2010-12-15 08:29:54   \n",
      "836                      TW  2020年5月20日宣誓就任第15任副總統  2010-12-15 08:29:54   \n",
      "1523                     TW  2020年5月20日宣誓就任第15任副總統  2010-12-15 08:29:54   \n",
      "\n",
      "      Likes at Posting  Followers at Posting             Post Created  ...   \n",
      "152             591317                629158  2023-05-17 16:07:19 CST  ...  \\\n",
      "727             592387                630278  2023-05-18 16:27:25 CST  ...   \n",
      "1163            592684                630579  2023-05-19 22:06:32 CST  ...   \n",
      "483             592911                630780  2023-05-20 15:54:14 CST  ...   \n",
      "445             593210                631074  2023-05-21 18:30:23 CST  ...   \n",
      "...                ...                   ...                      ...  ...   \n",
      "18              830148                866413  2023-12-12 10:11:57 CST  ...   \n",
      "303             830148                866413  2023-12-12 17:00:01 CST  ...   \n",
      "939             830502                866764  2023-12-13 15:07:18 CST  ...   \n",
      "836             830502                866764  2023-12-13 20:12:54 CST  ...   \n",
      "1523            831119                867375  2023-12-15 09:31:33 CST  ...   \n",
      "\n",
      "                                                   Link Final Link   \n",
      "152   https://www.facebook.com/photo.php?fbid=808201...        NaN  \\\n",
      "727   https://www.facebook.com/houyuih/videos/784024...        NaN   \n",
      "1163  https://www.facebook.com/photo.php?fbid=809454...        NaN   \n",
      "483   https://www.facebook.com/photo.php?fbid=809962...        NaN   \n",
      "445                                                 NaN        NaN   \n",
      "...                                                 ...        ...   \n",
      "18    https://www.facebook.com/chingte/videos/106019...        NaN   \n",
      "303   https://www.facebook.com/photo.php?fbid=912453...        NaN   \n",
      "939   https://www.facebook.com/photo.php?fbid=912941...        NaN   \n",
      "836   https://www.facebook.com/photo.php?fbid=913010...        NaN   \n",
      "1523  https://www.facebook.com/chingte/videos/163736...        NaN   \n",
      "\n",
      "                                             Image Text   \n",
      "152                                                 NaN  \\\n",
      "727                                                 NaN   \n",
      "1163                                                NaN   \n",
      "483                                                 NaN   \n",
      "445                                                 NaN   \n",
      "...                                                 ...   \n",
      "18                                                  NaN   \n",
      "303                                                 NaN   \n",
      "939                                                 NaN   \n",
      "836   TATA 台灣走向世界 世界擁抱台灣 戀想光協會 賴清德六大觀光政見 2024 2024#T...   \n",
      "1523                                                NaN   \n",
      "\n",
      "                                Link Text  Description  Sponsor Id   \n",
      "152                Photos from 侯友宜's post          NaN         NaN  \\\n",
      "727                                   NaN          NaN         NaN   \n",
      "1163                                  NaN          NaN         NaN   \n",
      "483                Photos from 侯友宜's post          NaN         NaN   \n",
      "445                                   NaN          NaN         NaN   \n",
      "...                                   ...          ...         ...   \n",
      "18            《世界的台灣》2024 賴清德 蕭美琴｜總統競選 CF          NaN         NaN   \n",
      "303                Photos from 賴清德's post          NaN         NaN   \n",
      "939                                   NaN          NaN         NaN   \n",
      "836                Photos from 賴清德's post          NaN         NaN   \n",
      "1523  【直播中】《Hakka Vug ha 四海大平安》 客家歌曲公布記者會          NaN         NaN   \n",
      "\n",
      "      Sponsor Name  Sponsor Category   \n",
      "152            NaN               NaN  \\\n",
      "727            NaN               NaN   \n",
      "1163           NaN               NaN   \n",
      "483            NaN               NaN   \n",
      "445            NaN               NaN   \n",
      "...            ...               ...   \n",
      "18             NaN               NaN   \n",
      "303            NaN               NaN   \n",
      "939            NaN               NaN   \n",
      "836            NaN               NaN   \n",
      "1523           NaN               NaN   \n",
      "\n",
      "      Total Interactions (weighted  —  Likes 1x Shares 1x Comments 1x Love 1x Wow 1x Haha 1x Sad 1x Angry 1x Care 1x )   \n",
      "152                                              29,171                                                                 \\\n",
      "727                                              10,376                                                                  \n",
      "1163                                              7,032                                                                  \n",
      "483                                              13,896                                                                  \n",
      "445                                              14,654                                                                  \n",
      "...                                                 ...                                                                  \n",
      "18                                               71,011                                                                  \n",
      "303                                              18,793                                                                  \n",
      "939                                               8,604                                                                  \n",
      "836                                               9,320                                                                  \n",
      "1523                                              4,317                                                                  \n",
      "\n",
      "      Overperforming Score  \n",
      "152                   2.14  \n",
      "727                   1.54  \n",
      "1163                 -1.32  \n",
      "483                  -1.00  \n",
      "445                   1.63  \n",
      "...                    ...  \n",
      "18                    8.93  \n",
      "303                   2.08  \n",
      "939                   1.00  \n",
      "836                   1.13  \n",
      "1523                 -1.31  \n",
      "\n",
      "[1372 rows x 41 columns]\n"
     ]
    }
   ],
   "source": [
    "import pandas as pd\n",
    "\n",
    "# Assuming df is your DataFrame\n",
    "\n",
    "# Convert the \"Post Created Date\" column to datetime format\n",
    "df['Post Created Date'] = pd.to_datetime(df['Post Created Date'])\n",
    "\n",
    "# Define the target dates for each candidate\n",
    "hou_dates = pd.to_datetime('2023-05-17')\n",
    "ke_dates = pd.to_datetime('2023-05-16')\n",
    "guo_start_date = pd.to_datetime('2023-08-28')\n",
    "guo_end_date = pd.to_datetime('2023-11-24')\n",
    "\n",
    "# Filter for 侯友宜: 2023-05-17 and later\n",
    "df_hou = df[(df['Page Name'] == '侯友宜') & (df['Post Created Date'] >= hou_dates)]\n",
    "\n",
    "# Filter for 柯文哲: 2023-05-16 and later\n",
    "df_ke = df[(df['Page Name'] == '柯文哲') & (df['Post Created Date'] >= ke_dates)]\n",
    "\n",
    "# Filter for 郭台銘: 2023-08-28 to 2023-11-24\n",
    "df_guo = df[(df['Page Name'] == '郭台銘') & (df['Post Created Date'] >= guo_start_date) & (df['Post Created Date'] <= guo_end_date)]\n",
    "\n",
    "# Keep all posts for 賴清德 without date filtering\n",
    "df_lai = df[df['Page Name'] == '賴清德']\n",
    "\n",
    "# Concatenate the results\n",
    "filtered_df = pd.concat([df_hou, df_ke, df_guo, df_lai])\n",
    "\n",
    "# Display the filtered DataFrame\n",
    "print(filtered_df)"
   ]
  },
  {
   "cell_type": "code",
   "execution_count": 35,
   "metadata": {},
   "outputs": [],
   "source": [
    "filtered_df = filtered_df.sort_values(by='Post Created')"
   ]
  },
  {
   "cell_type": "code",
   "execution_count": 36,
   "metadata": {},
   "outputs": [],
   "source": [
    "filtered_df.insert(0, 'serial_number', range(1, 1 + len(filtered_df)))"
   ]
  },
  {
   "attachments": {},
   "cell_type": "markdown",
   "metadata": {},
   "source": [
    "## merge columns and separate metadata from relevant columns"
   ]
  },
  {
   "cell_type": "code",
   "execution_count": 37,
   "metadata": {},
   "outputs": [
    {
     "data": {
      "text/plain": [
       "Index(['serial_number', 'Page Name', 'User Name', 'Facebook Id',\n",
       "       'Page Category', 'Page Admin Top Country', 'Page Description',\n",
       "       'Page Created', 'Likes at Posting', 'Followers at Posting',\n",
       "       'Post Created', 'Post Created Date', 'Post Created Time', 'Type',\n",
       "       'Total Interactions', 'Likes', 'Comments', 'Shares', 'Love', 'Wow',\n",
       "       'Haha', 'Sad', 'Angry', 'Care', 'Video Share Status', 'Is Video Owner?',\n",
       "       'Post Views', 'Total Views', 'Total Views For All Crossposts',\n",
       "       'Video Length', 'URL', 'Message', 'Link', 'Final Link', 'Image Text',\n",
       "       'Link Text', 'Description', 'Sponsor Id', 'Sponsor Name',\n",
       "       'Sponsor Category',\n",
       "       'Total Interactions (weighted  —  Likes 1x Shares 1x Comments 1x Love 1x Wow 1x Haha 1x Sad 1x Angry 1x Care 1x )',\n",
       "       'Overperforming Score'],\n",
       "      dtype='object')"
      ]
     },
     "execution_count": 37,
     "metadata": {},
     "output_type": "execute_result"
    }
   ],
   "source": [
    "filtered_df.columns"
   ]
  },
  {
   "cell_type": "code",
   "execution_count": 38,
   "metadata": {},
   "outputs": [],
   "source": [
    "#create a new column that combines the contents of Message, Image Text, and Description\n",
    "#delete the 'index' column\n",
    "filtered_df['combined_text'] = filtered_df['Message'].fillna('') + filtered_df['Image Text'].fillna('') + filtered_df['Description'].fillna('')"
   ]
  },
  {
   "cell_type": "code",
   "execution_count": 39,
   "metadata": {},
   "outputs": [],
   "source": [
    "#ok now seperate the data into 2 different dataframes.\n",
    "#the first df only contains the columns serial_number, User Name, URL, Post Created, combined_text\n",
    "labelling_df = filtered_df[['serial_number', 'User Name', 'URL', 'Post Created', 'combined_text']]"
   ]
  },
  {
   "attachments": {},
   "cell_type": "markdown",
   "metadata": {},
   "source": [
    "# keyword search for relevant rows"
   ]
  },
  {
   "cell_type": "code",
   "execution_count": 40,
   "metadata": {},
   "outputs": [
    {
     "data": {
      "text/plain": [
       "User Name\n",
       "chingte         577\n",
       "houyuih         342\n",
       "DoctorKoWJ      292\n",
       "TerryGou1018    161\n",
       "Name: count, dtype: int64"
      ]
     },
     "execution_count": 40,
     "metadata": {},
     "output_type": "execute_result"
    }
   ],
   "source": [
    "#check values in Page Name User Name of labelling_df\n",
    "labelling_df['User Name'].value_counts()\n"
   ]
  },
  {
   "cell_type": "code",
   "execution_count": 41,
   "metadata": {},
   "outputs": [
    {
     "name": "stderr",
     "output_type": "stream",
     "text": [
      "/var/folders/kf/vzjyh1g17x3gw7hgly31fnc80000gn/T/ipykernel_30111/4173323438.py:2: SettingWithCopyWarning: \n",
      "A value is trying to be set on a copy of a slice from a DataFrame.\n",
      "Try using .loc[row_indexer,col_indexer] = value instead\n",
      "\n",
      "See the caveats in the documentation: https://pandas.pydata.org/pandas-docs/stable/user_guide/indexing.html#returning-a-view-versus-a-copy\n",
      "  labelling_df['mention_other'] = ''\n",
      "/var/folders/kf/vzjyh1g17x3gw7hgly31fnc80000gn/T/ipykernel_30111/4173323438.py:4: SettingWithCopyWarning: \n",
      "A value is trying to be set on a copy of a slice from a DataFrame.\n",
      "Try using .loc[row_indexer,col_indexer] = value instead\n",
      "\n",
      "See the caveats in the documentation: https://pandas.pydata.org/pandas-docs/stable/user_guide/indexing.html#returning-a-view-versus-a-copy\n",
      "  labelling_df['mentioned_other'] = ''\n",
      "/var/folders/kf/vzjyh1g17x3gw7hgly31fnc80000gn/T/ipykernel_30111/4173323438.py:6: SettingWithCopyWarning: \n",
      "A value is trying to be set on a copy of a slice from a DataFrame.\n",
      "Try using .loc[row_indexer,col_indexer] = value instead\n",
      "\n",
      "See the caveats in the documentation: https://pandas.pydata.org/pandas-docs/stable/user_guide/indexing.html#returning-a-view-versus-a-copy\n",
      "  labelling_df['attack'] = ''\n",
      "/var/folders/kf/vzjyh1g17x3gw7hgly31fnc80000gn/T/ipykernel_30111/4173323438.py:8: SettingWithCopyWarning: \n",
      "A value is trying to be set on a copy of a slice from a DataFrame.\n",
      "Try using .loc[row_indexer,col_indexer] = value instead\n",
      "\n",
      "See the caveats in the documentation: https://pandas.pydata.org/pandas-docs/stable/user_guide/indexing.html#returning-a-view-versus-a-copy\n",
      "  labelling_df['target'] = ''\n",
      "/var/folders/kf/vzjyh1g17x3gw7hgly31fnc80000gn/T/ipykernel_30111/4173323438.py:10: SettingWithCopyWarning: \n",
      "A value is trying to be set on a copy of a slice from a DataFrame.\n",
      "Try using .loc[row_indexer,col_indexer] = value instead\n",
      "\n",
      "See the caveats in the documentation: https://pandas.pydata.org/pandas-docs/stable/user_guide/indexing.html#returning-a-view-versus-a-copy\n",
      "  labelling_df['description'] = ''\n"
     ]
    }
   ],
   "source": [
    "#create a new column called 'mention_other' that is empty\n",
    "labelling_df['mention_other'] = ''\n",
    "#and another one called 'mentioned_other' that is empty\n",
    "labelling_df['mentioned_other'] = ''\n",
    "#and another one called 'attack' that is empty\n",
    "labelling_df['attack'] = ''\n",
    "#and another one called 'target' that is empty\n",
    "labelling_df['target'] = ''\n",
    "#add another one called 'description' that is empty\n",
    "labelling_df['description'] = ''"
   ]
  },
  {
   "cell_type": "code",
   "execution_count": 42,
   "metadata": {},
   "outputs": [],
   "source": [
    "#split labelling df in 4 different dfs based on User Name\n",
    "ke_df = labelling_df[labelling_df['User Name'] == 'DoctorKoWJ']\n",
    "lai_df = labelling_df[labelling_df['User Name'] == 'chingte']\n",
    "hou_df = labelling_df[labelling_df['User Name'] == 'houyuih']\n",
    "terry_df= labelling_df[labelling_df['User Name'] == 'TerryGou1018']\n"
   ]
  },
  {
   "cell_type": "code",
   "execution_count": 55,
   "metadata": {},
   "outputs": [
    {
     "name": "stderr",
     "output_type": "stream",
     "text": [
      "/var/folders/kf/vzjyh1g17x3gw7hgly31fnc80000gn/T/ipykernel_30111/2156557188.py:19: SettingWithCopyWarning: \n",
      "A value is trying to be set on a copy of a slice from a DataFrame.\n",
      "Try using .loc[row_indexer,col_indexer] = value instead\n",
      "\n",
      "See the caveats in the documentation: https://pandas.pydata.org/pandas-docs/stable/user_guide/indexing.html#returning-a-view-versus-a-copy\n",
      "  lai_df['mentioned_other'] = lai_df['combined_text'].apply(check_terms)\n",
      "/var/folders/kf/vzjyh1g17x3gw7hgly31fnc80000gn/T/ipykernel_30111/2156557188.py:21: SettingWithCopyWarning: \n",
      "A value is trying to be set on a copy of a slice from a DataFrame.\n",
      "Try using .loc[row_indexer,col_indexer] = value instead\n",
      "\n",
      "See the caveats in the documentation: https://pandas.pydata.org/pandas-docs/stable/user_guide/indexing.html#returning-a-view-versus-a-copy\n",
      "  lai_df['mentioned_other'] = lai_df['mentioned_other'].apply(lambda x: ', '.join(x) if x else 'no')\n",
      "/var/folders/kf/vzjyh1g17x3gw7hgly31fnc80000gn/T/ipykernel_30111/2156557188.py:24: SettingWithCopyWarning: \n",
      "A value is trying to be set on a copy of a slice from a DataFrame.\n",
      "Try using .loc[row_indexer,col_indexer] = value instead\n",
      "\n",
      "See the caveats in the documentation: https://pandas.pydata.org/pandas-docs/stable/user_guide/indexing.html#returning-a-view-versus-a-copy\n",
      "  lai_df['mention_other'] = lai_df['mentioned_other'].apply(lambda x: 'yes' if x != 'no' else 'no')\n"
     ]
    },
    {
     "data": {
      "text/plain": [
       "mention_other\n",
       "no     513\n",
       "yes     64\n",
       "Name: count, dtype: int64"
      ]
     },
     "execution_count": 55,
     "metadata": {},
     "output_type": "execute_result"
    }
   ],
   "source": [
    "#賴清德\n",
    "# List of terms to check for in the 'combined_text' column\n",
    "terms_to_check = [\"侯\", \"國民黨\", \"民眾黨\", \"柯\", \"郭\", \"藍白\", \"吳\", \n",
    "                  \"馬前總統\", \"馬英九\", \"朱\", \"趙\", \"賴佩霞\", \"在野黨\", \n",
    "                  \"藍營\", \"主流民意大聯盟\"] \n",
    "\n",
    "# Function to check for all terms present in the 'combined_text' column\n",
    "def check_terms(text):\n",
    "    hits = []\n",
    "    for term in terms_to_check:\n",
    "        if term in text:\n",
    "            hits.append(term)\n",
    "    return hits\n",
    "\n",
    "# Apply the function to create the 'mentioned_other' column for the entire DataFrame\n",
    "lai_df['mentioned_other'] = lai_df['combined_text'].apply(check_terms)\n",
    "# Convert the list of hits to a comma-separated string\n",
    "lai_df['mentioned_other'] = lai_df['mentioned_other'].apply(lambda x: ', '.join(x) if x else 'no')\n",
    "\n",
    "# Fill the mention_other column with 'yes' if the mentioned_other column contains any value other than 'no'.\n",
    "lai_df['mention_other'] = lai_df['mentioned_other'].apply(lambda x: 'yes' if x != 'no' else 'no') \n",
    "\n",
    "#count number of 'yes' in mention_other column\n",
    "lai_df['mention_other'].value_counts()\n"
   ]
  },
  {
   "cell_type": "code",
   "execution_count": 59,
   "metadata": {},
   "outputs": [
    {
     "name": "stderr",
     "output_type": "stream",
     "text": [
      "/var/folders/kf/vzjyh1g17x3gw7hgly31fnc80000gn/T/ipykernel_30111/2201140941.py:20: SettingWithCopyWarning: \n",
      "A value is trying to be set on a copy of a slice from a DataFrame.\n",
      "Try using .loc[row_indexer,col_indexer] = value instead\n",
      "\n",
      "See the caveats in the documentation: https://pandas.pydata.org/pandas-docs/stable/user_guide/indexing.html#returning-a-view-versus-a-copy\n",
      "  ke_df['mentioned_other'] = ke_df['combined_text'].apply(check_terms)\n",
      "/var/folders/kf/vzjyh1g17x3gw7hgly31fnc80000gn/T/ipykernel_30111/2201140941.py:22: SettingWithCopyWarning: \n",
      "A value is trying to be set on a copy of a slice from a DataFrame.\n",
      "Try using .loc[row_indexer,col_indexer] = value instead\n",
      "\n",
      "See the caveats in the documentation: https://pandas.pydata.org/pandas-docs/stable/user_guide/indexing.html#returning-a-view-versus-a-copy\n",
      "  ke_df['mentioned_other'] = ke_df['mentioned_other'].apply(lambda x: ', '.join(x) if x else 'no')\n",
      "/var/folders/kf/vzjyh1g17x3gw7hgly31fnc80000gn/T/ipykernel_30111/2201140941.py:25: SettingWithCopyWarning: \n",
      "A value is trying to be set on a copy of a slice from a DataFrame.\n",
      "Try using .loc[row_indexer,col_indexer] = value instead\n",
      "\n",
      "See the caveats in the documentation: https://pandas.pydata.org/pandas-docs/stable/user_guide/indexing.html#returning-a-view-versus-a-copy\n",
      "  ke_df['mention_other'] = ke_df['mentioned_other'].apply(lambda x: 'yes' if x != 'no' else 'no')\n"
     ]
    },
    {
     "data": {
      "text/plain": [
       "mention_other\n",
       "no     180\n",
       "yes    112\n",
       "Name: count, dtype: int64"
      ]
     },
     "execution_count": 59,
     "metadata": {},
     "output_type": "execute_result"
    }
   ],
   "source": [
    "#柯文哲\n",
    "# List of terms to check for in the 'combined_text' column\n",
    "terms_to_check = [\"民進黨\", \"民主進步黨\", \"賴\", \"侯\", \"國民黨\", \n",
    "                  \"郭\", \"藍白\", \"蕭\", \"蔡\", \"馬前總統\", \"馬英九\", \n",
    "                  \"朱\", \"趙\", \"賴佩霞\", \"藍綠\", \"執政黨\", \"藍營\", \"綠營\", \n",
    "                  \"主流民意大聯盟\"] \n",
    "\n",
    "# Function to check for all terms present in the 'combined_text' column\n",
    "def check_terms(text):\n",
    "    hits = []\n",
    "    for term in terms_to_check:\n",
    "        if term in text:\n",
    "            hits.append(term)\n",
    "    return hits\n",
    "\n",
    "# Apply the function to create the 'mentioned_other' column for the entire DataFrame\n",
    "ke_df['mentioned_other'] = ke_df['combined_text'].apply(check_terms)\n",
    "# Convert the list of hits to a comma-separated string\n",
    "ke_df['mentioned_other'] = ke_df['mentioned_other'].apply(lambda x: ', '.join(x) if x else 'no')\n",
    "\n",
    "# Fill the mention_other column with 'yes' if the mentioned_other column contains any value other than 'no'.\n",
    "ke_df['mention_other'] = ke_df['mentioned_other'].apply(lambda x: 'yes' if x != 'no' else 'no') \n",
    "\n",
    "#count number of 'yes' in mention_other column\n",
    "ke_df['mention_other'].value_counts()"
   ]
  },
  {
   "cell_type": "code",
   "execution_count": 60,
   "metadata": {},
   "outputs": [
    {
     "name": "stderr",
     "output_type": "stream",
     "text": [
      "/var/folders/kf/vzjyh1g17x3gw7hgly31fnc80000gn/T/ipykernel_30111/733644877.py:16: SettingWithCopyWarning: \n",
      "A value is trying to be set on a copy of a slice from a DataFrame.\n",
      "Try using .loc[row_indexer,col_indexer] = value instead\n",
      "\n",
      "See the caveats in the documentation: https://pandas.pydata.org/pandas-docs/stable/user_guide/indexing.html#returning-a-view-versus-a-copy\n",
      "  hou_df['mentioned_other'] = hou_df['combined_text'].apply(check_terms)\n",
      "/var/folders/kf/vzjyh1g17x3gw7hgly31fnc80000gn/T/ipykernel_30111/733644877.py:18: SettingWithCopyWarning: \n",
      "A value is trying to be set on a copy of a slice from a DataFrame.\n",
      "Try using .loc[row_indexer,col_indexer] = value instead\n",
      "\n",
      "See the caveats in the documentation: https://pandas.pydata.org/pandas-docs/stable/user_guide/indexing.html#returning-a-view-versus-a-copy\n",
      "  hou_df['mentioned_other'] = hou_df['mentioned_other'].apply(lambda x: ', '.join(x) if x else 'no')\n",
      "/var/folders/kf/vzjyh1g17x3gw7hgly31fnc80000gn/T/ipykernel_30111/733644877.py:21: SettingWithCopyWarning: \n",
      "A value is trying to be set on a copy of a slice from a DataFrame.\n",
      "Try using .loc[row_indexer,col_indexer] = value instead\n",
      "\n",
      "See the caveats in the documentation: https://pandas.pydata.org/pandas-docs/stable/user_guide/indexing.html#returning-a-view-versus-a-copy\n",
      "  hou_df['mention_other'] = hou_df['mentioned_other'].apply(lambda x: 'yes' if x != 'no' else 'no')\n"
     ]
    },
    {
     "data": {
      "text/plain": [
       "mention_other\n",
       "no     212\n",
       "yes    130\n",
       "Name: count, dtype: int64"
      ]
     },
     "execution_count": 60,
     "metadata": {},
     "output_type": "execute_result"
    }
   ],
   "source": [
    "#侯友宜\n",
    "\n",
    "# List of terms to check for in the 'combined_text' column\n",
    "terms_to_check = [\"民進黨\", \"民主進步黨\", \"民眾黨\", \"柯\", \"郭\", \"賴\", \"藍白\", \n",
    "                  \"蕭\", \"蔡\", \"賴佩霞\", \"執政黨\", \"主流民意大聯盟\", \"吳\", \"綠營\"] \n",
    "\n",
    "# Function to check for all terms present in the 'combined_text' column\n",
    "def check_terms(text):\n",
    "    hits = []\n",
    "    for term in terms_to_check:\n",
    "        if term in text:\n",
    "            hits.append(term)\n",
    "    return hits\n",
    "\n",
    "# Apply the function to create the 'mentioned_other' column for the entire DataFrame\n",
    "hou_df['mentioned_other'] = hou_df['combined_text'].apply(check_terms)\n",
    "# Convert the list of hits to a comma-separated string\n",
    "hou_df['mentioned_other'] = hou_df['mentioned_other'].apply(lambda x: ', '.join(x) if x else 'no')\n",
    "\n",
    "# Fill the mention_other column with 'yes' if the mentioned_other column contains any value other than 'no'.\n",
    "hou_df['mention_other'] = hou_df['mentioned_other'].apply(lambda x: 'yes' if x != 'no' else 'no') \n",
    "\n",
    "#count number of 'yes' in mention_other column\n",
    "hou_df['mention_other'].value_counts()"
   ]
  },
  {
   "cell_type": "code",
   "execution_count": 61,
   "metadata": {},
   "outputs": [
    {
     "name": "stderr",
     "output_type": "stream",
     "text": [
      "/var/folders/kf/vzjyh1g17x3gw7hgly31fnc80000gn/T/ipykernel_30111/808821238.py:17: SettingWithCopyWarning: \n",
      "A value is trying to be set on a copy of a slice from a DataFrame.\n",
      "Try using .loc[row_indexer,col_indexer] = value instead\n",
      "\n",
      "See the caveats in the documentation: https://pandas.pydata.org/pandas-docs/stable/user_guide/indexing.html#returning-a-view-versus-a-copy\n",
      "  terry_df['mentioned_other'] = terry_df['combined_text'].apply(check_terms)\n",
      "/var/folders/kf/vzjyh1g17x3gw7hgly31fnc80000gn/T/ipykernel_30111/808821238.py:19: SettingWithCopyWarning: \n",
      "A value is trying to be set on a copy of a slice from a DataFrame.\n",
      "Try using .loc[row_indexer,col_indexer] = value instead\n",
      "\n",
      "See the caveats in the documentation: https://pandas.pydata.org/pandas-docs/stable/user_guide/indexing.html#returning-a-view-versus-a-copy\n",
      "  terry_df['mentioned_other'] = terry_df['mentioned_other'].apply(lambda x: ', '.join(x) if x else 'no')\n",
      "/var/folders/kf/vzjyh1g17x3gw7hgly31fnc80000gn/T/ipykernel_30111/808821238.py:22: SettingWithCopyWarning: \n",
      "A value is trying to be set on a copy of a slice from a DataFrame.\n",
      "Try using .loc[row_indexer,col_indexer] = value instead\n",
      "\n",
      "See the caveats in the documentation: https://pandas.pydata.org/pandas-docs/stable/user_guide/indexing.html#returning-a-view-versus-a-copy\n",
      "  terry_df['mention_other'] = terry_df['mentioned_other'].apply(lambda x: 'yes' if x != 'no' else 'no')\n"
     ]
    },
    {
     "data": {
      "text/plain": [
       "mention_other\n",
       "yes    102\n",
       "no      59\n",
       "Name: count, dtype: int64"
      ]
     },
     "execution_count": 61,
     "metadata": {},
     "output_type": "execute_result"
    }
   ],
   "source": [
    "#郭台銘\n",
    "\n",
    "# List of terms to check for in the 'combined_text' column\n",
    "terms_to_check = [\"民進黨\", \"民主進步黨\", \"賴\", \"侯\", \"國民黨\", \"藍白\", \"蔡\",  \n",
    "                  \"馬前總統\", \"馬英九\", \"朱\", \"趙\", \"民眾黨\", \"執政黨\", \n",
    "                 \"藍營\", \"綠營\", \"主流民意大聯盟\", \"吳\", \"蕭\", \"柯\"] \n",
    "\n",
    "# Function to check for all terms present in the 'combined_text' column\n",
    "def check_terms(text):\n",
    "    hits = []\n",
    "    for term in terms_to_check:\n",
    "        if term in text:\n",
    "            hits.append(term)\n",
    "    return hits\n",
    "\n",
    "# Apply the function to create the 'mentioned_other' column for the entire DataFrame\n",
    "terry_df['mentioned_other'] = terry_df['combined_text'].apply(check_terms)\n",
    "# Convert the list of hits to a comma-separated string\n",
    "terry_df['mentioned_other'] = terry_df['mentioned_other'].apply(lambda x: ', '.join(x) if x else 'no')\n",
    "\n",
    "# Fill the mention_other column with 'yes' if the mentioned_other column contains any value other than 'no'.\n",
    "terry_df['mention_other'] = terry_df['mentioned_other'].apply(lambda x: 'yes' if x != 'no' else 'no') \n",
    "\n",
    "#count number of 'yes' in mention_other column\n",
    "terry_df['mention_other'].value_counts()"
   ]
  },
  {
   "cell_type": "code",
   "execution_count": 63,
   "metadata": {},
   "outputs": [
    {
     "data": {
      "image/png": "[encoded data removed]",
      "text/plain": [
       "<Figure size 640x480 with 1 Axes>"
      ]
     },
     "metadata": {},
     "output_type": "display_data"
    }
   ],
   "source": [
    "import pandas as pd\n",
    "import matplotlib.pyplot as plt\n",
    "\n",
    "# Assuming terry_df, hou_df, ke_df, and lai_df are your DataFrames\n",
    "\n",
    "# Function to count 'yes' in the mention_other column\n",
    "def count_yes(df):\n",
    "    return df['mention_other'].value_counts().get('yes', 0)\n",
    "\n",
    "# List of DataFrames\n",
    "dfs = [terry_df, hou_df, ke_df, lai_df]\n",
    "\n",
    "# Count 'yes' for each DataFrame\n",
    "yes_counts = [count_yes(df) for df in dfs]\n",
    "\n",
    "# Plotting\n",
    "plt.bar(['Terry', 'Hou', 'Ke', 'Lai'], yes_counts, color='blue')\n",
    "plt.title('Number of \"yes\" in mention_other column per DataFrame')\n",
    "plt.xlabel('DataFrames')\n",
    "plt.ylabel('Count of \"yes\"')\n",
    "plt.show()"
   ]
  },
  {
   "cell_type": "code",
   "execution_count": 64,
   "metadata": {},
   "outputs": [
    {
     "name": "stdout",
     "output_type": "stream",
     "text": [
      "102\n",
      "130\n",
      "112\n",
      "64\n"
     ]
    }
   ],
   "source": [
    "#in all four dfs, drop the rows where mention_other is 'no'\n",
    "terry_df = terry_df[terry_df['mention_other'] != 'no']\n",
    "hou_df = hou_df[hou_df['mention_other'] != 'no']\n",
    "ke_df = ke_df[ke_df['mention_other'] != 'no']\n",
    "lai_df = lai_df[lai_df['mention_other'] != 'no']\n",
    "\n",
    "#print the number of rows per df \n",
    "print(len(terry_df))\n",
    "print(len(hou_df))\n",
    "print(len(ke_df))\n",
    "print(len(lai_df))"
   ]
  },
  {
   "cell_type": "code",
   "execution_count": 65,
   "metadata": {},
   "outputs": [],
   "source": [
    "#now merge the 4 dfs into one df called save_for_label_df\n",
    "save_for_label_df = pd.concat([terry_df, hou_df, ke_df, lai_df])"
   ]
  },
  {
   "attachments": {},
   "cell_type": "markdown",
   "metadata": {},
   "source": [
    "## save csv "
   ]
  },
  {
   "cell_type": "code",
   "execution_count": null,
   "metadata": {},
   "outputs": [],
   "source": [
    "# we will have to save both labelling_df and filtered_df to seperate csv's so they can be merged back togehter after labelling!"
   ]
  },
  {
   "cell_type": "code",
   "execution_count": null,
   "metadata": {},
   "outputs": [],
   "source": []
  }
 ],
 "metadata": {
  "kernelspec": {
   "display_name": "Python 3",
   "language": "python",
   "name": "python3"
  },
  "language_info": {
   "codemirror_mode": {
    "name": "ipython",
    "version": 3
   },
   "file_extension": ".py",
   "mimetype": "text/x-python",
   "name": "python",
   "nbconvert_exporter": "python",
   "pygments_lexer": "ipython3",
   "version": "3.11.3"
  },
  "orig_nbformat": 4
 },
 "nbformat": 4,
 "nbformat_minor": 2
}
