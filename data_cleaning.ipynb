{
 "cells": [
  {
   "attachments": {},
   "cell_type": "markdown",
   "metadata": {},
   "source": [
    "# cleaning data until 12/15"
   ]
  },
  {
   "cell_type": "code",
   "execution_count": 139,
   "metadata": {},
   "outputs": [],
   "source": [
    "import pandas as pd\n",
    "#read csv /Users/jasperhewitt/Desktop/github_repos/Campaigning_101/data/campaign_to_12_15.csv\n",
    "df=pd.read_csv('/Users/jasperhewitt/Desktop/github_repos/Campaigning_101/data/original_crowdtangle_to_12_15.csv')\n",
    "#round two \n"
   ]
  },
  {
   "cell_type": "code",
   "execution_count": 140,
   "metadata": {},
   "outputs": [],
   "source": [
    "df = df.sort_values(by='Post Created')"
   ]
  },
  {
   "cell_type": "code",
   "execution_count": 141,
   "metadata": {},
   "outputs": [
    {
     "data": {
      "text/plain": [
       "1591"
      ]
     },
     "execution_count": 141,
     "metadata": {},
     "output_type": "execute_result"
    }
   ],
   "source": [
    "#take out the dates before the other candidates were announced\n",
    "len(df)"
   ]
  },
  {
   "cell_type": "code",
   "execution_count": 142,
   "metadata": {},
   "outputs": [
    {
     "name": "stdout",
     "output_type": "stream",
     "text": [
      "     Page Name User Name      Facebook Id Page Category   \n",
      "152        侯友宜   houyuih  100044642490075    POLITICIAN  \\\n",
      "727        侯友宜   houyuih  100044642490075    POLITICIAN   \n",
      "1163       侯友宜   houyuih  100044642490075    POLITICIAN   \n",
      "483        侯友宜   houyuih  100044642490075    POLITICIAN   \n",
      "445        侯友宜   houyuih  100044642490075    POLITICIAN   \n",
      "...        ...       ...              ...           ...   \n",
      "18         賴清德   chingte  100044573580122    POLITICIAN   \n",
      "303        賴清德   chingte  100044573580122    POLITICIAN   \n",
      "939        賴清德   chingte  100044573580122    POLITICIAN   \n",
      "836        賴清德   chingte  100044573580122    POLITICIAN   \n",
      "1523       賴清德   chingte  100044573580122    POLITICIAN   \n",
      "\n",
      "     Page Admin Top Country       Page Description         Page Created   \n",
      "152                      TW             顧好台灣，人民好康！  2016-05-26 07:40:26  \\\n",
      "727                      TW             顧好台灣，人民好康！  2016-05-26 07:40:26   \n",
      "1163                     TW             顧好台灣，人民好康！  2016-05-26 07:40:26   \n",
      "483                      TW             顧好台灣，人民好康！  2016-05-26 07:40:26   \n",
      "445                      TW             顧好台灣，人民好康！  2016-05-26 07:40:26   \n",
      "...                     ...                    ...                  ...   \n",
      "18                       TW  2020年5月20日宣誓就任第15任副總統  2010-12-15 08:29:54   \n",
      "303                      TW  2020年5月20日宣誓就任第15任副總統  2010-12-15 08:29:54   \n",
      "939                      TW  2020年5月20日宣誓就任第15任副總統  2010-12-15 08:29:54   \n",
      "836                      TW  2020年5月20日宣誓就任第15任副總統  2010-12-15 08:29:54   \n",
      "1523                     TW  2020年5月20日宣誓就任第15任副總統  2010-12-15 08:29:54   \n",
      "\n",
      "      Likes at Posting  Followers at Posting             Post Created  ...   \n",
      "152             591317                629158  2023-05-17 16:07:19 CST  ...  \\\n",
      "727             592387                630278  2023-05-18 16:27:25 CST  ...   \n",
      "1163            592684                630579  2023-05-19 22:06:32 CST  ...   \n",
      "483             592911                630780  2023-05-20 15:54:14 CST  ...   \n",
      "445             593210                631074  2023-05-21 18:30:23 CST  ...   \n",
      "...                ...                   ...                      ...  ...   \n",
      "18              830148                866413  2023-12-12 10:11:57 CST  ...   \n",
      "303             830148                866413  2023-12-12 17:00:01 CST  ...   \n",
      "939             830502                866764  2023-12-13 15:07:18 CST  ...   \n",
      "836             830502                866764  2023-12-13 20:12:54 CST  ...   \n",
      "1523            831119                867375  2023-12-15 09:31:33 CST  ...   \n",
      "\n",
      "                                                   Link Final Link   \n",
      "152   https://www.facebook.com/photo.php?fbid=808201...        NaN  \\\n",
      "727   https://www.facebook.com/houyuih/videos/784024...        NaN   \n",
      "1163  https://www.facebook.com/photo.php?fbid=809454...        NaN   \n",
      "483   https://www.facebook.com/photo.php?fbid=809962...        NaN   \n",
      "445                                                 NaN        NaN   \n",
      "...                                                 ...        ...   \n",
      "18    https://www.facebook.com/chingte/videos/106019...        NaN   \n",
      "303   https://www.facebook.com/photo.php?fbid=912453...        NaN   \n",
      "939   https://www.facebook.com/photo.php?fbid=912941...        NaN   \n",
      "836   https://www.facebook.com/photo.php?fbid=913010...        NaN   \n",
      "1523  https://www.facebook.com/chingte/videos/163736...        NaN   \n",
      "\n",
      "                                             Image Text   \n",
      "152                                                 NaN  \\\n",
      "727                                                 NaN   \n",
      "1163                                                NaN   \n",
      "483                                                 NaN   \n",
      "445                                                 NaN   \n",
      "...                                                 ...   \n",
      "18                                                  NaN   \n",
      "303                                                 NaN   \n",
      "939                                                 NaN   \n",
      "836   TATA 台灣走向世界 世界擁抱台灣 戀想光協會 賴清德六大觀光政見 2024 2024#T...   \n",
      "1523                                                NaN   \n",
      "\n",
      "                                Link Text  Description  Sponsor Id   \n",
      "152                Photos from 侯友宜's post          NaN         NaN  \\\n",
      "727                                   NaN          NaN         NaN   \n",
      "1163                                  NaN          NaN         NaN   \n",
      "483                Photos from 侯友宜's post          NaN         NaN   \n",
      "445                                   NaN          NaN         NaN   \n",
      "...                                   ...          ...         ...   \n",
      "18            《世界的台灣》2024 賴清德 蕭美琴｜總統競選 CF          NaN         NaN   \n",
      "303                Photos from 賴清德's post          NaN         NaN   \n",
      "939                                   NaN          NaN         NaN   \n",
      "836                Photos from 賴清德's post          NaN         NaN   \n",
      "1523  【直播中】《Hakka Vug ha 四海大平安》 客家歌曲公布記者會          NaN         NaN   \n",
      "\n",
      "      Sponsor Name  Sponsor Category   \n",
      "152            NaN               NaN  \\\n",
      "727            NaN               NaN   \n",
      "1163           NaN               NaN   \n",
      "483            NaN               NaN   \n",
      "445            NaN               NaN   \n",
      "...            ...               ...   \n",
      "18             NaN               NaN   \n",
      "303            NaN               NaN   \n",
      "939            NaN               NaN   \n",
      "836            NaN               NaN   \n",
      "1523           NaN               NaN   \n",
      "\n",
      "      Total Interactions (weighted  —  Likes 1x Shares 1x Comments 1x Love 1x Wow 1x Haha 1x Sad 1x Angry 1x Care 1x )   \n",
      "152                                              29,171                                                                 \\\n",
      "727                                              10,376                                                                  \n",
      "1163                                              7,032                                                                  \n",
      "483                                              13,896                                                                  \n",
      "445                                              14,654                                                                  \n",
      "...                                                 ...                                                                  \n",
      "18                                               71,011                                                                  \n",
      "303                                              18,793                                                                  \n",
      "939                                               8,604                                                                  \n",
      "836                                               9,320                                                                  \n",
      "1523                                              4,317                                                                  \n",
      "\n",
      "      Overperforming Score  \n",
      "152                   2.14  \n",
      "727                   1.54  \n",
      "1163                 -1.32  \n",
      "483                  -1.00  \n",
      "445                   1.63  \n",
      "...                    ...  \n",
      "18                    8.93  \n",
      "303                   2.08  \n",
      "939                   1.00  \n",
      "836                   1.13  \n",
      "1523                 -1.31  \n",
      "\n",
      "[1372 rows x 41 columns]\n"
     ]
    }
   ],
   "source": [
    "import pandas as pd\n",
    "\n",
    "# Assuming df is your DataFrame\n",
    "\n",
    "# Convert the \"Post Created Date\" column to datetime format\n",
    "df['Post Created Date'] = pd.to_datetime(df['Post Created Date'])\n",
    "\n",
    "# Define the target dates for each candidate\n",
    "hou_dates = pd.to_datetime('2023-05-17')\n",
    "ke_dates = pd.to_datetime('2023-05-16')\n",
    "guo_start_date = pd.to_datetime('2023-08-28')\n",
    "guo_end_date = pd.to_datetime('2023-11-24')\n",
    "\n",
    "# Filter for 侯友宜: 2023-05-17 and later\n",
    "df_hou = df[(df['Page Name'] == '侯友宜') & (df['Post Created Date'] >= hou_dates)]\n",
    "\n",
    "# Filter for 柯文哲: 2023-05-16 and later\n",
    "df_ke = df[(df['Page Name'] == '柯文哲') & (df['Post Created Date'] >= ke_dates)]\n",
    "\n",
    "# Filter for 郭台銘: 2023-08-28 to 2023-11-24\n",
    "df_guo = df[(df['Page Name'] == '郭台銘') & (df['Post Created Date'] >= guo_start_date) & (df['Post Created Date'] <= guo_end_date)]\n",
    "\n",
    "# Keep all posts for 賴清德 without date filtering\n",
    "df_lai = df[df['Page Name'] == '賴清德']\n",
    "\n",
    "# Concatenate the results\n",
    "filtered_df = pd.concat([df_hou, df_ke, df_guo, df_lai])\n",
    "\n",
    "# Display the filtered DataFrame\n",
    "print(filtered_df)"
   ]
  },
  {
   "cell_type": "code",
   "execution_count": 143,
   "metadata": {},
   "outputs": [],
   "source": [
    "filtered_df = filtered_df.sort_values(by='Post Created')"
   ]
  },
  {
   "cell_type": "code",
   "execution_count": 144,
   "metadata": {},
   "outputs": [],
   "source": [
    "filtered_df.insert(0, 'serial_number', range(1, 1 + len(filtered_df)))"
   ]
  },
  {
   "attachments": {},
   "cell_type": "markdown",
   "metadata": {},
   "source": [
    "## merge columns and separate metadata from relevant columns"
   ]
  },
  {
   "cell_type": "code",
   "execution_count": 145,
   "metadata": {},
   "outputs": [
    {
     "data": {
      "text/plain": [
       "Index(['serial_number', 'Page Name', 'User Name', 'Facebook Id',\n",
       "       'Page Category', 'Page Admin Top Country', 'Page Description',\n",
       "       'Page Created', 'Likes at Posting', 'Followers at Posting',\n",
       "       'Post Created', 'Post Created Date', 'Post Created Time', 'Type',\n",
       "       'Total Interactions', 'Likes', 'Comments', 'Shares', 'Love', 'Wow',\n",
       "       'Haha', 'Sad', 'Angry', 'Care', 'Video Share Status', 'Is Video Owner?',\n",
       "       'Post Views', 'Total Views', 'Total Views For All Crossposts',\n",
       "       'Video Length', 'URL', 'Message', 'Link', 'Final Link', 'Image Text',\n",
       "       'Link Text', 'Description', 'Sponsor Id', 'Sponsor Name',\n",
       "       'Sponsor Category',\n",
       "       'Total Interactions (weighted  —  Likes 1x Shares 1x Comments 1x Love 1x Wow 1x Haha 1x Sad 1x Angry 1x Care 1x )',\n",
       "       'Overperforming Score'],\n",
       "      dtype='object')"
      ]
     },
     "execution_count": 145,
     "metadata": {},
     "output_type": "execute_result"
    }
   ],
   "source": [
    "filtered_df.columns"
   ]
  },
  {
   "cell_type": "code",
   "execution_count": 146,
   "metadata": {},
   "outputs": [],
   "source": [
    "#create a new column that combines the contents of Message, Image Text, and Description\n",
    "#delete the 'index' column\n",
    "filtered_df['combined_text'] = filtered_df['Message'].fillna('') + filtered_df['Image Text'].fillna('') + filtered_df['Description'].fillna('')"
   ]
  },
  {
   "cell_type": "code",
   "execution_count": 147,
   "metadata": {},
   "outputs": [],
   "source": [
    "#ok now seperate the data into 2 different dataframes.\n",
    "#the first df only contains the columns serial_number, User Name, URL, Post Created, combined_text\n",
    "labelling_df = filtered_df[['serial_number', 'User Name', 'URL', 'Post Created', 'combined_text']]"
   ]
  },
  {
   "attachments": {},
   "cell_type": "markdown",
   "metadata": {},
   "source": [
    "# keyword search for relevant rows"
   ]
  },
  {
   "cell_type": "code",
   "execution_count": 148,
   "metadata": {},
   "outputs": [
    {
     "data": {
      "text/plain": [
       "User Name\n",
       "chingte         577\n",
       "houyuih         342\n",
       "DoctorKoWJ      292\n",
       "TerryGou1018    161\n",
       "Name: count, dtype: int64"
      ]
     },
     "execution_count": 148,
     "metadata": {},
     "output_type": "execute_result"
    }
   ],
   "source": [
    "#check values in Page Name User Name of labelling_df\n",
    "labelling_df['User Name'].value_counts()\n"
   ]
  },
  {
   "cell_type": "code",
   "execution_count": 149,
   "metadata": {},
   "outputs": [
    {
     "name": "stderr",
     "output_type": "stream",
     "text": [
      "/var/folders/kf/vzjyh1g17x3gw7hgly31fnc80000gn/T/ipykernel_35348/4173323438.py:2: SettingWithCopyWarning: \n",
      "A value is trying to be set on a copy of a slice from a DataFrame.\n",
      "Try using .loc[row_indexer,col_indexer] = value instead\n",
      "\n",
      "See the caveats in the documentation: https://pandas.pydata.org/pandas-docs/stable/user_guide/indexing.html#returning-a-view-versus-a-copy\n",
      "  labelling_df['mention_other'] = ''\n",
      "/var/folders/kf/vzjyh1g17x3gw7hgly31fnc80000gn/T/ipykernel_35348/4173323438.py:4: SettingWithCopyWarning: \n",
      "A value is trying to be set on a copy of a slice from a DataFrame.\n",
      "Try using .loc[row_indexer,col_indexer] = value instead\n",
      "\n",
      "See the caveats in the documentation: https://pandas.pydata.org/pandas-docs/stable/user_guide/indexing.html#returning-a-view-versus-a-copy\n",
      "  labelling_df['mentioned_other'] = ''\n",
      "/var/folders/kf/vzjyh1g17x3gw7hgly31fnc80000gn/T/ipykernel_35348/4173323438.py:6: SettingWithCopyWarning: \n",
      "A value is trying to be set on a copy of a slice from a DataFrame.\n",
      "Try using .loc[row_indexer,col_indexer] = value instead\n",
      "\n",
      "See the caveats in the documentation: https://pandas.pydata.org/pandas-docs/stable/user_guide/indexing.html#returning-a-view-versus-a-copy\n",
      "  labelling_df['attack'] = ''\n",
      "/var/folders/kf/vzjyh1g17x3gw7hgly31fnc80000gn/T/ipykernel_35348/4173323438.py:8: SettingWithCopyWarning: \n",
      "A value is trying to be set on a copy of a slice from a DataFrame.\n",
      "Try using .loc[row_indexer,col_indexer] = value instead\n",
      "\n",
      "See the caveats in the documentation: https://pandas.pydata.org/pandas-docs/stable/user_guide/indexing.html#returning-a-view-versus-a-copy\n",
      "  labelling_df['target'] = ''\n",
      "/var/folders/kf/vzjyh1g17x3gw7hgly31fnc80000gn/T/ipykernel_35348/4173323438.py:10: SettingWithCopyWarning: \n",
      "A value is trying to be set on a copy of a slice from a DataFrame.\n",
      "Try using .loc[row_indexer,col_indexer] = value instead\n",
      "\n",
      "See the caveats in the documentation: https://pandas.pydata.org/pandas-docs/stable/user_guide/indexing.html#returning-a-view-versus-a-copy\n",
      "  labelling_df['description'] = ''\n"
     ]
    }
   ],
   "source": [
    "#create a new column called 'mention_other' that is empty\n",
    "labelling_df['mention_other'] = ''\n",
    "#and another one called 'mentioned_other' that is empty\n",
    "labelling_df['mentioned_other'] = ''\n",
    "#and another one called 'attack' that is empty\n",
    "labelling_df['attack'] = ''\n",
    "#and another one called 'target' that is empty\n",
    "labelling_df['target'] = ''\n",
    "#add another one called 'description' that is empty\n",
    "labelling_df['description'] = ''"
   ]
  },
  {
   "cell_type": "code",
   "execution_count": 150,
   "metadata": {},
   "outputs": [],
   "source": [
    "#split labelling df in 4 different dfs based on User Name\n",
    "ke_df = labelling_df[labelling_df['User Name'] == 'DoctorKoWJ']\n",
    "lai_df = labelling_df[labelling_df['User Name'] == 'chingte']\n",
    "hou_df = labelling_df[labelling_df['User Name'] == 'houyuih']\n",
    "terry_df= labelling_df[labelling_df['User Name'] == 'TerryGou1018']\n"
   ]
  },
  {
   "cell_type": "code",
   "execution_count": 151,
   "metadata": {},
   "outputs": [
    {
     "name": "stderr",
     "output_type": "stream",
     "text": [
      "/var/folders/kf/vzjyh1g17x3gw7hgly31fnc80000gn/T/ipykernel_35348/1146711272.py:16: SettingWithCopyWarning: \n",
      "A value is trying to be set on a copy of a slice from a DataFrame.\n",
      "Try using .loc[row_indexer,col_indexer] = value instead\n",
      "\n",
      "See the caveats in the documentation: https://pandas.pydata.org/pandas-docs/stable/user_guide/indexing.html#returning-a-view-versus-a-copy\n",
      "  lai_df['mentioned_other'] = lai_df['combined_text'].apply(check_terms)\n",
      "/var/folders/kf/vzjyh1g17x3gw7hgly31fnc80000gn/T/ipykernel_35348/1146711272.py:18: SettingWithCopyWarning: \n",
      "A value is trying to be set on a copy of a slice from a DataFrame.\n",
      "Try using .loc[row_indexer,col_indexer] = value instead\n",
      "\n",
      "See the caveats in the documentation: https://pandas.pydata.org/pandas-docs/stable/user_guide/indexing.html#returning-a-view-versus-a-copy\n",
      "  lai_df['mentioned_other'] = lai_df['mentioned_other'].apply(lambda x: ', '.join(x) if x else 'no')\n",
      "/var/folders/kf/vzjyh1g17x3gw7hgly31fnc80000gn/T/ipykernel_35348/1146711272.py:21: SettingWithCopyWarning: \n",
      "A value is trying to be set on a copy of a slice from a DataFrame.\n",
      "Try using .loc[row_indexer,col_indexer] = value instead\n",
      "\n",
      "See the caveats in the documentation: https://pandas.pydata.org/pandas-docs/stable/user_guide/indexing.html#returning-a-view-versus-a-copy\n",
      "  lai_df['mention_other'] = lai_df['mentioned_other'].apply(lambda x: 'yes' if x != 'no' else 'no')\n"
     ]
    },
    {
     "data": {
      "text/plain": [
       "mention_other\n",
       "no     513\n",
       "yes     64\n",
       "Name: count, dtype: int64"
      ]
     },
     "execution_count": 151,
     "metadata": {},
     "output_type": "execute_result"
    }
   ],
   "source": [
    "#賴清德\n",
    "# List of terms to check for in the 'combined_text' column\n",
    "terms_to_check = [\"侯\", \"國民黨\", \"民眾黨\", \"柯\", \"郭\", \"藍白\", \"吳\", \n",
    "                  \"馬前總統\", \"馬英九\", \"朱\", \"趙\", \"賴佩霞\", \"在野黨\", \n",
    "                  \"藍營\", \"主流民意大聯盟\"] \n",
    "\n",
    "# Function to check for all terms present in the 'combined_text' column\n",
    "def check_terms(text):\n",
    "    hits = []\n",
    "    for term in terms_to_check:\n",
    "        if term in text:\n",
    "            hits.append(term)\n",
    "    return hits\n",
    "\n",
    "# Apply the function to create the 'mentioned_other' column for the entire DataFrame\n",
    "lai_df['mentioned_other'] = lai_df['combined_text'].apply(check_terms)\n",
    "# Convert the list of hits to a comma-separated string\n",
    "lai_df['mentioned_other'] = lai_df['mentioned_other'].apply(lambda x: ', '.join(x) if x else 'no')\n",
    "\n",
    "# Fill the mention_other column with 'yes' if the mentioned_other column contains any value other than 'no'.\n",
    "lai_df['mention_other'] = lai_df['mentioned_other'].apply(lambda x: 'yes' if x != 'no' else 'no') \n",
    "\n",
    "#count number of 'yes' in mention_other column\n",
    "lai_df['mention_other'].value_counts()\n"
   ]
  },
  {
   "cell_type": "code",
   "execution_count": 152,
   "metadata": {},
   "outputs": [
    {
     "name": "stderr",
     "output_type": "stream",
     "text": [
      "/var/folders/kf/vzjyh1g17x3gw7hgly31fnc80000gn/T/ipykernel_35348/1303663492.py:17: SettingWithCopyWarning: \n",
      "A value is trying to be set on a copy of a slice from a DataFrame.\n",
      "Try using .loc[row_indexer,col_indexer] = value instead\n",
      "\n",
      "See the caveats in the documentation: https://pandas.pydata.org/pandas-docs/stable/user_guide/indexing.html#returning-a-view-versus-a-copy\n",
      "  ke_df['mentioned_other'] = ke_df['combined_text'].apply(check_terms)\n",
      "/var/folders/kf/vzjyh1g17x3gw7hgly31fnc80000gn/T/ipykernel_35348/1303663492.py:19: SettingWithCopyWarning: \n",
      "A value is trying to be set on a copy of a slice from a DataFrame.\n",
      "Try using .loc[row_indexer,col_indexer] = value instead\n",
      "\n",
      "See the caveats in the documentation: https://pandas.pydata.org/pandas-docs/stable/user_guide/indexing.html#returning-a-view-versus-a-copy\n",
      "  ke_df['mentioned_other'] = ke_df['mentioned_other'].apply(lambda x: ', '.join(x) if x else 'no')\n",
      "/var/folders/kf/vzjyh1g17x3gw7hgly31fnc80000gn/T/ipykernel_35348/1303663492.py:22: SettingWithCopyWarning: \n",
      "A value is trying to be set on a copy of a slice from a DataFrame.\n",
      "Try using .loc[row_indexer,col_indexer] = value instead\n",
      "\n",
      "See the caveats in the documentation: https://pandas.pydata.org/pandas-docs/stable/user_guide/indexing.html#returning-a-view-versus-a-copy\n",
      "  ke_df['mention_other'] = ke_df['mentioned_other'].apply(lambda x: 'yes' if x != 'no' else 'no')\n"
     ]
    },
    {
     "data": {
      "text/plain": [
       "mention_other\n",
       "no     180\n",
       "yes    112\n",
       "Name: count, dtype: int64"
      ]
     },
     "execution_count": 152,
     "metadata": {},
     "output_type": "execute_result"
    }
   ],
   "source": [
    "#柯文哲\n",
    "# List of terms to check for in the 'combined_text' column\n",
    "terms_to_check = [\"民進黨\", \"民主進步黨\", \"賴\", \"侯\", \"國民黨\", \n",
    "                  \"郭\", \"藍白\", \"蕭\", \"蔡\", \"馬前總統\", \"馬英九\", \n",
    "                  \"朱\", \"趙\", \"賴佩霞\", \"藍綠\", \"執政黨\", \"藍營\", \"綠營\", \n",
    "                  \"主流民意大聯盟\"] \n",
    "\n",
    "# Function to check for all terms present in the 'combined_text' column\n",
    "def check_terms(text):\n",
    "    hits = []\n",
    "    for term in terms_to_check:\n",
    "        if term in text:\n",
    "            hits.append(term)\n",
    "    return hits\n",
    "\n",
    "# Apply the function to create the 'mentioned_other' column for the entire DataFrame\n",
    "ke_df['mentioned_other'] = ke_df['combined_text'].apply(check_terms)\n",
    "# Convert the list of hits to a comma-separated string\n",
    "ke_df['mentioned_other'] = ke_df['mentioned_other'].apply(lambda x: ', '.join(x) if x else 'no')\n",
    "\n",
    "# Fill the mention_other column with 'yes' if the mentioned_other column contains any value other than 'no'.\n",
    "ke_df['mention_other'] = ke_df['mentioned_other'].apply(lambda x: 'yes' if x != 'no' else 'no') \n",
    "\n",
    "#count number of 'yes' in mention_other column\n",
    "ke_df['mention_other'].value_counts()"
   ]
  },
  {
   "cell_type": "code",
   "execution_count": 153,
   "metadata": {},
   "outputs": [
    {
     "name": "stderr",
     "output_type": "stream",
     "text": [
      "/var/folders/kf/vzjyh1g17x3gw7hgly31fnc80000gn/T/ipykernel_35348/733644877.py:16: SettingWithCopyWarning: \n",
      "A value is trying to be set on a copy of a slice from a DataFrame.\n",
      "Try using .loc[row_indexer,col_indexer] = value instead\n",
      "\n",
      "See the caveats in the documentation: https://pandas.pydata.org/pandas-docs/stable/user_guide/indexing.html#returning-a-view-versus-a-copy\n",
      "  hou_df['mentioned_other'] = hou_df['combined_text'].apply(check_terms)\n",
      "/var/folders/kf/vzjyh1g17x3gw7hgly31fnc80000gn/T/ipykernel_35348/733644877.py:18: SettingWithCopyWarning: \n",
      "A value is trying to be set on a copy of a slice from a DataFrame.\n",
      "Try using .loc[row_indexer,col_indexer] = value instead\n",
      "\n",
      "See the caveats in the documentation: https://pandas.pydata.org/pandas-docs/stable/user_guide/indexing.html#returning-a-view-versus-a-copy\n",
      "  hou_df['mentioned_other'] = hou_df['mentioned_other'].apply(lambda x: ', '.join(x) if x else 'no')\n",
      "/var/folders/kf/vzjyh1g17x3gw7hgly31fnc80000gn/T/ipykernel_35348/733644877.py:21: SettingWithCopyWarning: \n",
      "A value is trying to be set on a copy of a slice from a DataFrame.\n",
      "Try using .loc[row_indexer,col_indexer] = value instead\n",
      "\n",
      "See the caveats in the documentation: https://pandas.pydata.org/pandas-docs/stable/user_guide/indexing.html#returning-a-view-versus-a-copy\n",
      "  hou_df['mention_other'] = hou_df['mentioned_other'].apply(lambda x: 'yes' if x != 'no' else 'no')\n"
     ]
    },
    {
     "data": {
      "text/plain": [
       "mention_other\n",
       "no     212\n",
       "yes    130\n",
       "Name: count, dtype: int64"
      ]
     },
     "execution_count": 153,
     "metadata": {},
     "output_type": "execute_result"
    }
   ],
   "source": [
    "#侯友宜\n",
    "\n",
    "# List of terms to check for in the 'combined_text' column\n",
    "terms_to_check = [\"民進黨\", \"民主進步黨\", \"民眾黨\", \"柯\", \"郭\", \"賴\", \"藍白\", \n",
    "                  \"蕭\", \"蔡\", \"賴佩霞\", \"執政黨\", \"主流民意大聯盟\", \"吳\", \"綠營\"] \n",
    "\n",
    "# Function to check for all terms present in the 'combined_text' column\n",
    "def check_terms(text):\n",
    "    hits = []\n",
    "    for term in terms_to_check:\n",
    "        if term in text:\n",
    "            hits.append(term)\n",
    "    return hits\n",
    "\n",
    "# Apply the function to create the 'mentioned_other' column for the entire DataFrame\n",
    "hou_df['mentioned_other'] = hou_df['combined_text'].apply(check_terms)\n",
    "# Convert the list of hits to a comma-separated string\n",
    "hou_df['mentioned_other'] = hou_df['mentioned_other'].apply(lambda x: ', '.join(x) if x else 'no')\n",
    "\n",
    "# Fill the mention_other column with 'yes' if the mentioned_other column contains any value other than 'no'.\n",
    "hou_df['mention_other'] = hou_df['mentioned_other'].apply(lambda x: 'yes' if x != 'no' else 'no') \n",
    "\n",
    "#count number of 'yes' in mention_other column\n",
    "hou_df['mention_other'].value_counts()"
   ]
  },
  {
   "cell_type": "code",
   "execution_count": 154,
   "metadata": {},
   "outputs": [
    {
     "name": "stderr",
     "output_type": "stream",
     "text": [
      "/var/folders/kf/vzjyh1g17x3gw7hgly31fnc80000gn/T/ipykernel_35348/808821238.py:17: SettingWithCopyWarning: \n",
      "A value is trying to be set on a copy of a slice from a DataFrame.\n",
      "Try using .loc[row_indexer,col_indexer] = value instead\n",
      "\n",
      "See the caveats in the documentation: https://pandas.pydata.org/pandas-docs/stable/user_guide/indexing.html#returning-a-view-versus-a-copy\n",
      "  terry_df['mentioned_other'] = terry_df['combined_text'].apply(check_terms)\n",
      "/var/folders/kf/vzjyh1g17x3gw7hgly31fnc80000gn/T/ipykernel_35348/808821238.py:19: SettingWithCopyWarning: \n",
      "A value is trying to be set on a copy of a slice from a DataFrame.\n",
      "Try using .loc[row_indexer,col_indexer] = value instead\n",
      "\n",
      "See the caveats in the documentation: https://pandas.pydata.org/pandas-docs/stable/user_guide/indexing.html#returning-a-view-versus-a-copy\n",
      "  terry_df['mentioned_other'] = terry_df['mentioned_other'].apply(lambda x: ', '.join(x) if x else 'no')\n",
      "/var/folders/kf/vzjyh1g17x3gw7hgly31fnc80000gn/T/ipykernel_35348/808821238.py:22: SettingWithCopyWarning: \n",
      "A value is trying to be set on a copy of a slice from a DataFrame.\n",
      "Try using .loc[row_indexer,col_indexer] = value instead\n",
      "\n",
      "See the caveats in the documentation: https://pandas.pydata.org/pandas-docs/stable/user_guide/indexing.html#returning-a-view-versus-a-copy\n",
      "  terry_df['mention_other'] = terry_df['mentioned_other'].apply(lambda x: 'yes' if x != 'no' else 'no')\n"
     ]
    },
    {
     "data": {
      "text/plain": [
       "mention_other\n",
       "yes    102\n",
       "no      59\n",
       "Name: count, dtype: int64"
      ]
     },
     "execution_count": 154,
     "metadata": {},
     "output_type": "execute_result"
    }
   ],
   "source": [
    "#郭台銘\n",
    "\n",
    "# List of terms to check for in the 'combined_text' column\n",
    "terms_to_check = [\"民進黨\", \"民主進步黨\", \"賴\", \"侯\", \"國民黨\", \"藍白\", \"蔡\",  \n",
    "                  \"馬前總統\", \"馬英九\", \"朱\", \"趙\", \"民眾黨\", \"執政黨\", \n",
    "                 \"藍營\", \"綠營\", \"主流民意大聯盟\", \"吳\", \"蕭\", \"柯\"] \n",
    "\n",
    "# Function to check for all terms present in the 'combined_text' column\n",
    "def check_terms(text):\n",
    "    hits = []\n",
    "    for term in terms_to_check:\n",
    "        if term in text:\n",
    "            hits.append(term)\n",
    "    return hits\n",
    "\n",
    "# Apply the function to create the 'mentioned_other' column for the entire DataFrame\n",
    "terry_df['mentioned_other'] = terry_df['combined_text'].apply(check_terms)\n",
    "# Convert the list of hits to a comma-separated string\n",
    "terry_df['mentioned_other'] = terry_df['mentioned_other'].apply(lambda x: ', '.join(x) if x else 'no')\n",
    "\n",
    "# Fill the mention_other column with 'yes' if the mentioned_other column contains any value other than 'no'.\n",
    "terry_df['mention_other'] = terry_df['mentioned_other'].apply(lambda x: 'yes' if x != 'no' else 'no') \n",
    "\n",
    "#count number of 'yes' in mention_other column\n",
    "terry_df['mention_other'].value_counts()"
   ]
  },
  {
   "cell_type": "code",
   "execution_count": 155,
   "metadata": {},
   "outputs": [
    {
     "data": {
      "text/plain": [
       "Type\n",
       "Photo           1032\n",
       "Native Video     158\n",
       "Status            47\n",
       "YouTube            2\n",
       "Link               1\n",
       "Name: count, dtype: int64"
      ]
     },
     "execution_count": 155,
     "metadata": {},
     "output_type": "execute_result"
    }
   ],
   "source": [
    "#show values for the Type column \n",
    "filtered_df['Type'].value_counts()\n",
    "#delete the rows where Type = 'Live Video Complete' and 'Live Video Scheduled'\n",
    "filtered_df = filtered_df[filtered_df.Type != 'Live Video Complete']\n",
    "filtered_df = filtered_df[filtered_df.Type != 'Live Video Scheduled']\n",
    "filtered_df['Type'].value_counts()"
   ]
  },
  {
   "cell_type": "code",
   "execution_count": 156,
   "metadata": {},
   "outputs": [
    {
     "data": {
      "image/png": "[encoded data removed]",
      "text/plain": [
       "<Figure size 640x480 with 1 Axes>"
      ]
     },
     "metadata": {},
     "output_type": "display_data"
    }
   ],
   "source": [
    "import pandas as pd\n",
    "import matplotlib.pyplot as plt\n",
    "\n",
    "# Assuming terry_df, hou_df, ke_df, and lai_df are your DataFrames\n",
    "\n",
    "# Function to count 'yes' in the mention_other column\n",
    "def count_yes(df):\n",
    "    return df['mention_other'].value_counts().get('yes', 0)\n",
    "\n",
    "# List of DataFrames\n",
    "dfs = [terry_df, hou_df, ke_df, lai_df]\n",
    "\n",
    "# Count 'yes' for each DataFrame\n",
    "yes_counts = [count_yes(df) for df in dfs]\n",
    "\n",
    "# Plotting\n",
    "plt.bar(['Terry', 'Hou', 'Ke', 'Lai'], yes_counts, color='blue')\n",
    "plt.title('Number of \"yes\" in mention_other column per DataFrame')\n",
    "plt.xlabel('DataFrames')\n",
    "plt.ylabel('Count of \"yes\"')\n",
    "plt.show()\n",
    "\n"
   ]
  },
  {
   "cell_type": "code",
   "execution_count": 157,
   "metadata": {},
   "outputs": [
    {
     "name": "stdout",
     "output_type": "stream",
     "text": [
      "102\n",
      "130\n",
      "112\n",
      "64\n"
     ]
    }
   ],
   "source": [
    "#in all four dfs, drop the rows where mention_other is 'no'\n",
    "terry_df = terry_df[terry_df['mention_other'] != 'no']\n",
    "hou_df = hou_df[hou_df['mention_other'] != 'no']\n",
    "ke_df = ke_df[ke_df['mention_other'] != 'no']\n",
    "lai_df = lai_df[lai_df['mention_other'] != 'no']\n",
    "\n",
    "#print the number of rows per df \n",
    "print(len(terry_df))\n",
    "print(len(hou_df))\n",
    "print(len(ke_df))\n",
    "print(len(lai_df))"
   ]
  },
  {
   "cell_type": "code",
   "execution_count": 158,
   "metadata": {},
   "outputs": [],
   "source": [
    "#now merge the 4 dfs into one df called save_for_label_df\n",
    "save_for_label_df = pd.concat([terry_df, hou_df, ke_df, lai_df])"
   ]
  },
  {
   "cell_type": "code",
   "execution_count": null,
   "metadata": {},
   "outputs": [],
   "source": []
  },
  {
   "cell_type": "code",
   "execution_count": 159,
   "metadata": {},
   "outputs": [
    {
     "name": "stdout",
     "output_type": "stream",
     "text": [
      "1240\n"
     ]
    },
    {
     "data": {
      "text/plain": [
       "User Name\n",
       "chingte         518\n",
       "houyuih         318\n",
       "DoctorKoWJ      245\n",
       "TerryGou1018    159\n",
       "Name: count, dtype: int64"
      ]
     },
     "execution_count": 159,
     "metadata": {},
     "output_type": "execute_result"
    }
   ],
   "source": [
    "print(len(filtered_df))\n",
    "#print values for the User Name column\n",
    "filtered_df['User Name'].value_counts()"
   ]
  },
  {
   "attachments": {},
   "cell_type": "markdown",
   "metadata": {},
   "source": [
    "## save csv "
   ]
  },
  {
   "cell_type": "code",
   "execution_count": 160,
   "metadata": {},
   "outputs": [],
   "source": [
    "#save save_for_label_df as a csv \n",
    "#save_for_label_df.to_csv('/Users/jasperhewitt/Desktop/github_repos/Campaigning_101/data/save_for_label_df.csv')\n",
    "#save filtered_df as a csv\n",
    "#filtered_df.to_csv('/Users/jasperhewitt/Desktop/github_repos/Campaigning_101/data/filtered_df.csv')"
   ]
  },
  {
   "cell_type": "markdown",
   "metadata": {},
   "source": [
    "# cleaning new data to 13/01"
   ]
  },
  {
   "cell_type": "code",
   "execution_count": 161,
   "metadata": {},
   "outputs": [
    {
     "data": {
      "text/plain": [
       "390"
      ]
     },
     "execution_count": 161,
     "metadata": {},
     "output_type": "execute_result"
    }
   ],
   "source": [
    "df=pd.read_csv('/Users/jasperhewitt/Desktop/github_repos/Campaigning_101/data/original_crowdtangle_to_01_13.csv')\n",
    "len(df)"
   ]
  },
  {
   "cell_type": "code",
   "execution_count": 162,
   "metadata": {},
   "outputs": [
    {
     "name": "stdout",
     "output_type": "stream",
     "text": [
      "    Page Name User Name      Facebook Id Page Category Page Admin Top Country   \n",
      "2         侯友宜   houyuih  100044642490075    POLITICIAN                     TW  \\\n",
      "4         侯友宜   houyuih  100044642490075    POLITICIAN                     TW   \n",
      "5         侯友宜   houyuih  100044642490075    POLITICIAN                     TW   \n",
      "9         侯友宜   houyuih  100044642490075    POLITICIAN                     TW   \n",
      "14        侯友宜   houyuih  100044642490075    POLITICIAN                     TW   \n",
      "..        ...       ...              ...           ...                    ...   \n",
      "368       賴清德   chingte  100044573580122    POLITICIAN                     TW   \n",
      "374       賴清德   chingte  100044573580122    POLITICIAN                     TW   \n",
      "377       賴清德   chingte  100044573580122    POLITICIAN                     TW   \n",
      "381       賴清德   chingte  100044573580122    POLITICIAN                     TW   \n",
      "382       賴清德   chingte  100044573580122    POLITICIAN                     TW   \n",
      "\n",
      "          Page Description         Page Created  Likes at Posting   \n",
      "2               顧好台灣，人民好康！  2016-05-26 07:40:26            624404  \\\n",
      "4               顧好台灣，人民好康！  2016-05-26 07:40:26            624404   \n",
      "5               顧好台灣，人民好康！  2016-05-26 07:40:26            624404   \n",
      "9               顧好台灣，人民好康！  2016-05-26 07:40:26            623075   \n",
      "14              顧好台灣，人民好康！  2016-05-26 07:40:26            623075   \n",
      "..                     ...                  ...               ...   \n",
      "368  2020年5月20日宣誓就任第15任副總統  2010-12-15 08:29:54            831535   \n",
      "374  2020年5月20日宣誓就任第15任副總統  2010-12-15 08:29:54            831535   \n",
      "377  2020年5月20日宣誓就任第15任副總統  2010-12-15 08:29:54            831119   \n",
      "381  2020年5月20日宣誓就任第15任副總統  2010-12-15 08:29:54            831119   \n",
      "382  2020年5月20日宣誓就任第15任副總統  2010-12-15 08:29:54            831119   \n",
      "\n",
      "     Followers at Posting             Post Created  ...   \n",
      "2                  674954  2024-01-13 21:05:47 CST  ...  \\\n",
      "4                  674954  2024-01-13 17:02:20 CST  ...   \n",
      "5                  674954  2024-01-13 11:07:28 CST  ...   \n",
      "9                  673674  2024-01-12 23:04:30 CST  ...   \n",
      "14                 673674  2024-01-12 20:08:10 CST  ...   \n",
      "..                    ...                      ...  ...   \n",
      "368                867786  2023-12-16 20:44:40 CST  ...   \n",
      "374                867786  2023-12-16 14:26:09 CST  ...   \n",
      "377                867375  2023-12-15 21:09:52 CST  ...   \n",
      "381                867375  2023-12-15 10:00:54 CST  ...   \n",
      "382                867375  2023-12-15 09:31:33 CST  ...   \n",
      "\n",
      "                                               Message   \n",
      "2    全體國人朋友，大家晚安。 對於總統選舉的結果，我個人努力不夠，很遺憾未能完成政黨輪替，讓大家...  \\\n",
      "4                                   【Live直播】侯友宜趙少康開票之夜   \n",
      "5    各位鄉親好朋友早安，您投完票了嗎？ 剛剛跟許多鄉親，一起站在隊伍中等待投票，彼此之間，不談政...   \n",
      "9    藍白團結合作，終結綠色貪腐，藍白政黨合作，實現聯合政府！ 今晚，爆場的25萬名鄉親，用行動展...   \n",
      "14   剛剛同仁告訴我，還不到八點，所有鄉親已經塞爆板橋第一運動場外，而且還在持續湧入，感謝來自全國...   \n",
      "..                                                 ...   \n",
      "368  射出客家六箭，讓客家文化不僅是台灣的文化、更是世界的文化！ ​ 今天很高興來到桃園中壢，參加...   \n",
      "374  打造健康台灣，攜手共建溫暖公義的社會！ ​ 今天早上我參加「台灣兒童重症協會年會記者會」，衷...   \n",
      "377  挺夢想、顧國防，支持黃世杰、劉仁照！ ​ 選戰剩下不到 30天，今天我來到桃園，與黃世杰共同...   \n",
      "381  客家話，像是一杯溫暖醇厚的茶，有著美好的韻味，提醒著我們不忘根本、珍惜每一寸土地的溫情；客家...   \n",
      "382                【直播中】《Hakka Vug ha 四海大平安》 客家歌曲公布記者會   \n",
      "\n",
      "                                                  Link Final Link Image Text   \n",
      "2    https://www.facebook.com/photo.php?fbid=938347...        NaN        NaN  \\\n",
      "4    https://www.facebook.com/houyuih/videos/370353...        NaN        NaN   \n",
      "5    https://www.facebook.com/photo.php?fbid=938047...        NaN        NaN   \n",
      "9    https://www.facebook.com/photo.php?fbid=937762...        NaN        NaN   \n",
      "14   https://www.facebook.com/photo.php?fbid=937665...        NaN        NaN   \n",
      "..                                                 ...        ...        ...   \n",
      "368  https://www.facebook.com/photo.php?fbid=914725...        NaN        NaN   \n",
      "374  https://www.facebook.com/photo.php?fbid=914568...        NaN        NaN   \n",
      "377  https://www.facebook.com/photo.php?fbid=914146...        NaN        NaN   \n",
      "381  https://www.facebook.com/chingte/videos/309514...        NaN        NaN   \n",
      "382  https://www.facebook.com/chingte/videos/163736...        NaN        NaN   \n",
      "\n",
      "                               Link Text  Description  Sponsor Id   \n",
      "2                 Photos from 侯友宜's post          NaN         NaN  \\\n",
      "4                     【Live直播】侯友宜趙少康開票之夜          NaN         NaN   \n",
      "5                 Photos from 侯友宜's post          NaN         NaN   \n",
      "9                 Photos from 侯友宜's post          NaN         NaN   \n",
      "14                                   NaN          NaN         NaN   \n",
      "..                                   ...          ...         ...   \n",
      "368               Photos from 賴清德's post          NaN         NaN   \n",
      "374               Photos from 賴清德's post          NaN         NaN   \n",
      "377               Photos from 賴清德's post          NaN         NaN   \n",
      "381        《Hakka Vug ha 四海大平安》客家競選歌曲 MV          NaN         NaN   \n",
      "382  【直播中】《Hakka Vug ha 四海大平安》 客家歌曲公布記者會          NaN         NaN   \n",
      "\n",
      "     Sponsor Name  Sponsor Category   \n",
      "2             NaN               NaN  \\\n",
      "4             NaN               NaN   \n",
      "5             NaN               NaN   \n",
      "9             NaN               NaN   \n",
      "14            NaN               NaN   \n",
      "..            ...               ...   \n",
      "368           NaN               NaN   \n",
      "374           NaN               NaN   \n",
      "377           NaN               NaN   \n",
      "381           NaN               NaN   \n",
      "382           NaN               NaN   \n",
      "\n",
      "     Overperforming Score (weighted  —  Likes 1x Shares 1x Comments 1x Love 1x Wow 1x Haha 1x Sad 1x Angry 1x Care 1x )  \n",
      "2                                                 4.70                                                                   \n",
      "4                                                 2.48                                                                   \n",
      "5                                                 2.01                                                                   \n",
      "9                                                 2.21                                                                   \n",
      "14                                                5.12                                                                   \n",
      "..                                                 ...                                                                   \n",
      "368                                              -1.49                                                                   \n",
      "374                                              -1.23                                                                   \n",
      "377                                               1.00                                                                   \n",
      "381                                               7.28                                                                   \n",
      "382                                               1.17                                                                   \n",
      "\n",
      "[390 rows x 40 columns]\n"
     ]
    }
   ],
   "source": [
    "import pandas as pd\n",
    "\n",
    "# Assuming df is your DataFrame\n",
    "\n",
    "# Convert the \"Post Created Date\" column to datetime format\n",
    "df['Post Created Date'] = pd.to_datetime(df['Post Created Date'])\n",
    "\n",
    "# Filter for 侯友宜: 2023-05-17 and later\n",
    "df_hou = df[df['Page Name'] == '侯友宜'] #& (df['Post Created Date'] >= hou_dates)]\n",
    "\n",
    "# Filter for 柯文哲: 2023-05-16 and later\n",
    "df_ke = df[df['Page Name'] == '柯文哲'] #& (df['Post Created Date'] >= ke_dates)]\n",
    "\n",
    "# Filter for 郭台銘: 2023-08-28 to 2023-11-24\n",
    "#df_guo = df[(df['Page Name'] == '郭台銘') #& (df['Post Created Date'] >= guo_start_date) & (df['Post Created Date'] <= guo_end_date)]\n",
    "\n",
    "# Keep all posts for 賴清德 without date filtering\n",
    "df_lai = df[df['Page Name'] == '賴清德']\n",
    "\n",
    "# Concatenate the results\n",
    "filtered_df = pd.concat([df_hou, df_ke, df_lai])\n",
    "\n",
    "# Display the filtered DataFrame\n",
    "print(filtered_df)"
   ]
  },
  {
   "cell_type": "code",
   "execution_count": 163,
   "metadata": {},
   "outputs": [],
   "source": [
    "filtered_df = filtered_df.sort_values(by='Post Created')"
   ]
  },
  {
   "cell_type": "code",
   "execution_count": 164,
   "metadata": {},
   "outputs": [
    {
     "data": {
      "text/plain": [
       "288"
      ]
     },
     "execution_count": 164,
     "metadata": {},
     "output_type": "execute_result"
    }
   ],
   "source": [
    "#show values for the Type column \n",
    "filtered_df['Type'].value_counts()\n",
    "#delete the rows where Type = 'Live Video Complete' and 'Live Video Scheduled'\n",
    "filtered_df = filtered_df[filtered_df.Type != 'Live Video Complete']\n",
    "filtered_df = filtered_df[filtered_df.Type != 'Live Video Scheduled']\n",
    "filtered_df['Type'].value_counts()\n",
    "len(filtered_df)"
   ]
  },
  {
   "cell_type": "code",
   "execution_count": 165,
   "metadata": {},
   "outputs": [],
   "source": [
    "#delete first 5 rows \n",
    "filtered_df = filtered_df.iloc[5:]"
   ]
  },
  {
   "cell_type": "code",
   "execution_count": 166,
   "metadata": {},
   "outputs": [
    {
     "data": {
      "text/html": [
       "<div>\n",
       "<style scoped>\n",
       "    .dataframe tbody tr th:only-of-type {\n",
       "        vertical-align: middle;\n",
       "    }\n",
       "\n",
       "    .dataframe tbody tr th {\n",
       "        vertical-align: top;\n",
       "    }\n",
       "\n",
       "    .dataframe thead th {\n",
       "        text-align: right;\n",
       "    }\n",
       "</style>\n",
       "<table border=\"1\" class=\"dataframe\">\n",
       "  <thead>\n",
       "    <tr style=\"text-align: right;\">\n",
       "      <th></th>\n",
       "      <th>Page Name</th>\n",
       "      <th>User Name</th>\n",
       "      <th>Facebook Id</th>\n",
       "      <th>Page Category</th>\n",
       "      <th>Page Admin Top Country</th>\n",
       "      <th>Page Description</th>\n",
       "      <th>Page Created</th>\n",
       "      <th>Likes at Posting</th>\n",
       "      <th>Followers at Posting</th>\n",
       "      <th>Post Created</th>\n",
       "      <th>...</th>\n",
       "      <th>Message</th>\n",
       "      <th>Link</th>\n",
       "      <th>Final Link</th>\n",
       "      <th>Image Text</th>\n",
       "      <th>Link Text</th>\n",
       "      <th>Description</th>\n",
       "      <th>Sponsor Id</th>\n",
       "      <th>Sponsor Name</th>\n",
       "      <th>Sponsor Category</th>\n",
       "      <th>Overperforming Score (weighted  —  Likes 1x Shares 1x Comments 1x Love 1x Wow 1x Haha 1x Sad 1x Angry 1x Care 1x )</th>\n",
       "    </tr>\n",
       "  </thead>\n",
       "  <tbody>\n",
       "    <tr>\n",
       "      <th>383</th>\n",
       "      <td>柯文哲</td>\n",
       "      <td>DoctorKoWJ</td>\n",
       "      <td>100044470088043</td>\n",
       "      <td>PERSON</td>\n",
       "      <td>TW</td>\n",
       "      <td>現任台灣民眾黨主席，前臺北市市長、臺大醫院急診部醫師、臺大醫院創傷醫學部主任、臺大醫學院教授...</td>\n",
       "      <td>2011-10-20 12:27:28</td>\n",
       "      <td>2029227</td>\n",
       "      <td>2163211</td>\n",
       "      <td>2023-12-15 07:48:37 CST</td>\n",
       "      <td>...</td>\n",
       "      <td>大家敖早！ 今天去宜蘭～</td>\n",
       "      <td>https://www.facebook.com/photo.php?fbid=898016...</td>\n",
       "      <td>NaN</td>\n",
       "      <td>NaN</td>\n",
       "      <td>NaN</td>\n",
       "      <td>NaN</td>\n",
       "      <td>NaN</td>\n",
       "      <td>NaN</td>\n",
       "      <td>NaN</td>\n",
       "      <td>-2.31</td>\n",
       "    </tr>\n",
       "    <tr>\n",
       "      <th>381</th>\n",
       "      <td>賴清德</td>\n",
       "      <td>chingte</td>\n",
       "      <td>100044573580122</td>\n",
       "      <td>POLITICIAN</td>\n",
       "      <td>TW</td>\n",
       "      <td>2020年5月20日宣誓就任第15任副總統</td>\n",
       "      <td>2010-12-15 08:29:54</td>\n",
       "      <td>831119</td>\n",
       "      <td>867375</td>\n",
       "      <td>2023-12-15 10:00:54 CST</td>\n",
       "      <td>...</td>\n",
       "      <td>客家話，像是一杯溫暖醇厚的茶，有著美好的韻味，提醒著我們不忘根本、珍惜每一寸土地的溫情；客家...</td>\n",
       "      <td>https://www.facebook.com/chingte/videos/309514...</td>\n",
       "      <td>NaN</td>\n",
       "      <td>NaN</td>\n",
       "      <td>《Hakka Vug ha 四海大平安》客家競選歌曲 MV</td>\n",
       "      <td>NaN</td>\n",
       "      <td>NaN</td>\n",
       "      <td>NaN</td>\n",
       "      <td>NaN</td>\n",
       "      <td>7.28</td>\n",
       "    </tr>\n",
       "    <tr>\n",
       "      <th>380</th>\n",
       "      <td>柯文哲</td>\n",
       "      <td>DoctorKoWJ</td>\n",
       "      <td>100044470088043</td>\n",
       "      <td>PERSON</td>\n",
       "      <td>TW</td>\n",
       "      <td>現任台灣民眾黨主席，前臺北市市長、臺大醫院急診部醫師、臺大醫院創傷醫學部主任、臺大醫學院教授...</td>\n",
       "      <td>2011-10-20 12:27:28</td>\n",
       "      <td>2029520</td>\n",
       "      <td>2163488</td>\n",
       "      <td>2023-12-15 14:03:15 CST</td>\n",
       "      <td>...</td>\n",
       "      <td>新聞媒體絕不能成為當權者的禁臠，而是民意監督政府的利刃。 十年前，街頭站著一群滿懷熱血的民眾...</td>\n",
       "      <td>https://www.facebook.com/photo.php?fbid=898156...</td>\n",
       "      <td>NaN</td>\n",
       "      <td>NaN</td>\n",
       "      <td>NaN</td>\n",
       "      <td>NaN</td>\n",
       "      <td>NaN</td>\n",
       "      <td>NaN</td>\n",
       "      <td>NaN</td>\n",
       "      <td>-1.10</td>\n",
       "    </tr>\n",
       "  </tbody>\n",
       "</table>\n",
       "<p>3 rows × 40 columns</p>\n",
       "</div>"
      ],
      "text/plain": [
       "    Page Name   User Name      Facebook Id Page Category   \n",
       "383       柯文哲  DoctorKoWJ  100044470088043        PERSON  \\\n",
       "381       賴清德     chingte  100044573580122    POLITICIAN   \n",
       "380       柯文哲  DoctorKoWJ  100044470088043        PERSON   \n",
       "\n",
       "    Page Admin Top Country                                   Page Description   \n",
       "383                     TW  現任台灣民眾黨主席，前臺北市市長、臺大醫院急診部醫師、臺大醫院創傷醫學部主任、臺大醫學院教授...  \\\n",
       "381                     TW                              2020年5月20日宣誓就任第15任副總統   \n",
       "380                     TW  現任台灣民眾黨主席，前臺北市市長、臺大醫院急診部醫師、臺大醫院創傷醫學部主任、臺大醫學院教授...   \n",
       "\n",
       "            Page Created  Likes at Posting  Followers at Posting   \n",
       "383  2011-10-20 12:27:28           2029227               2163211  \\\n",
       "381  2010-12-15 08:29:54            831119                867375   \n",
       "380  2011-10-20 12:27:28           2029520               2163488   \n",
       "\n",
       "                Post Created  ...   \n",
       "383  2023-12-15 07:48:37 CST  ...  \\\n",
       "381  2023-12-15 10:00:54 CST  ...   \n",
       "380  2023-12-15 14:03:15 CST  ...   \n",
       "\n",
       "                                               Message   \n",
       "383                                       大家敖早！ 今天去宜蘭～  \\\n",
       "381  客家話，像是一杯溫暖醇厚的茶，有著美好的韻味，提醒著我們不忘根本、珍惜每一寸土地的溫情；客家...   \n",
       "380  新聞媒體絕不能成為當權者的禁臠，而是民意監督政府的利刃。 十年前，街頭站著一群滿懷熱血的民眾...   \n",
       "\n",
       "                                                  Link Final Link Image Text   \n",
       "383  https://www.facebook.com/photo.php?fbid=898016...        NaN        NaN  \\\n",
       "381  https://www.facebook.com/chingte/videos/309514...        NaN        NaN   \n",
       "380  https://www.facebook.com/photo.php?fbid=898156...        NaN        NaN   \n",
       "\n",
       "                         Link Text  Description  Sponsor Id  Sponsor Name   \n",
       "383                            NaN          NaN         NaN           NaN  \\\n",
       "381  《Hakka Vug ha 四海大平安》客家競選歌曲 MV          NaN         NaN           NaN   \n",
       "380                            NaN          NaN         NaN           NaN   \n",
       "\n",
       "     Sponsor Category   \n",
       "383               NaN  \\\n",
       "381               NaN   \n",
       "380               NaN   \n",
       "\n",
       "     Overperforming Score (weighted  —  Likes 1x Shares 1x Comments 1x Love 1x Wow 1x Haha 1x Sad 1x Angry 1x Care 1x )  \n",
       "383                                              -2.31                                                                   \n",
       "381                                               7.28                                                                   \n",
       "380                                              -1.10                                                                   \n",
       "\n",
       "[3 rows x 40 columns]"
      ]
     },
     "execution_count": 166,
     "metadata": {},
     "output_type": "execute_result"
    }
   ],
   "source": [
    "filtered_df.head(3)"
   ]
  },
  {
   "cell_type": "code",
   "execution_count": 167,
   "metadata": {},
   "outputs": [],
   "source": [
    "filtered_df.insert(0, 'serial_number', range(1, 1 + len(filtered_df)))"
   ]
  },
  {
   "cell_type": "code",
   "execution_count": 168,
   "metadata": {},
   "outputs": [],
   "source": [
    "#create a new column that combines the contents of Message, Image Text, and Description\n",
    "#delete the 'index' column\n",
    "filtered_df['combined_text'] = filtered_df['Message'].fillna('') + filtered_df['Image Text'].fillna('') + filtered_df['Description'].fillna('')"
   ]
  },
  {
   "cell_type": "code",
   "execution_count": 169,
   "metadata": {},
   "outputs": [],
   "source": [
    "#the first df only contains the columns serial_number, User Name, URL, Post Created, combined_text\n",
    "labelling_df = filtered_df[['serial_number', 'User Name', 'URL', 'Post Created', 'combined_text']]"
   ]
  },
  {
   "cell_type": "code",
   "execution_count": 170,
   "metadata": {},
   "outputs": [
    {
     "name": "stderr",
     "output_type": "stream",
     "text": [
      "/var/folders/kf/vzjyh1g17x3gw7hgly31fnc80000gn/T/ipykernel_35348/3381909687.py:5: SettingWithCopyWarning: \n",
      "A value is trying to be set on a copy of a slice from a DataFrame.\n",
      "Try using .loc[row_indexer,col_indexer] = value instead\n",
      "\n",
      "See the caveats in the documentation: https://pandas.pydata.org/pandas-docs/stable/user_guide/indexing.html#returning-a-view-versus-a-copy\n",
      "  labelling_df['mention_other'] = ''\n",
      "/var/folders/kf/vzjyh1g17x3gw7hgly31fnc80000gn/T/ipykernel_35348/3381909687.py:7: SettingWithCopyWarning: \n",
      "A value is trying to be set on a copy of a slice from a DataFrame.\n",
      "Try using .loc[row_indexer,col_indexer] = value instead\n",
      "\n",
      "See the caveats in the documentation: https://pandas.pydata.org/pandas-docs/stable/user_guide/indexing.html#returning-a-view-versus-a-copy\n",
      "  labelling_df['mentioned_other'] = ''\n",
      "/var/folders/kf/vzjyh1g17x3gw7hgly31fnc80000gn/T/ipykernel_35348/3381909687.py:9: SettingWithCopyWarning: \n",
      "A value is trying to be set on a copy of a slice from a DataFrame.\n",
      "Try using .loc[row_indexer,col_indexer] = value instead\n",
      "\n",
      "See the caveats in the documentation: https://pandas.pydata.org/pandas-docs/stable/user_guide/indexing.html#returning-a-view-versus-a-copy\n",
      "  labelling_df['attack'] = ''\n",
      "/var/folders/kf/vzjyh1g17x3gw7hgly31fnc80000gn/T/ipykernel_35348/3381909687.py:11: SettingWithCopyWarning: \n",
      "A value is trying to be set on a copy of a slice from a DataFrame.\n",
      "Try using .loc[row_indexer,col_indexer] = value instead\n",
      "\n",
      "See the caveats in the documentation: https://pandas.pydata.org/pandas-docs/stable/user_guide/indexing.html#returning-a-view-versus-a-copy\n",
      "  labelling_df['target'] = ''\n",
      "/var/folders/kf/vzjyh1g17x3gw7hgly31fnc80000gn/T/ipykernel_35348/3381909687.py:13: SettingWithCopyWarning: \n",
      "A value is trying to be set on a copy of a slice from a DataFrame.\n",
      "Try using .loc[row_indexer,col_indexer] = value instead\n",
      "\n",
      "See the caveats in the documentation: https://pandas.pydata.org/pandas-docs/stable/user_guide/indexing.html#returning-a-view-versus-a-copy\n",
      "  labelling_df['description'] = ''\n",
      "/var/folders/kf/vzjyh1g17x3gw7hgly31fnc80000gn/T/ipykernel_35348/3381909687.py:35: SettingWithCopyWarning: \n",
      "A value is trying to be set on a copy of a slice from a DataFrame.\n",
      "Try using .loc[row_indexer,col_indexer] = value instead\n",
      "\n",
      "See the caveats in the documentation: https://pandas.pydata.org/pandas-docs/stable/user_guide/indexing.html#returning-a-view-versus-a-copy\n",
      "  lai_df['mentioned_other'] = lai_df['combined_text'].apply(check_terms)\n",
      "/var/folders/kf/vzjyh1g17x3gw7hgly31fnc80000gn/T/ipykernel_35348/3381909687.py:37: SettingWithCopyWarning: \n",
      "A value is trying to be set on a copy of a slice from a DataFrame.\n",
      "Try using .loc[row_indexer,col_indexer] = value instead\n",
      "\n",
      "See the caveats in the documentation: https://pandas.pydata.org/pandas-docs/stable/user_guide/indexing.html#returning-a-view-versus-a-copy\n",
      "  lai_df['mentioned_other'] = lai_df['mentioned_other'].apply(lambda x: ', '.join(x) if x else 'no')\n",
      "/var/folders/kf/vzjyh1g17x3gw7hgly31fnc80000gn/T/ipykernel_35348/3381909687.py:40: SettingWithCopyWarning: \n",
      "A value is trying to be set on a copy of a slice from a DataFrame.\n",
      "Try using .loc[row_indexer,col_indexer] = value instead\n",
      "\n",
      "See the caveats in the documentation: https://pandas.pydata.org/pandas-docs/stable/user_guide/indexing.html#returning-a-view-versus-a-copy\n",
      "  lai_df['mention_other'] = lai_df['mentioned_other'].apply(lambda x: 'yes' if x != 'no' else 'no')\n",
      "/var/folders/kf/vzjyh1g17x3gw7hgly31fnc80000gn/T/ipykernel_35348/3381909687.py:61: SettingWithCopyWarning: \n",
      "A value is trying to be set on a copy of a slice from a DataFrame.\n",
      "Try using .loc[row_indexer,col_indexer] = value instead\n",
      "\n",
      "See the caveats in the documentation: https://pandas.pydata.org/pandas-docs/stable/user_guide/indexing.html#returning-a-view-versus-a-copy\n",
      "  ke_df['mentioned_other'] = ke_df['combined_text'].apply(check_terms)\n",
      "/var/folders/kf/vzjyh1g17x3gw7hgly31fnc80000gn/T/ipykernel_35348/3381909687.py:63: SettingWithCopyWarning: \n",
      "A value is trying to be set on a copy of a slice from a DataFrame.\n",
      "Try using .loc[row_indexer,col_indexer] = value instead\n",
      "\n",
      "See the caveats in the documentation: https://pandas.pydata.org/pandas-docs/stable/user_guide/indexing.html#returning-a-view-versus-a-copy\n",
      "  ke_df['mentioned_other'] = ke_df['mentioned_other'].apply(lambda x: ', '.join(x) if x else 'no')\n",
      "/var/folders/kf/vzjyh1g17x3gw7hgly31fnc80000gn/T/ipykernel_35348/3381909687.py:66: SettingWithCopyWarning: \n",
      "A value is trying to be set on a copy of a slice from a DataFrame.\n",
      "Try using .loc[row_indexer,col_indexer] = value instead\n",
      "\n",
      "See the caveats in the documentation: https://pandas.pydata.org/pandas-docs/stable/user_guide/indexing.html#returning-a-view-versus-a-copy\n",
      "  ke_df['mention_other'] = ke_df['mentioned_other'].apply(lambda x: 'yes' if x != 'no' else 'no')\n",
      "/var/folders/kf/vzjyh1g17x3gw7hgly31fnc80000gn/T/ipykernel_35348/3381909687.py:85: SettingWithCopyWarning: \n",
      "A value is trying to be set on a copy of a slice from a DataFrame.\n",
      "Try using .loc[row_indexer,col_indexer] = value instead\n",
      "\n",
      "See the caveats in the documentation: https://pandas.pydata.org/pandas-docs/stable/user_guide/indexing.html#returning-a-view-versus-a-copy\n",
      "  hou_df['mentioned_other'] = hou_df['combined_text'].apply(check_terms)\n",
      "/var/folders/kf/vzjyh1g17x3gw7hgly31fnc80000gn/T/ipykernel_35348/3381909687.py:87: SettingWithCopyWarning: \n",
      "A value is trying to be set on a copy of a slice from a DataFrame.\n",
      "Try using .loc[row_indexer,col_indexer] = value instead\n",
      "\n",
      "See the caveats in the documentation: https://pandas.pydata.org/pandas-docs/stable/user_guide/indexing.html#returning-a-view-versus-a-copy\n",
      "  hou_df['mentioned_other'] = hou_df['mentioned_other'].apply(lambda x: ', '.join(x) if x else 'no')\n",
      "/var/folders/kf/vzjyh1g17x3gw7hgly31fnc80000gn/T/ipykernel_35348/3381909687.py:90: SettingWithCopyWarning: \n",
      "A value is trying to be set on a copy of a slice from a DataFrame.\n",
      "Try using .loc[row_indexer,col_indexer] = value instead\n",
      "\n",
      "See the caveats in the documentation: https://pandas.pydata.org/pandas-docs/stable/user_guide/indexing.html#returning-a-view-versus-a-copy\n",
      "  hou_df['mention_other'] = hou_df['mentioned_other'].apply(lambda x: 'yes' if x != 'no' else 'no')\n"
     ]
    },
    {
     "data": {
      "image/png": "[encoded data removed]",
      "text/plain": [
       "<Figure size 640x480 with 1 Axes>"
      ]
     },
     "metadata": {},
     "output_type": "display_data"
    },
    {
     "name": "stdout",
     "output_type": "stream",
     "text": [
      "52\n",
      "41\n",
      "33\n"
     ]
    }
   ],
   "source": [
    "#check values in Page Name User Name of labelling_df\n",
    "labelling_df['User Name'].value_counts()\n",
    "\n",
    "#create a new column called 'mention_other' that is empty\n",
    "labelling_df['mention_other'] = ''\n",
    "#and another one called 'mentioned_other' that is empty\n",
    "labelling_df['mentioned_other'] = ''\n",
    "#and another one called 'attack' that is empty\n",
    "labelling_df['attack'] = ''\n",
    "#and another one called 'target' that is empty\n",
    "labelling_df['target'] = ''\n",
    "#add another one called 'description' that is empty\n",
    "labelling_df['description'] = ''\n",
    "#split labelling df in 4 different dfs based on User Name\n",
    "ke_df = labelling_df[labelling_df['User Name'] == 'DoctorKoWJ']\n",
    "lai_df = labelling_df[labelling_df['User Name'] == 'chingte']\n",
    "hou_df = labelling_df[labelling_df['User Name'] == 'houyuih']\n",
    "#terry_df= labelling_df[labelling_df['User Name'] == 'TerryGou1018']\n",
    "\n",
    "#賴清德\n",
    "# List of terms to check for in the 'combined_text' column\n",
    "terms_to_check = [\"侯\", \"國民黨\", \"民眾黨\", \"柯\", \"郭\", \"藍白\", \"吳\", \n",
    "                  \"馬前總統\", \"馬英九\", \"朱\", \"趙\", \"賴佩霞\", \"在野黨\", \n",
    "                  \"藍營\", \"主流民意大聯盟\"] \n",
    "\n",
    "# Function to check for all terms present in the 'combined_text' column\n",
    "def check_terms(text):\n",
    "    hits = []\n",
    "    for term in terms_to_check:\n",
    "        if term in text:\n",
    "            hits.append(term)\n",
    "    return hits\n",
    "\n",
    "# Apply the function to create the 'mentioned_other' column for the entire DataFrame\n",
    "lai_df['mentioned_other'] = lai_df['combined_text'].apply(check_terms)\n",
    "# Convert the list of hits to a comma-separated string\n",
    "lai_df['mentioned_other'] = lai_df['mentioned_other'].apply(lambda x: ', '.join(x) if x else 'no')\n",
    "\n",
    "# Fill the mention_other column with 'yes' if the mentioned_other column contains any value other than 'no'.\n",
    "lai_df['mention_other'] = lai_df['mentioned_other'].apply(lambda x: 'yes' if x != 'no' else 'no') \n",
    "\n",
    "#count number of 'yes' in mention_other column\n",
    "lai_df['mention_other'].value_counts()\n",
    "\n",
    "#柯文哲\n",
    "# List of terms to check for in the 'combined_text' column\n",
    "terms_to_check = [\"民進黨\", \"民主進步黨\", \"賴\", \"侯\", \"國民黨\", \n",
    "                  \"郭\", \"藍白\", \"蕭\", \"蔡\", \"馬前總統\", \"馬英九\", \n",
    "                  \"朱\", \"趙\", \"賴佩霞\", \"藍綠\", \"執政黨\", \"藍營\", \"綠營\", \n",
    "                  \"主流民意大聯盟\"] \n",
    "\n",
    "# Function to check for all terms present in the 'combined_text' column\n",
    "def check_terms(text):\n",
    "    hits = []\n",
    "    for term in terms_to_check:\n",
    "        if term in text:\n",
    "            hits.append(term)\n",
    "    return hits\n",
    "\n",
    "# Apply the function to create the 'mentioned_other' column for the entire DataFrame\n",
    "ke_df['mentioned_other'] = ke_df['combined_text'].apply(check_terms)\n",
    "# Convert the list of hits to a comma-separated string\n",
    "ke_df['mentioned_other'] = ke_df['mentioned_other'].apply(lambda x: ', '.join(x) if x else 'no')\n",
    "\n",
    "# Fill the mention_other column with 'yes' if the mentioned_other column contains any value other than 'no'.\n",
    "ke_df['mention_other'] = ke_df['mentioned_other'].apply(lambda x: 'yes' if x != 'no' else 'no') \n",
    "\n",
    "#count number of 'yes' in mention_other column\n",
    "ke_df['mention_other'].value_counts()\n",
    "#侯友宜\n",
    "\n",
    "# List of terms to check for in the 'combined_text' column\n",
    "terms_to_check = [\"民進黨\", \"民主進步黨\", \"民眾黨\", \"柯\", \"郭\", \"賴\", \"藍白\", \n",
    "                  \"蕭\", \"蔡\", \"賴佩霞\", \"執政黨\", \"主流民意大聯盟\", \"吳\", \"綠營\"] \n",
    "\n",
    "# Function to check for all terms present in the 'combined_text' column\n",
    "def check_terms(text):\n",
    "    hits = []\n",
    "    for term in terms_to_check:\n",
    "        if term in text:\n",
    "            hits.append(term)\n",
    "    return hits\n",
    "\n",
    "# Apply the function to create the 'mentioned_other' column for the entire DataFrame\n",
    "hou_df['mentioned_other'] = hou_df['combined_text'].apply(check_terms)\n",
    "# Convert the list of hits to a comma-separated string\n",
    "hou_df['mentioned_other'] = hou_df['mentioned_other'].apply(lambda x: ', '.join(x) if x else 'no')\n",
    "\n",
    "# Fill the mention_other column with 'yes' if the mentioned_other column contains any value other than 'no'.\n",
    "hou_df['mention_other'] = hou_df['mentioned_other'].apply(lambda x: 'yes' if x != 'no' else 'no') \n",
    "\n",
    "#count number of 'yes' in mention_other column\n",
    "hou_df['mention_other'].value_counts()\n",
    "#郭台銘\n",
    "\n",
    "# List of terms to check for in the 'combined_text' column\n",
    "# terms_to_check = [\"民進黨\", \"民主進步黨\", \"賴\", \"侯\", \"國民黨\", \"藍白\", \"蔡\",  \n",
    "#                   \"馬前總統\", \"馬英九\", \"朱\", \"趙\", \"民眾黨\", \"執政黨\", \n",
    "#                  \"藍營\", \"綠營\", \"主流民意大聯盟\", \"吳\", \"蕭\", \"柯\"] \n",
    "\n",
    "# # Function to check for all terms present in the 'combined_text' column\n",
    "# def check_terms(text):\n",
    "#     hits = []\n",
    "#     for term in terms_to_check:\n",
    "#         if term in text:\n",
    "#             hits.append(term)\n",
    "#     return hits\n",
    "\n",
    "# # Apply the function to create the 'mentioned_other' column for the entire DataFrame\n",
    "# terry_df['mentioned_other'] = terry_df['combined_text'].apply(check_terms)\n",
    "# # Convert the list of hits to a comma-separated string\n",
    "# terry_df['mentioned_other'] = terry_df['mentioned_other'].apply(lambda x: ', '.join(x) if x else 'no')\n",
    "\n",
    "# # Fill the mention_other column with 'yes' if the mentioned_other column contains any value other than 'no'.\n",
    "# terry_df['mention_other'] = terry_df['mentioned_other'].apply(lambda x: 'yes' if x != 'no' else 'no') \n",
    "\n",
    "# #count number of 'yes' in mention_other column\n",
    "# terry_df['mention_other'].value_counts()\n",
    "import pandas as pd\n",
    "import matplotlib.pyplot as plt\n",
    "\n",
    "# Assuming terry_df, hou_df, ke_df, and lai_df are your DataFrames\n",
    "\n",
    "# Function to count 'yes' in the mention_other column\n",
    "def count_yes(df):\n",
    "    return df['mention_other'].value_counts().get('yes', 0)\n",
    "\n",
    "# List of DataFrames\n",
    "dfs = [hou_df, ke_df, lai_df]\n",
    "\n",
    "# Count 'yes' for each DataFrame\n",
    "yes_counts = [count_yes(df) for df in dfs]\n",
    "\n",
    "# Plotting\n",
    "plt.bar(['Hou', 'Ke', 'Lai'], yes_counts, color='blue')\n",
    "plt.title('Number of \"yes\" in mention_other column per DataFrame')\n",
    "plt.xlabel('DataFrames')\n",
    "plt.ylabel('Count of \"yes\"')\n",
    "plt.show()\n",
    "#in all four dfs, drop the rows where mention_other is 'no'\n",
    "#terry_df = terry_df[terry_df['mention_other'] != 'no']\n",
    "hou_df = hou_df[hou_df['mention_other'] != 'no']\n",
    "ke_df = ke_df[ke_df['mention_other'] != 'no']\n",
    "lai_df = lai_df[lai_df['mention_other'] != 'no']\n",
    "\n",
    "#print the number of rows per df \n",
    "#print(len(terry_df))\n",
    "print(len(hou_df))\n",
    "print(len(ke_df))\n",
    "print(len(lai_df))\n",
    "#now merge the 4 dfs into one df called save_for_label_df\n",
    "save_for_label_df = pd.concat([hou_df, ke_df, lai_df])"
   ]
  },
  {
   "cell_type": "code",
   "execution_count": 17,
   "metadata": {},
   "outputs": [],
   "source": [
    "#save_for_label_df.to_csv('/Users/jasperhewitt/Desktop/github_repos/Campaigning_101/data/save_for_label_df_2.csv')"
   ]
  },
  {
   "cell_type": "code",
   "execution_count": 171,
   "metadata": {},
   "outputs": [
    {
     "data": {
      "text/plain": [
       "User Name\n",
       "chingte       103\n",
       "houyuih        94\n",
       "DoctorKoWJ     86\n",
       "Name: count, dtype: int64"
      ]
     },
     "execution_count": 171,
     "metadata": {},
     "output_type": "execute_result"
    }
   ],
   "source": [
    "#save filtered_df to csv \n",
    "#filtered_df.to_csv('/Users/jasperhewitt/Desktop/github_repos/Campaigning_101/data/filtered_df_2.csv')\n",
    "#check values filtered_df for User Name column\n",
    "\n",
    "filtered_df['User Name'].value_counts()"
   ]
  },
  {
   "cell_type": "code",
   "execution_count": 177,
   "metadata": {},
   "outputs": [
    {
     "data": {
      "text/plain": [
       "182"
      ]
     },
     "execution_count": 177,
     "metadata": {},
     "output_type": "execute_result"
    }
   ],
   "source": [
    "130+52"
   ]
  }
 ],
 "metadata": {
  "kernelspec": {
   "display_name": "Python 3",
   "language": "python",
   "name": "python3"
  },
  "language_info": {
   "codemirror_mode": {
    "name": "ipython",
    "version": 3
   },
   "file_extension": ".py",
   "mimetype": "text/x-python",
   "name": "python",
   "nbconvert_exporter": "python",
   "pygments_lexer": "ipython3",
   "version": "3.11.3"
  },
  "orig_nbformat": 4
 },
 "nbformat": 4,
 "nbformat_minor": 2
}
