{
 "cells": [
  {
   "attachments": {},
   "cell_type": "markdown",
   "metadata": {},
   "source": [
    "# cleaning data until 12/15"
   ]
  },
  {
   "cell_type": "code",
   "execution_count": 1,
   "metadata": {},
   "outputs": [],
   "source": [
    "import pandas as pd\n",
    "#read csv /Users/jasperhewitt/Desktop/github_repos/Campaigning_101/data/campaign_to_12_15.csv\n",
    "df=pd.read_csv('/Users/jasperhewitt/Desktop/github_repos/Campaigning_101/data/original_crowdtangle_to_12_15.csv')"
   ]
  },
  {
   "cell_type": "code",
   "execution_count": 2,
   "metadata": {},
   "outputs": [],
   "source": [
    "df = df.sort_values(by='Post Created')"
   ]
  },
  {
   "cell_type": "code",
   "execution_count": 3,
   "metadata": {},
   "outputs": [],
   "source": [
    "#create a new column on the left called serial_number that is just a number from 1 to however many rows there are. the column has to be ON THE LEFT\n"
   ]
  },
  {
   "cell_type": "code",
   "execution_count": 4,
   "metadata": {},
   "outputs": [
    {
     "data": {
      "text/plain": [
       "1591"
      ]
     },
     "execution_count": 4,
     "metadata": {},
     "output_type": "execute_result"
    }
   ],
   "source": [
    "#take out the dates before the other candidates were announced\n",
    "len(df)"
   ]
  },
  {
   "cell_type": "code",
   "execution_count": 5,
   "metadata": {},
   "outputs": [
    {
     "name": "stdout",
     "output_type": "stream",
     "text": [
      "     Page Name User Name      Facebook Id Page Category   \n",
      "152        侯友宜   houyuih  100044642490075    POLITICIAN  \\\n",
      "727        侯友宜   houyuih  100044642490075    POLITICIAN   \n",
      "1163       侯友宜   houyuih  100044642490075    POLITICIAN   \n",
      "483        侯友宜   houyuih  100044642490075    POLITICIAN   \n",
      "445        侯友宜   houyuih  100044642490075    POLITICIAN   \n",
      "...        ...       ...              ...           ...   \n",
      "18         賴清德   chingte  100044573580122    POLITICIAN   \n",
      "303        賴清德   chingte  100044573580122    POLITICIAN   \n",
      "939        賴清德   chingte  100044573580122    POLITICIAN   \n",
      "836        賴清德   chingte  100044573580122    POLITICIAN   \n",
      "1523       賴清德   chingte  100044573580122    POLITICIAN   \n",
      "\n",
      "     Page Admin Top Country       Page Description         Page Created   \n",
      "152                      TW             顧好台灣，人民好康！  2016-05-26 07:40:26  \\\n",
      "727                      TW             顧好台灣，人民好康！  2016-05-26 07:40:26   \n",
      "1163                     TW             顧好台灣，人民好康！  2016-05-26 07:40:26   \n",
      "483                      TW             顧好台灣，人民好康！  2016-05-26 07:40:26   \n",
      "445                      TW             顧好台灣，人民好康！  2016-05-26 07:40:26   \n",
      "...                     ...                    ...                  ...   \n",
      "18                       TW  2020年5月20日宣誓就任第15任副總統  2010-12-15 08:29:54   \n",
      "303                      TW  2020年5月20日宣誓就任第15任副總統  2010-12-15 08:29:54   \n",
      "939                      TW  2020年5月20日宣誓就任第15任副總統  2010-12-15 08:29:54   \n",
      "836                      TW  2020年5月20日宣誓就任第15任副總統  2010-12-15 08:29:54   \n",
      "1523                     TW  2020年5月20日宣誓就任第15任副總統  2010-12-15 08:29:54   \n",
      "\n",
      "      Likes at Posting  Followers at Posting             Post Created  ...   \n",
      "152             591317                629158  2023-05-17 16:07:19 CST  ...  \\\n",
      "727             592387                630278  2023-05-18 16:27:25 CST  ...   \n",
      "1163            592684                630579  2023-05-19 22:06:32 CST  ...   \n",
      "483             592911                630780  2023-05-20 15:54:14 CST  ...   \n",
      "445             593210                631074  2023-05-21 18:30:23 CST  ...   \n",
      "...                ...                   ...                      ...  ...   \n",
      "18              830148                866413  2023-12-12 10:11:57 CST  ...   \n",
      "303             830148                866413  2023-12-12 17:00:01 CST  ...   \n",
      "939             830502                866764  2023-12-13 15:07:18 CST  ...   \n",
      "836             830502                866764  2023-12-13 20:12:54 CST  ...   \n",
      "1523            831119                867375  2023-12-15 09:31:33 CST  ...   \n",
      "\n",
      "                                                   Link Final Link   \n",
      "152   https://www.facebook.com/photo.php?fbid=808201...        NaN  \\\n",
      "727   https://www.facebook.com/houyuih/videos/784024...        NaN   \n",
      "1163  https://www.facebook.com/photo.php?fbid=809454...        NaN   \n",
      "483   https://www.facebook.com/photo.php?fbid=809962...        NaN   \n",
      "445                                                 NaN        NaN   \n",
      "...                                                 ...        ...   \n",
      "18    https://www.facebook.com/chingte/videos/106019...        NaN   \n",
      "303   https://www.facebook.com/photo.php?fbid=912453...        NaN   \n",
      "939   https://www.facebook.com/photo.php?fbid=912941...        NaN   \n",
      "836   https://www.facebook.com/photo.php?fbid=913010...        NaN   \n",
      "1523  https://www.facebook.com/chingte/videos/163736...        NaN   \n",
      "\n",
      "                                             Image Text   \n",
      "152                                                 NaN  \\\n",
      "727                                                 NaN   \n",
      "1163                                                NaN   \n",
      "483                                                 NaN   \n",
      "445                                                 NaN   \n",
      "...                                                 ...   \n",
      "18                                                  NaN   \n",
      "303                                                 NaN   \n",
      "939                                                 NaN   \n",
      "836   TATA 台灣走向世界 世界擁抱台灣 戀想光協會 賴清德六大觀光政見 2024 2024#T...   \n",
      "1523                                                NaN   \n",
      "\n",
      "                                Link Text  Description  Sponsor Id   \n",
      "152                Photos from 侯友宜's post          NaN         NaN  \\\n",
      "727                                   NaN          NaN         NaN   \n",
      "1163                                  NaN          NaN         NaN   \n",
      "483                Photos from 侯友宜's post          NaN         NaN   \n",
      "445                                   NaN          NaN         NaN   \n",
      "...                                   ...          ...         ...   \n",
      "18            《世界的台灣》2024 賴清德 蕭美琴｜總統競選 CF          NaN         NaN   \n",
      "303                Photos from 賴清德's post          NaN         NaN   \n",
      "939                                   NaN          NaN         NaN   \n",
      "836                Photos from 賴清德's post          NaN         NaN   \n",
      "1523  【直播中】《Hakka Vug ha 四海大平安》 客家歌曲公布記者會          NaN         NaN   \n",
      "\n",
      "      Sponsor Name  Sponsor Category   \n",
      "152            NaN               NaN  \\\n",
      "727            NaN               NaN   \n",
      "1163           NaN               NaN   \n",
      "483            NaN               NaN   \n",
      "445            NaN               NaN   \n",
      "...            ...               ...   \n",
      "18             NaN               NaN   \n",
      "303            NaN               NaN   \n",
      "939            NaN               NaN   \n",
      "836            NaN               NaN   \n",
      "1523           NaN               NaN   \n",
      "\n",
      "      Total Interactions (weighted  —  Likes 1x Shares 1x Comments 1x Love 1x Wow 1x Haha 1x Sad 1x Angry 1x Care 1x )   \n",
      "152                                              29,171                                                                 \\\n",
      "727                                              10,376                                                                  \n",
      "1163                                              7,032                                                                  \n",
      "483                                              13,896                                                                  \n",
      "445                                              14,654                                                                  \n",
      "...                                                 ...                                                                  \n",
      "18                                               71,011                                                                  \n",
      "303                                              18,793                                                                  \n",
      "939                                               8,604                                                                  \n",
      "836                                               9,320                                                                  \n",
      "1523                                              4,317                                                                  \n",
      "\n",
      "      Overperforming Score  \n",
      "152                   2.14  \n",
      "727                   1.54  \n",
      "1163                 -1.32  \n",
      "483                  -1.00  \n",
      "445                   1.63  \n",
      "...                    ...  \n",
      "18                    8.93  \n",
      "303                   2.08  \n",
      "939                   1.00  \n",
      "836                   1.13  \n",
      "1523                 -1.31  \n",
      "\n",
      "[1372 rows x 41 columns]\n"
     ]
    }
   ],
   "source": [
    "import pandas as pd\n",
    "\n",
    "# Assuming df is your DataFrame\n",
    "\n",
    "# Convert the \"Post Created Date\" column to datetime format\n",
    "df['Post Created Date'] = pd.to_datetime(df['Post Created Date'])\n",
    "\n",
    "# Define the target dates for each candidate\n",
    "hou_dates = pd.to_datetime('2023-05-17')\n",
    "ke_dates = pd.to_datetime('2023-05-16')\n",
    "guo_start_date = pd.to_datetime('2023-08-28')\n",
    "guo_end_date = pd.to_datetime('2023-11-24')\n",
    "\n",
    "# Filter for 侯友宜: 2023-05-17 and later\n",
    "df_hou = df[(df['Page Name'] == '侯友宜') & (df['Post Created Date'] >= hou_dates)]\n",
    "\n",
    "# Filter for 柯文哲: 2023-05-16 and later\n",
    "df_ke = df[(df['Page Name'] == '柯文哲') & (df['Post Created Date'] >= ke_dates)]\n",
    "\n",
    "# Filter for 郭台銘: 2023-08-28 to 2023-11-24\n",
    "df_guo = df[(df['Page Name'] == '郭台銘') & (df['Post Created Date'] >= guo_start_date) & (df['Post Created Date'] <= guo_end_date)]\n",
    "\n",
    "# Keep all posts for 賴清德 without date filtering\n",
    "df_lai = df[df['Page Name'] == '賴清德']\n",
    "\n",
    "# Concatenate the results\n",
    "filtered_df = pd.concat([df_hou, df_ke, df_guo, df_lai])\n",
    "\n",
    "# Display the filtered DataFrame\n",
    "print(filtered_df)"
   ]
  },
  {
   "cell_type": "code",
   "execution_count": 6,
   "metadata": {},
   "outputs": [],
   "source": [
    "filtered_df = filtered_df.sort_values(by='Post Created')"
   ]
  },
  {
   "cell_type": "code",
   "execution_count": 7,
   "metadata": {},
   "outputs": [],
   "source": [
    "filtered_df.insert(0, 'serial_number', range(1, 1 + len(filtered_df)))"
   ]
  },
  {
   "attachments": {},
   "cell_type": "markdown",
   "metadata": {},
   "source": [
    "## merge columns and separate metadata from relevant columns"
   ]
  },
  {
   "cell_type": "code",
   "execution_count": 8,
   "metadata": {},
   "outputs": [
    {
     "data": {
      "text/plain": [
       "Index(['serial_number', 'Page Name', 'User Name', 'Facebook Id',\n",
       "       'Page Category', 'Page Admin Top Country', 'Page Description',\n",
       "       'Page Created', 'Likes at Posting', 'Followers at Posting',\n",
       "       'Post Created', 'Post Created Date', 'Post Created Time', 'Type',\n",
       "       'Total Interactions', 'Likes', 'Comments', 'Shares', 'Love', 'Wow',\n",
       "       'Haha', 'Sad', 'Angry', 'Care', 'Video Share Status', 'Is Video Owner?',\n",
       "       'Post Views', 'Total Views', 'Total Views For All Crossposts',\n",
       "       'Video Length', 'URL', 'Message', 'Link', 'Final Link', 'Image Text',\n",
       "       'Link Text', 'Description', 'Sponsor Id', 'Sponsor Name',\n",
       "       'Sponsor Category',\n",
       "       'Total Interactions (weighted  —  Likes 1x Shares 1x Comments 1x Love 1x Wow 1x Haha 1x Sad 1x Angry 1x Care 1x )',\n",
       "       'Overperforming Score'],\n",
       "      dtype='object')"
      ]
     },
     "execution_count": 8,
     "metadata": {},
     "output_type": "execute_result"
    }
   ],
   "source": [
    "filtered_df.columns"
   ]
  },
  {
   "cell_type": "code",
   "execution_count": 9,
   "metadata": {},
   "outputs": [],
   "source": [
    "#create a new column that combines the contents of Message, Image Text, and Description\n",
    "#delete the 'index' column\n",
    "filtered_df['combined_text'] = filtered_df['Message'].fillna('') + filtered_df['Image Text'].fillna('') + filtered_df['Description'].fillna('')"
   ]
  },
  {
   "cell_type": "code",
   "execution_count": 10,
   "metadata": {},
   "outputs": [],
   "source": [
    "#ok now seperate the data into 2 different dataframes.\n",
    "#the first df only contains the columns serial_number, User Name, URL, Post Created, combined_text\n",
    "labelling_df = filtered_df[['serial_number', 'User Name', 'URL', 'Post Created', 'combined_text']]"
   ]
  },
  {
   "cell_type": "code",
   "execution_count": 11,
   "metadata": {},
   "outputs": [],
   "source": [
    "#later we will have to save both labelling_df and filtered_df to a csv\n"
   ]
  },
  {
   "attachments": {},
   "cell_type": "markdown",
   "metadata": {},
   "source": [
    "# keyword search for relevant rows"
   ]
  },
  {
   "cell_type": "code",
   "execution_count": 13,
   "metadata": {},
   "outputs": [
    {
     "data": {
      "text/plain": [
       "User Name\n",
       "chingte         577\n",
       "houyuih         342\n",
       "DoctorKoWJ      292\n",
       "TerryGou1018    161\n",
       "Name: count, dtype: int64"
      ]
     },
     "execution_count": 13,
     "metadata": {},
     "output_type": "execute_result"
    }
   ],
   "source": [
    "#check values in Page Name User Name of labelling_df\n",
    "labelling_df['User Name'].value_counts()"
   ]
  },
  {
   "cell_type": "code",
   "execution_count": null,
   "metadata": {},
   "outputs": [],
   "source": [
    "#create a new column called 'mention_other' that is empty\n",
    "labelling_df['mention_other'] = ''\n",
    "#and another one called 'mentioned_other' that is empty\n",
    "labelling_df['mentioned_other'] = ''\n",
    "#and another one called 'attack' that is empty\n",
    "labelling_df['attack'] = ''\n",
    "#and another one called 'target' that is empty\n",
    "labelling_df['target'] = ''\n",
    "#add another one called 'description' that is empty\n",
    "labelling_df['description'] = ''"
   ]
  },
  {
   "cell_type": "code",
   "execution_count": 17,
   "metadata": {},
   "outputs": [
    {
     "name": "stdout",
     "output_type": "stream",
     "text": [
      "      serial_number   User Name   \n",
      "904               1     chingte  \\\n",
      "215               2     chingte   \n",
      "1580              3     chingte   \n",
      "104               4     chingte   \n",
      "1133              5     chingte   \n",
      "...             ...         ...   \n",
      "726            1368  DoctorKoWJ   \n",
      "1045           1369     houyuih   \n",
      "345            1370  DoctorKoWJ   \n",
      "1257           1371  DoctorKoWJ   \n",
      "1523           1372     chingte   \n",
      "\n",
      "                                                    URL   \n",
      "904   https://www.facebook.com/100044573580122/posts...  \\\n",
      "215   https://www.facebook.com/100044573580122/posts...   \n",
      "1580  https://www.facebook.com/100044573580122/posts...   \n",
      "104   https://www.facebook.com/100044573580122/posts...   \n",
      "1133  https://www.facebook.com/100044573580122/posts...   \n",
      "...                                                 ...   \n",
      "726   https://www.facebook.com/100044470088043/posts...   \n",
      "1045  https://www.facebook.com/100044642490075/posts...   \n",
      "345   https://www.facebook.com/100044470088043/posts...   \n",
      "1257  https://www.facebook.com/100044470088043/posts...   \n",
      "1523  https://www.facebook.com/100044573580122/posts...   \n",
      "\n",
      "                 Post Created   \n",
      "904   2023-04-12 11:00:09 CST  \\\n",
      "215   2023-04-12 14:30:59 CST   \n",
      "1580  2023-04-12 15:02:49 CST   \n",
      "104   2023-04-12 17:21:23 CST   \n",
      "1133  2023-04-12 21:00:41 CST   \n",
      "...                       ...   \n",
      "726   2023-12-14 19:00:19 CST   \n",
      "1045  2023-12-14 21:04:06 CST   \n",
      "345   2023-12-14 21:29:31 CST   \n",
      "1257  2023-12-15 07:48:37 CST   \n",
      "1523  2023-12-15 09:31:33 CST   \n",
      "\n",
      "                                          combined_text mention_other   \n",
      "904   歡迎「加拿大眾議院訪問團」來訪！ 感謝加拿大眾議院國防委員會馬凱（John McKay）主席...            no  \\\n",
      "215   挺台灣特效框：https://twb.nz/teamtaiwan2024挺台灣 TEAM T...            no   \n",
      "1580  大家午安！我正在 民主進步黨中央黨部，參加 2024 民主進步黨總統候選人提名記者會。 歡迎...            no   \n",
      "104   今天我很榮幸，能夠獲得 民主進步黨 提名，參選 2024 總統大選，肩負起守護台灣的使命，感...           yes   \n",
      "1133  團結勝選！Team Taiwan！挺台灣！ 2024 年的大選，將決定台灣的方向。我會連結社...            no   \n",
      "...                                                 ...           ...   \n",
      "726   金門「尚」好，選尚文凱 今天是我們提名的 金門尚好 尚文凱和我聯合競選總部成立的日子，雖然是...                 \n",
      "1045  一黨獨大，無法無天！ 十二億球場案、十六億小學案，誰喬的？ 強關中天電視、強過鏡電視案，誰要...                 \n",
      "345   就算我在金門，該出席的 #教育論壇 ，我絕不閃躲。 在行程的空檔，剛坐下來，幕僚就幫我準備好...                 \n",
      "1257                                       大家敖早！ 今天去宜蘭～                 \n",
      "1523                【直播中】《Hakka Vug ha 四海大平安》 客家歌曲公布記者會            no   \n",
      "\n",
      "     mentioned_other attack target description  \n",
      "904                                             \n",
      "215                                             \n",
      "1580                                            \n",
      "104                                             \n",
      "1133                                            \n",
      "...              ...    ...    ...         ...  \n",
      "726                                             \n",
      "1045                                            \n",
      "345                                             \n",
      "1257                                            \n",
      "1523                                            \n",
      "\n",
      "[1372 rows x 10 columns]\n"
     ]
    }
   ],
   "source": [
    "# 賴清德\n",
    "terms_to_check = [\"侯\", \"國民黨\", \"民眾黨\", \"柯\", \"郭\", \"藍白\", \"吳\", \n",
    "                  \"馬前總統\", \"馬英九\", \"朱\", \"趙\", \"賴佩霞\", \"在野黨\", \n",
    "                  \"藍營\", \"主流民意大聯盟\"] \n",
    "\n",
    "\n",
    "# Function to check if any term is present in the 'combined_text' column\n",
    "def check_terms(text):\n",
    "    for term in terms_to_check:\n",
    "        if term in text:\n",
    "            return 'yes'\n",
    "    return 'no'\n",
    "\n",
    "# Filter rows where 'User Name' is 'chingte'\n",
    "chingte_rows = labelling_df['User Name'] == 'chingte'\n",
    "\n",
    "# Apply the function to create the 'mention_other' column for 'chingte' rows only\n",
    "labelling_df.loc[chingte_rows, 'mention_other'] = labelling_df.loc[chingte_rows, 'combined_text'].apply(check_terms)\n",
    "\n",
    "# Print the updated DataFrame\n",
    "print(labelling_df)"
   ]
  },
  {
   "cell_type": "code",
   "execution_count": null,
   "metadata": {},
   "outputs": [],
   "source": [
    "import pandas as pd\n",
    "\n",
    "# Assuming labelling_df is your DataFrame\n",
    "\n",
    "# List of terms to check for in the 'combined_text' column\n",
    "terms_to_check = [\"侯\", \"國民黨\", \"民眾黨\", \"柯\", \"郭\", \"藍白\", \"吳\", \n",
    "                  \"馬前總統\", \"馬英九\", \"朱\", \"趙\", \"賴佩霞\", \"在野黨\", \n",
    "                  \"藍營\", \"主流民意大聯盟\"] \n",
    "\n",
    "# Function to check for all terms present in the 'combined_text' column\n",
    "def check_terms(text):\n",
    "    hits = []\n",
    "    for term in terms_to_check:\n",
    "        if term in text:\n",
    "            hits.append(term)\n",
    "    return hits\n",
    "\n",
    "# Filter rows where 'User Name' is 'chingte'\n",
    "chingte_rows = labelling_df['User Name'] == 'chingte'\n",
    "\n",
    "# Apply the function to create the 'mentioned_other' column for 'chingte' rows only\n",
    "labelling_df.loc[chingte_rows, 'mentioned_other'] = labelling_df.loc[chingte_rows, 'combined_text'].apply(check_terms)\n",
    "\n",
    "# Convert the list of hits to a comma-separated string\n",
    "labelling_df.loc[chingte_rows, 'mentioned_other'] = labelling_df.loc[chingte_rows, 'mentioned_other'].apply(lambda x: ', '.join(x) if x else 'no')\n",
    "\n",
    "# Print the updated DataFrame\n",
    "print(labelling_df)\n"
   ]
  },
  {
   "cell_type": "code",
   "execution_count": null,
   "metadata": {},
   "outputs": [],
   "source": [
    "import pandas as pd\n",
    "\n",
    "# Assuming labelling_df is your DataFrame\n",
    "\n",
    "# List of terms to check for in the 'combined_text' column\n",
    "terms_to_check = [\"侯\", \"國民黨\", \"民眾黨\", \"柯\", \"郭\", \"藍白\", \"吳\", \n",
    "                  \"馬前總統\", \"馬英九\", \"朱\", \"趙\", \"賴佩霞\", \"在野黨\", \n",
    "                  \"藍營\", \"主流民意大聯盟\"]  #吳 is causing a lot of unrelated search results\n",
    "                                          # I think it is just a very common name lol\n",
    "\n",
    "# Function to check for all terms present in the 'combined_text' column\n",
    "def check_terms(text):\n",
    "    hits = []\n",
    "    for term in terms_to_check:\n",
    "        if term in text:\n",
    "            hits.append(term)\n",
    "    return hits\n",
    "\n",
    "# Filter rows where 'User Name' is 'chingte'\n",
    "chingte_rows = labelling_df['User Name'] == 'chingte'\n",
    "\n",
    "# Apply the function to create the 'mentioned_other' column for 'chingte' rows only\n",
    "labelling_df.loc[chingte_rows, 'mentioned_other'] = labelling_df.loc[chingte_rows, 'combined_text'].apply(check_terms)\n",
    "\n",
    "# Convert the list of hits to a comma-separated string\n",
    "labelling_df.loc[chingte_rows, 'mentioned_other'] = labelling_df.loc[chingte_rows, 'mentioned_other'].apply(lambda x: ', '.join(x) if x else 'no')"
   ]
  },
  {
   "cell_type": "code",
   "execution_count": 19,
   "metadata": {},
   "outputs": [
    {
     "data": {
      "text/plain": [
       "mention_other\n",
       "       795\n",
       "no     513\n",
       "yes     64\n",
       "Name: count, dtype: int64"
      ]
     },
     "execution_count": 19,
     "metadata": {},
     "output_type": "execute_result"
    }
   ],
   "source": [
    "#count number of 'yes' in mention_other column\n",
    "labelling_df['mention_other'].value_counts()"
   ]
  }
 ],
 "metadata": {
  "kernelspec": {
   "display_name": "Python 3",
   "language": "python",
   "name": "python3"
  },
  "language_info": {
   "codemirror_mode": {
    "name": "ipython",
    "version": 3
   },
   "file_extension": ".py",
   "mimetype": "text/x-python",
   "name": "python",
   "nbconvert_exporter": "python",
   "pygments_lexer": "ipython3",
   "version": "3.11.3"
  },
  "orig_nbformat": 4
 },
 "nbformat": 4,
 "nbformat_minor": 2
}
