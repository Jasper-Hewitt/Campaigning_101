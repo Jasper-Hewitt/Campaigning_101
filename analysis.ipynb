{
 "cells": [
  {
   "cell_type": "code",
   "execution_count": 4,
   "metadata": {},
   "outputs": [],
   "source": [
    "import pandas as pd\n",
    "#read csv /Users/jasperhewitt/Desktop/github_repos/Campaigning_101/data/save_for_label_df_DONE_1.csv\n",
    "df_attack=pd.read_csv('/Users/jasperhewitt/Desktop/github_repos/Campaigning_101/data/save_for_label_df_DONE_1.csv')\n",
    "df_attack_2=pd.read_csv('/Users/jasperhewitt/Desktop/github_repos/Campaigning_101/data/save_for_label_df_DONE_2.csv')"
   ]
  },
  {
   "cell_type": "code",
   "execution_count": 5,
   "metadata": {},
   "outputs": [],
   "source": [
    "#add the two dataframes together\n",
    "df_attack = pd.concat([df_attack, df_attack_2])\n"
   ]
  },
  {
   "cell_type": "code",
   "execution_count": 6,
   "metadata": {},
   "outputs": [
    {
     "data": {
      "text/plain": [
       "544"
      ]
     },
     "execution_count": 6,
     "metadata": {},
     "output_type": "execute_result"
    }
   ],
   "source": [
    "len(df_attack)"
   ]
  },
  {
   "cell_type": "code",
   "execution_count": 7,
   "metadata": {},
   "outputs": [
    {
     "data": {
      "text/plain": [
       "attack\n",
       "yes    334\n",
       "no     210\n",
       "Name: count, dtype: int64"
      ]
     },
     "execution_count": 7,
     "metadata": {},
     "output_type": "execute_result"
    }
   ],
   "source": [
    "#check values in attack column\n",
    "df_attack['attack'].value_counts()"
   ]
  },
  {
   "cell_type": "code",
   "execution_count": 8,
   "metadata": {},
   "outputs": [],
   "source": [
    "#only keep the columns where 'attack' is 'yes'\n",
    "df_attack_yes=df_attack[df_attack['attack']=='yes']\n"
   ]
  },
  {
   "cell_type": "code",
   "execution_count": 9,
   "metadata": {},
   "outputs": [
    {
     "ename": "KeyError",
     "evalue": "'Type'",
     "output_type": "error",
     "traceback": [
      "\u001b[0;31m---------------------------------------------------------------------------\u001b[0m",
      "\u001b[0;31mKeyError\u001b[0m                                  Traceback (most recent call last)",
      "File \u001b[0;32m/Library/Frameworks/Python.framework/Versions/3.11/lib/python3.11/site-packages/pandas/core/indexes/base.py:3652\u001b[0m, in \u001b[0;36mIndex.get_loc\u001b[0;34m(self, key)\u001b[0m\n\u001b[1;32m   3651\u001b[0m \u001b[38;5;28;01mtry\u001b[39;00m:\n\u001b[0;32m-> 3652\u001b[0m     \u001b[38;5;28;01mreturn\u001b[39;00m \u001b[38;5;28;43mself\u001b[39;49m\u001b[38;5;241;43m.\u001b[39;49m\u001b[43m_engine\u001b[49m\u001b[38;5;241;43m.\u001b[39;49m\u001b[43mget_loc\u001b[49m\u001b[43m(\u001b[49m\u001b[43mcasted_key\u001b[49m\u001b[43m)\u001b[49m\n\u001b[1;32m   3653\u001b[0m \u001b[38;5;28;01mexcept\u001b[39;00m \u001b[38;5;167;01mKeyError\u001b[39;00m \u001b[38;5;28;01mas\u001b[39;00m err:\n",
      "File \u001b[0;32m/Library/Frameworks/Python.framework/Versions/3.11/lib/python3.11/site-packages/pandas/_libs/index.pyx:147\u001b[0m, in \u001b[0;36mpandas._libs.index.IndexEngine.get_loc\u001b[0;34m()\u001b[0m\n",
      "File \u001b[0;32m/Library/Frameworks/Python.framework/Versions/3.11/lib/python3.11/site-packages/pandas/_libs/index.pyx:176\u001b[0m, in \u001b[0;36mpandas._libs.index.IndexEngine.get_loc\u001b[0;34m()\u001b[0m\n",
      "File \u001b[0;32mpandas/_libs/hashtable_class_helper.pxi:7080\u001b[0m, in \u001b[0;36mpandas._libs.hashtable.PyObjectHashTable.get_item\u001b[0;34m()\u001b[0m\n",
      "File \u001b[0;32mpandas/_libs/hashtable_class_helper.pxi:7088\u001b[0m, in \u001b[0;36mpandas._libs.hashtable.PyObjectHashTable.get_item\u001b[0;34m()\u001b[0m\n",
      "\u001b[0;31mKeyError\u001b[0m: 'Type'",
      "\nThe above exception was the direct cause of the following exception:\n",
      "\u001b[0;31mKeyError\u001b[0m                                  Traceback (most recent call last)",
      "Cell \u001b[0;32mIn[9], line 2\u001b[0m\n\u001b[1;32m      1\u001b[0m \u001b[38;5;66;03m#df_attack_yes delete Type == 'Live Video Complete' and 'Live Video Scheduled'\u001b[39;00m\n\u001b[0;32m----> 2\u001b[0m df_attack_yes\u001b[38;5;241m=\u001b[39mdf_attack_yes[\u001b[43mdf_attack_yes\u001b[49m\u001b[43m[\u001b[49m\u001b[38;5;124;43m'\u001b[39;49m\u001b[38;5;124;43mType\u001b[39;49m\u001b[38;5;124;43m'\u001b[39;49m\u001b[43m]\u001b[49m\u001b[38;5;241m!=\u001b[39m\u001b[38;5;124m'\u001b[39m\u001b[38;5;124mLive Video Complete\u001b[39m\u001b[38;5;124m'\u001b[39m]\n\u001b[1;32m      3\u001b[0m df_attack_yes\u001b[38;5;241m=\u001b[39mdf_attack_yes[df_attack_yes[\u001b[38;5;124m'\u001b[39m\u001b[38;5;124mType\u001b[39m\u001b[38;5;124m'\u001b[39m]\u001b[38;5;241m!=\u001b[39m\u001b[38;5;124m'\u001b[39m\u001b[38;5;124mLive Video Scheduled\u001b[39m\u001b[38;5;124m'\u001b[39m]\n",
      "File \u001b[0;32m/Library/Frameworks/Python.framework/Versions/3.11/lib/python3.11/site-packages/pandas/core/frame.py:3760\u001b[0m, in \u001b[0;36mDataFrame.__getitem__\u001b[0;34m(self, key)\u001b[0m\n\u001b[1;32m   3758\u001b[0m \u001b[38;5;28;01mif\u001b[39;00m \u001b[38;5;28mself\u001b[39m\u001b[38;5;241m.\u001b[39mcolumns\u001b[38;5;241m.\u001b[39mnlevels \u001b[38;5;241m>\u001b[39m \u001b[38;5;241m1\u001b[39m:\n\u001b[1;32m   3759\u001b[0m     \u001b[38;5;28;01mreturn\u001b[39;00m \u001b[38;5;28mself\u001b[39m\u001b[38;5;241m.\u001b[39m_getitem_multilevel(key)\n\u001b[0;32m-> 3760\u001b[0m indexer \u001b[38;5;241m=\u001b[39m \u001b[38;5;28;43mself\u001b[39;49m\u001b[38;5;241;43m.\u001b[39;49m\u001b[43mcolumns\u001b[49m\u001b[38;5;241;43m.\u001b[39;49m\u001b[43mget_loc\u001b[49m\u001b[43m(\u001b[49m\u001b[43mkey\u001b[49m\u001b[43m)\u001b[49m\n\u001b[1;32m   3761\u001b[0m \u001b[38;5;28;01mif\u001b[39;00m is_integer(indexer):\n\u001b[1;32m   3762\u001b[0m     indexer \u001b[38;5;241m=\u001b[39m [indexer]\n",
      "File \u001b[0;32m/Library/Frameworks/Python.framework/Versions/3.11/lib/python3.11/site-packages/pandas/core/indexes/base.py:3654\u001b[0m, in \u001b[0;36mIndex.get_loc\u001b[0;34m(self, key)\u001b[0m\n\u001b[1;32m   3652\u001b[0m     \u001b[38;5;28;01mreturn\u001b[39;00m \u001b[38;5;28mself\u001b[39m\u001b[38;5;241m.\u001b[39m_engine\u001b[38;5;241m.\u001b[39mget_loc(casted_key)\n\u001b[1;32m   3653\u001b[0m \u001b[38;5;28;01mexcept\u001b[39;00m \u001b[38;5;167;01mKeyError\u001b[39;00m \u001b[38;5;28;01mas\u001b[39;00m err:\n\u001b[0;32m-> 3654\u001b[0m     \u001b[38;5;28;01mraise\u001b[39;00m \u001b[38;5;167;01mKeyError\u001b[39;00m(key) \u001b[38;5;28;01mfrom\u001b[39;00m \u001b[38;5;21;01merr\u001b[39;00m\n\u001b[1;32m   3655\u001b[0m \u001b[38;5;28;01mexcept\u001b[39;00m \u001b[38;5;167;01mTypeError\u001b[39;00m:\n\u001b[1;32m   3656\u001b[0m     \u001b[38;5;66;03m# If we have a listlike key, _check_indexing_error will raise\u001b[39;00m\n\u001b[1;32m   3657\u001b[0m     \u001b[38;5;66;03m#  InvalidIndexError. Otherwise we fall through and re-raise\u001b[39;00m\n\u001b[1;32m   3658\u001b[0m     \u001b[38;5;66;03m#  the TypeError.\u001b[39;00m\n\u001b[1;32m   3659\u001b[0m     \u001b[38;5;28mself\u001b[39m\u001b[38;5;241m.\u001b[39m_check_indexing_error(key)\n",
      "\u001b[0;31mKeyError\u001b[0m: 'Type'"
     ]
    }
   ],
   "source": [
    "#df_attack_yes delete Type == 'Live Video Complete' and 'Live Video Scheduled'\n",
    "# df_attack_yes=df_attack_yes[df_attack_yes['Type']!='Live Video Complete']\n",
    "# df_attack_yes=df_attack_yes[df_attack_yes['Type']!='Live Video Scheduled']"
   ]
  },
  {
   "cell_type": "code",
   "execution_count": 365,
   "metadata": {},
   "outputs": [
    {
     "data": {
      "text/plain": [
       "User Name\n",
       "houyuih         163\n",
       "DoctorKoWJ      104\n",
       "chingte          34\n",
       "TerryGou1018     33\n",
       "Name: count, dtype: int64"
      ]
     },
     "execution_count": 365,
     "metadata": {},
     "output_type": "execute_result"
    }
   ],
   "source": [
    "df_attack_yes['User Name'].value_counts()"
   ]
  },
  {
   "cell_type": "code",
   "execution_count": 366,
   "metadata": {},
   "outputs": [
    {
     "name": "stderr",
     "output_type": "stream",
     "text": [
      "/var/folders/kf/vzjyh1g17x3gw7hgly31fnc80000gn/T/ipykernel_15287/512908471.py:6: UserWarning:\n",
      "\n",
      "Could not infer format, so each element will be parsed individually, falling back to `dateutil`. To ensure parsing is consistent and as-expected, please specify a format.\n",
      "\n",
      "/var/folders/kf/vzjyh1g17x3gw7hgly31fnc80000gn/T/ipykernel_15287/512908471.py:6: FutureWarning:\n",
      "\n",
      "Parsing '{res.tzname}' as tzlocal (dependent on system timezone) is deprecated and will raise in a future version. Pass the 'tz' keyword or call tz_localize after construction instead\n",
      "\n",
      "/var/folders/kf/vzjyh1g17x3gw7hgly31fnc80000gn/T/ipykernel_15287/512908471.py:6: SettingWithCopyWarning:\n",
      "\n",
      "\n",
      "A value is trying to be set on a copy of a slice from a DataFrame.\n",
      "Try using .loc[row_indexer,col_indexer] = value instead\n",
      "\n",
      "See the caveats in the documentation: https://pandas.pydata.org/pandas-docs/stable/user_guide/indexing.html#returning-a-view-versus-a-copy\n",
      "\n",
      "/var/folders/kf/vzjyh1g17x3gw7hgly31fnc80000gn/T/ipykernel_15287/512908471.py:9: UserWarning:\n",
      "\n",
      "Converting to PeriodArray/Index representation will drop timezone information.\n",
      "\n",
      "/var/folders/kf/vzjyh1g17x3gw7hgly31fnc80000gn/T/ipykernel_15287/512908471.py:9: SettingWithCopyWarning:\n",
      "\n",
      "\n",
      "A value is trying to be set on a copy of a slice from a DataFrame.\n",
      "Try using .loc[row_indexer,col_indexer] = value instead\n",
      "\n",
      "See the caveats in the documentation: https://pandas.pydata.org/pandas-docs/stable/user_guide/indexing.html#returning-a-view-versus-a-copy\n",
      "\n"
     ]
    },
    {
     "data": {
      "image/png": "[encoded data removed]",
      "text/plain": [
       "<Figure size 1000x600 with 1 Axes>"
      ]
     },
     "metadata": {},
     "output_type": "display_data"
    }
   ],
   "source": [
    "#plot df_attack_yes \n",
    "import pandas as pd\n",
    "import matplotlib.pyplot as plt\n",
    "\n",
    "# Assuming 'Post Created' is the column containing the timestamp\n",
    "df_attack_yes['Post Created'] = pd.to_datetime(df_attack_yes['Post Created'])\n",
    "\n",
    "# Create a new column for the week\n",
    "df_attack_yes['Week'] = df_attack_yes['Post Created'].dt.to_period('W')\n",
    "\n",
    "# Group by 'Week' and 'User Name', then count occurrences\n",
    "grouped_data = df_attack_yes.groupby(['Week', 'User Name']).size().reset_index(name='Count')\n",
    "\n",
    "# Pivot the DataFrame to have 'User Name' as columns\n",
    "pivot_data = grouped_data.pivot(index='Week', columns='User Name', values='Count').fillna(0)\n",
    "\n",
    "# Create a cumulative sum for each column\n",
    "cumulative_data = pivot_data.cumsum()\n",
    "\n",
    "# Plotting\n",
    "cumulative_data.plot.line(figsize=(10, 6), marker='o')\n",
    "\n",
    "# Customize the plot\n",
    "plt.title('Cumulative Number of Attacks per Candidate')\n",
    "plt.xlabel('Weeks')\n",
    "plt.ylabel('Cumulative Count')\n",
    "plt.legend(title='User Name')\n",
    "plt.grid(True)\n",
    "plt.show()\n"
   ]
  },
  {
   "cell_type": "markdown",
   "metadata": {},
   "source": [
    "# calculate average number of interactions for the attack posts"
   ]
  },
  {
   "cell_type": "markdown",
   "metadata": {},
   "source": [
    "## merge the df with the original csv "
   ]
  },
  {
   "cell_type": "code",
   "execution_count": 10,
   "metadata": {},
   "outputs": [],
   "source": [
    "#attack_df \n",
    "df_attack=pd.read_csv('/Users/jasperhewitt/Desktop/github_repos/Campaigning_101/data/save_for_label_df_DONE_1.csv')\n",
    "df_attack_2=pd.read_csv('/Users/jasperhewitt/Desktop/github_repos/Campaigning_101/data/save_for_label_df_DONE_2.csv')\n",
    "\n",
    "#original df read /Users/jasperhewitt/Desktop/github_repos/Campaigning_101/data/filtered_df.csv\n",
    "filtered_df=pd.read_csv('/Users/jasperhewitt/Desktop/github_repos/Campaigning_101/data/filtered_df.csv')\n",
    "#read /Users/jasperhewitt/Desktop/github_repos/Campaigning_101/data/filtered_df_2.csv\n",
    "filtered_df_2=pd.read_csv('/Users/jasperhewitt/Desktop/github_repos/Campaigning_101/data/filtered_df_2.csv')"
   ]
  },
  {
   "cell_type": "code",
   "execution_count": 11,
   "metadata": {},
   "outputs": [
    {
     "name": "stdout",
     "output_type": "stream",
     "text": [
      "1372\n"
     ]
    },
    {
     "data": {
      "text/plain": [
       "attack\n",
       "NaN    967\n",
       "yes    233\n",
       "no     172\n",
       "Name: count, dtype: int64"
      ]
     },
     "execution_count": 11,
     "metadata": {},
     "output_type": "execute_result"
    }
   ],
   "source": [
    "#merge the two dataframes together on the columns serial_number, User Name, URL, Post Created\n",
    "df_attack_merge=pd.merge(filtered_df, df_attack, on=['serial_number', 'User Name', 'URL', 'Post Created', 'combined_text'], how='left')\n",
    "\n",
    "print(len(df_attack_merge))\n",
    "#check value in attack column, also show how many nan \n",
    "df_attack_merge['attack'].value_counts(dropna=False)"
   ]
  },
  {
   "cell_type": "code",
   "execution_count": 12,
   "metadata": {},
   "outputs": [
    {
     "name": "stdout",
     "output_type": "stream",
     "text": [
      "385\n"
     ]
    },
    {
     "data": {
      "text/plain": [
       "attack\n",
       "NaN    250\n",
       "yes     98\n",
       "no      37\n",
       "Name: count, dtype: int64"
      ]
     },
     "execution_count": 12,
     "metadata": {},
     "output_type": "execute_result"
    }
   ],
   "source": [
    "#merge df_attack_2 with filtered_df_2 on the same columns \n",
    "df_attack_merge_2=pd.merge(filtered_df_2, df_attack_2, on=['serial_number', 'User Name', 'URL', 'Post Created', 'combined_text'], how='left')\n",
    "\n",
    "print(len(df_attack_merge_2))\n",
    "#check value in attack column, also show how many nan\n",
    "df_attack_merge_2['attack'].value_counts(dropna=False)"
   ]
  },
  {
   "cell_type": "code",
   "execution_count": 13,
   "metadata": {},
   "outputs": [
    {
     "name": "stdout",
     "output_type": "stream",
     "text": [
      "1757\n"
     ]
    },
    {
     "data": {
      "text/plain": [
       "attack\n",
       "NaN    1217\n",
       "yes     331\n",
       "no      209\n",
       "Name: count, dtype: int64"
      ]
     },
     "execution_count": 13,
     "metadata": {},
     "output_type": "execute_result"
    }
   ],
   "source": [
    "#overwrite the serial_number column in df_attack_merge_2 so that it starts counting from where df_attack_merge left off\n",
    "df_attack_merge_2['serial_number']=df_attack_merge['serial_number'].max()+df_attack_merge_2['serial_number']\n",
    "\n",
    "#concatenate the two dataframes together\n",
    "main_df = pd.concat([df_attack_merge, df_attack_merge_2])\n",
    "# print len of main_df\n",
    "print(len(main_df))\n",
    "\n",
    "#show attack values including nan of main_df\n",
    "main_df['attack'].value_counts(dropna=False)"
   ]
  },
  {
   "cell_type": "code",
   "execution_count": 15,
   "metadata": {},
   "outputs": [
    {
     "data": {
      "text/plain": [
       "1524"
      ]
     },
     "execution_count": 15,
     "metadata": {},
     "output_type": "execute_result"
    }
   ],
   "source": [
    "#delete type where Type is 'Live Video Complete' and 'Live Video Scheduled'\n",
    "main_df=main_df[main_df['Type']!='Live Video Complete']\n",
    "main_df=main_df[main_df['Type']!='Live Video Scheduled']\n",
    "len(main_df)\n"
   ]
  },
  {
   "cell_type": "code",
   "execution_count": 16,
   "metadata": {},
   "outputs": [
    {
     "data": {
      "text/plain": [
       "User Name\n",
       "houyuih         159\n",
       "DoctorKoWJ       99\n",
       "chingte          32\n",
       "TerryGou1018     32\n",
       "Name: count, dtype: int64"
      ]
     },
     "execution_count": 16,
     "metadata": {},
     "output_type": "execute_result"
    }
   ],
   "source": [
    "#show number of rows per User Name where attack is yes\n",
    "main_df[main_df['attack']=='yes']['User Name'].value_counts()"
   ]
  },
  {
   "cell_type": "code",
   "execution_count": 371,
   "metadata": {},
   "outputs": [],
   "source": [
    "# Remove commas from 'Total Interactions' column\n",
    "main_df['Total Interactions'] = main_df['Total Interactions'].str.replace(',', '')\n",
    "\n",
    "# Convert 'Total Interactions' column to integer\n",
    "main_df['Total Interactions'] = main_df['Total Interactions'].astype(int)"
   ]
  },
  {
   "cell_type": "code",
   "execution_count": 372,
   "metadata": {},
   "outputs": [
    {
     "name": "stdout",
     "output_type": "stream",
     "text": [
      "25864.770392749244\n",
      "15173.801542776999\n"
     ]
    }
   ],
   "source": [
    "\n",
    "\n",
    "# Calculate the average Total Interactions of the rows where attack is yes\n",
    "print(main_df[main_df['attack']=='yes']['Total Interactions'].mean())\n",
    "\n",
    "# Also calculate the average Total Interactions of the rows where attack is no or NaN\n",
    "print(main_df[main_df['attack']!='yes']['Total Interactions'].mean())\n"
   ]
  },
  {
   "cell_type": "code",
   "execution_count": 373,
   "metadata": {},
   "outputs": [
    {
     "name": "stdout",
     "output_type": "stream",
     "text": [
      "User Name\n",
      "DoctorKoWJ      32350.951456\n",
      "TerryGou1018    14834.437500\n",
      "chingte         23008.666667\n",
      "houyuih         24509.834356\n",
      "Name: Total Interactions, dtype: float64\n",
      "User Name\n",
      "DoctorKoWJ      19283.154110\n",
      "TerryGou1018    10776.031008\n",
      "chingte         14561.170487\n",
      "houyuih         14506.042345\n",
      "Name: Total Interactions, dtype: float64\n"
     ]
    }
   ],
   "source": [
    "# Calculate the average Total Interactions grouped by User Name where attack is yes\n",
    "print(main_df[main_df['attack']=='yes'].groupby('User Name')['Total Interactions'].mean())\n",
    "\n",
    "# Calculate the average Total Interactions grouped by User Name where attack is no or NaN\n",
    "print(main_df[main_df['attack']!='yes'].groupby('User Name')['Total Interactions'].mean())"
   ]
  },
  {
   "cell_type": "code",
   "execution_count": 374,
   "metadata": {},
   "outputs": [
    {
     "name": "stdout",
     "output_type": "stream",
     "text": [
      "Type\n",
      "Link                     3835.000000\n",
      "Live Video Complete      9850.311404\n",
      "Live Video Scheduled     6339.000000\n",
      "Native Video            24145.310680\n",
      "Photo                   17305.813248\n",
      "Status                  20200.145161\n",
      "YouTube                  3576.000000\n",
      "Name: Total Interactions, dtype: float64\n"
     ]
    }
   ],
   "source": [
    "#check by type \n",
    "# Calculate the average Total Interactions grouped by User Name where attack is yes\n",
    "print(main_df.groupby('Type')['Total Interactions'].mean())"
   ]
  },
  {
   "cell_type": "code",
   "execution_count": 375,
   "metadata": {},
   "outputs": [
    {
     "data": {
      "text/plain": [
       "Type\n",
       "Photo                   1253\n",
       "Live Video Complete      228\n",
       "Native Video             206\n",
       "Status                    62\n",
       "Live Video Scheduled       5\n",
       "YouTube                    2\n",
       "Link                       1\n",
       "Name: count, dtype: int64"
      ]
     },
     "execution_count": 375,
     "metadata": {},
     "output_type": "execute_result"
    }
   ],
   "source": [
    "#check values for Type\n",
    "main_df['Type'].value_counts()"
   ]
  },
  {
   "cell_type": "code",
   "execution_count": 376,
   "metadata": {},
   "outputs": [
    {
     "name": "stdout",
     "output_type": "stream",
     "text": [
      "228\n"
     ]
    }
   ],
   "source": [
    "#calculate the number of rows where Type == 'Live Video Complete'\n",
    "print(len(main_df[main_df['Type']=='Live Video Complete']))"
   ]
  },
  {
   "cell_type": "code",
   "execution_count": 377,
   "metadata": {},
   "outputs": [
    {
     "name": "stdout",
     "output_type": "stream",
     "text": [
      "1524\n"
     ]
    }
   ],
   "source": [
    "#create a new df where Type is not 'Live Video Complete' or 'Live Video Scheduled'\n",
    "main_df_no_live=main_df[(main_df['Type']!='Live Video Complete') & (main_df['Type']!='Live Video Scheduled')]\n",
    "print(len(main_df_no_live))"
   ]
  },
  {
   "cell_type": "code",
   "execution_count": 378,
   "metadata": {},
   "outputs": [
    {
     "name": "stdout",
     "output_type": "stream",
     "text": [
      "User Name\n",
      "DoctorKoWJ      33032.161616\n",
      "TerryGou1018    14834.437500\n",
      "chingte         23567.062500\n",
      "houyuih         24923.691824\n",
      "Name: Total Interactions, dtype: float64\n",
      "User Name\n",
      "DoctorKoWJ      20934.330472\n",
      "TerryGou1018    10642.582677\n",
      "chingte         15728.482173\n",
      "houyuih         15676.806324\n",
      "Name: Total Interactions, dtype: float64\n",
      "26279.18944099379\n",
      "16189.363560732114\n"
     ]
    }
   ],
   "source": [
    "# Calculate the average Total Interactions grouped by User Name where attack is yes\n",
    "print(main_df_no_live[main_df_no_live['attack']=='yes'].groupby('User Name')['Total Interactions'].mean())\n",
    "\n",
    "# Calculate the average Total Interactions grouped by User Name where attack is no or NaN\n",
    "print(main_df_no_live[main_df_no_live['attack']!='yes'].groupby('User Name')['Total Interactions'].mean())\n",
    "\n",
    "# Calculate the average Total Interactions of the rows where attack is yes\n",
    "print(main_df_no_live[main_df_no_live['attack']=='yes']['Total Interactions'].mean())\n",
    "\n",
    "# Also calculate the average Total Interactions of the rows where attack is no or NaN\n",
    "print(main_df_no_live[main_df_no_live['attack']!='yes']['Total Interactions'].mean())\n"
   ]
  },
  {
   "cell_type": "code",
   "execution_count": 379,
   "metadata": {},
   "outputs": [
    {
     "name": "stdout",
     "output_type": "stream",
     "text": [
      "92\n",
      "15066.70652173913\n",
      "19\n",
      "26050.263157894737\n"
     ]
    }
   ],
   "source": [
    "# Check how many rows in main_df_no_live contain the word '直播' in the combined_text column\n",
    "print(len(main_df_no_live[main_df_no_live['combined_text'].str.contains('直播').fillna(False)]))\n",
    "\n",
    "#calculate the average number of Total Interactions for rows where combined_text contains '直播'\n",
    "print(main_df_no_live[main_df_no_live['combined_text'].str.contains('直播').fillna(False)]['Total Interactions'].mean())\n",
    "\n",
    "#check how many of these rows have attack == 'yes'\n",
    "print(len(main_df_no_live[(main_df_no_live['combined_text'].str.contains('直播').fillna(False)) & (main_df_no_live['attack']=='yes')]))\n",
    "\n",
    "#check the mean of these rows\n",
    "print(main_df_no_live[(main_df_no_live['combined_text'].str.contains('直播').fillna(False)) & (main_df_no_live['attack']=='yes')]['Total Interactions'].mean())\n"
   ]
  },
  {
   "cell_type": "code",
   "execution_count": 380,
   "metadata": {},
   "outputs": [
    {
     "name": "stdout",
     "output_type": "stream",
     "text": [
      "3\n"
     ]
    }
   ],
   "source": [
    "#count the number of rows that have NaN in the combined_text column\n",
    "print(len(main_df_no_live[main_df_no_live['combined_text'].isna()]))"
   ]
  },
  {
   "cell_type": "code",
   "execution_count": 381,
   "metadata": {},
   "outputs": [
    {
     "name": "stderr",
     "output_type": "stream",
     "text": [
      "/var/folders/kf/vzjyh1g17x3gw7hgly31fnc80000gn/T/ipykernel_15287/3737264874.py:2: SettingWithCopyWarning:\n",
      "\n",
      "\n",
      "A value is trying to be set on a copy of a slice from a DataFrame.\n",
      "Try using .loc[row_indexer,col_indexer] = value instead\n",
      "\n",
      "See the caveats in the documentation: https://pandas.pydata.org/pandas-docs/stable/user_guide/indexing.html#returning-a-view-versus-a-copy\n",
      "\n"
     ]
    }
   ],
   "source": [
    "#create an extra column called 'combined_text_length' that contains the length of the combined_text column \n",
    "main_df_no_live['combined_text_length']=main_df_no_live['combined_text'].str.len()"
   ]
  },
  {
   "cell_type": "code",
   "execution_count": 382,
   "metadata": {},
   "outputs": [
    {
     "name": "stderr",
     "output_type": "stream",
     "text": [
      "/var/folders/kf/vzjyh1g17x3gw7hgly31fnc80000gn/T/ipykernel_15287/919765746.py:2: SettingWithCopyWarning:\n",
      "\n",
      "\n",
      "A value is trying to be set on a copy of a slice from a DataFrame.\n",
      "Try using .loc[row_indexer,col_indexer] = value instead\n",
      "\n",
      "See the caveats in the documentation: https://pandas.pydata.org/pandas-docs/stable/user_guide/indexing.html#returning-a-view-versus-a-copy\n",
      "\n"
     ]
    }
   ],
   "source": [
    "#now create categories. category one is where combined_text_length is less than 300. category two is where combined_text_length is between 0 and 500, category 2 is between 500 and 1000, keep doing this until 5000\n",
    "main_df_no_live['combined_text_length_category']=pd.cut(main_df_no_live['combined_text_length'], bins=[0, 300, 500, 1000, 1500, 2000, 2500, 3000, 3500, 4000, 5000], labels=['<300', '300-500', '500-1000', '1000-1500', '1500-2000', '2000-2500', '2500-3000', '3000-3500', '3500-4000', '4000-5000'])\n"
   ]
  },
  {
   "cell_type": "code",
   "execution_count": 383,
   "metadata": {},
   "outputs": [
    {
     "name": "stdout",
     "output_type": "stream",
     "text": [
      "combined_text_length_category\n",
      "<300         23736.230769\n",
      "300-500      22663.657534\n",
      "500-1000     27382.117284\n",
      "1000-1500    30638.240000\n",
      "1500-2000    38868.125000\n",
      "2000-2500    23805.272727\n",
      "2500-3000    15418.000000\n",
      "3000-3500    45954.000000\n",
      "3500-4000             NaN\n",
      "4000-5000    30287.000000\n",
      "Name: Total Interactions, dtype: float64\n"
     ]
    }
   ],
   "source": [
    "#now calculate the average Total Interactions for each category\n",
    "print(main_df_no_live[main_df_no_live['attack']=='yes'].groupby('combined_text_length_category')['Total Interactions'].mean())"
   ]
  },
  {
   "cell_type": "code",
   "execution_count": 384,
   "metadata": {},
   "outputs": [
    {
     "data": {
      "text/plain": [
       "User Name\n",
       "DoctorKoWJ      30\n",
       "chingte         30\n",
       "TerryGou1018    30\n",
       "houyuih         30\n",
       "Name: count, dtype: int64"
      ]
     },
     "execution_count": 384,
     "metadata": {},
     "output_type": "execute_result"
    }
   ],
   "source": [
    "# Create a new DataFrame that only contains the top 20 posts for each User Name\n",
    "top_20_posts_df = main_df_no_live.groupby('User Name')['Total Interactions'].nlargest(30).reset_index()\n",
    "\n",
    "# Merge with the original DataFrame to get the other columns\n",
    "top_20_posts_df = main_df_no_live.merge(top_20_posts_df, how='inner', on=['User Name', 'Total Interactions'])\n",
    "\n",
    "#check value counts for User Name\n",
    "top_20_posts_df['User Name'].value_counts()\n"
   ]
  },
  {
   "cell_type": "code",
   "execution_count": 385,
   "metadata": {},
   "outputs": [
    {
     "name": "stdout",
     "output_type": "stream",
     "text": [
      "User Name\n",
      "houyuih         21\n",
      "DoctorKoWJ      19\n",
      "TerryGou1018    13\n",
      "chingte          3\n",
      "Name: count, dtype: int64\n"
     ]
    }
   ],
   "source": [
    "#now check how many rows have attack == 'yes' for each candidate \n",
    "print(top_20_posts_df[top_20_posts_df['attack']=='yes']['User Name'].value_counts())"
   ]
  },
  {
   "cell_type": "code",
   "execution_count": 386,
   "metadata": {},
   "outputs": [
    {
     "name": "stdout",
     "output_type": "stream",
     "text": [
      "470\n",
      "163\n"
     ]
    }
   ],
   "source": [
    "#check how many posts User Name houyuih has in main_df\n",
    "print(len(main_df[main_df['User Name']=='houyuih']))\n",
    "#now check how many of those posts have attack == 'yes'\n",
    "print(len(main_df[(main_df['User Name']=='houyuih') & (main_df['attack']=='yes')]))"
   ]
  },
  {
   "cell_type": "markdown",
   "metadata": {},
   "source": [
    "# against who "
   ]
  },
  {
   "cell_type": "code",
   "execution_count": 387,
   "metadata": {},
   "outputs": [
    {
     "data": {
      "text/plain": [
       "Index(['Unnamed: 0_x', 'serial_number', 'Page Name', 'User Name',\n",
       "       'Facebook Id', 'Page Category', 'Page Admin Top Country',\n",
       "       'Page Description', 'Page Created', 'Likes at Posting',\n",
       "       'Followers at Posting', 'Post Created', 'Post Created Date',\n",
       "       'Post Created Time', 'Type', 'Total Interactions', 'Likes', 'Comments',\n",
       "       'Shares', 'Love', 'Wow', 'Haha', 'Sad', 'Angry', 'Care',\n",
       "       'Video Share Status', 'Is Video Owner?', 'Post Views', 'Total Views',\n",
       "       'Total Views For All Crossposts', 'Video Length', 'URL', 'Message',\n",
       "       'Link', 'Final Link', 'Image Text', 'Link Text', 'Description',\n",
       "       'Sponsor Id', 'Sponsor Name', 'Sponsor Category',\n",
       "       'Total Interactions (weighted  —  Likes 1x Shares 1x Comments 1x Love 1x Wow 1x Haha 1x Sad 1x Angry 1x Care 1x )',\n",
       "       'Overperforming Score', 'combined_text', 'Unnamed: 0_y',\n",
       "       'mention_other', 'mentioned_other', 'attack', 'target', 'description',\n",
       "       'Overperforming Score (weighted  —  Likes 1x Shares 1x Comments 1x Love 1x Wow 1x Haha 1x Sad 1x Angry 1x Care 1x )',\n",
       "       'combined_text_length', 'combined_text_length_category'],\n",
       "      dtype='object')"
      ]
     },
     "execution_count": 387,
     "metadata": {},
     "output_type": "execute_result"
    }
   ],
   "source": [
    "# main_df_no_live columns\n",
    "main_df_no_live.columns"
   ]
  },
  {
   "cell_type": "code",
   "execution_count": 388,
   "metadata": {},
   "outputs": [
    {
     "data": {
      "text/plain": [
       "target\n",
       "民進黨                                 129\n",
       "民進黨, 賴                               32\n",
       "藍綠                                   26\n",
       "民進黨, 賴, 蔡                            15\n",
       "賴                                    11\n",
       "國民黨                                   7\n",
       "民進黨, 執政黨/民進黨                          7\n",
       "執政黨/民進黨                               7\n",
       "民進黨, 蔡                                7\n",
       "蔡                                     6\n",
       "在野黨                                   5\n",
       "民進黨, 國民黨                              4\n",
       "民進黨, 藍綠                               4\n",
       "藍白                                    4\n",
       "民進黨, 綠營                               3\n",
       "民進黨, 國民黨, 藍綠                          3\n",
       "賴, 蔡                                  3\n",
       "柯                                     3\n",
       "馬英九                                   2\n",
       "侯, 國民黨                                2\n",
       "民進黨, 賴, 侯                             2\n",
       "侯, 柯                                  2\n",
       "賴, 藍綠                                 2\n",
       "民進黨, 柯                                2\n",
       "侯, 國民黨, 柯, 馬英九, 朱, 趙                  1\n",
       "賴, 蕭                                  1\n",
       "侯, 國民黨, 民眾黨, 柯, 藍白, 馬前總統, 馬英九, 趙      1\n",
       "侯, 國民黨, 民眾黨, 柯, 藍白, 馬英九               1\n",
       "馬前總統, 馬英九                             1\n",
       "民進黨, 賴, 蕭, 蔡                          1\n",
       "趙                                     1\n",
       "侯, 國民黨, 民眾黨, 柯                        1\n",
       "賴, 侯                                  1\n",
       "賴, 趙, 藍綠                              1\n",
       "賴, 侯, 國民黨                             1\n",
       "馬前總統                                  1\n",
       "民進黨, 賴, 侯, 國民黨, 蔡, 藍綠                 1\n",
       "侯                                     1\n",
       "民進黨, 民眾黨, 柯, 藍白                       1\n",
       "侯, 國民黨, 柯, 趙                          1\n",
       "侯, 國民黨, 藍綠                            1\n",
       "在野黨, 藍, 白                             1\n",
       "民進黨, 賴, 藍綠                            1\n",
       "侯, 國民黨, 民進黨                           1\n",
       "蔡, 賴, 侯                               1\n",
       "蔡, 執政黨/民進黨, 藍綠                        1\n",
       "民進黨, 賴, 蔡, 藍綠                         1\n",
       "民進黨, 侯                                1\n",
       "民進黨, 蔡                                1\n",
       "民進黨, 賴, 國民黨                           1\n",
       "國民黨, 在野黨/國民黨                          1\n",
       "藍白合, 國民黨                              1\n",
       "柯, 賴                                  1\n",
       "藍白, 侯, 柯                              1\n",
       "民進黨, 藍綠, 執政黨/民進黨                      1\n",
       "國民黨, 藍白, 在野黨, 侯, 柯                    1\n",
       "賴, 侯, 趙, 藍綠                           1\n",
       "民進黨, 國民黨, 蔡, 藍綠                       1\n",
       "民進黨, 民眾黨, 柯, 賴, 藍白                    1\n",
       "Name: count, dtype: int64"
      ]
     },
     "execution_count": 388,
     "metadata": {},
     "output_type": "execute_result"
    }
   ],
   "source": [
    "#main_df_no_live['target] value counts\n",
    "main_df_no_live['target'].value_counts()"
   ]
  },
  {
   "cell_type": "code",
   "execution_count": 389,
   "metadata": {},
   "outputs": [],
   "source": [
    "#fix that the serial_number 1398 has a comma between 藍 and 白 in the target column, this should be 藍白\n",
    "main_df_no_live.loc[main_df_no_live['serial_number'] == 1398, 'target'] = '在野黨, 藍白'\n",
    "main_df_no_live = main_df_no_live[main_df_no_live['attack'] == 'yes']"
   ]
  },
  {
   "cell_type": "code",
   "execution_count": 390,
   "metadata": {},
   "outputs": [],
   "source": [
    "# import pandas as pd\n",
    "\n",
    "# # Assuming your DataFrame is named main_df_no_live\n",
    "# # Assuming 'target' and 'attack' are the column names\n",
    "\n",
    "# # Split the values in 'target' column\n",
    "# unique_targets = set(target.strip() for targets in main_df_no_live['target'].str.split(',') for target in targets)\n",
    "# unique_targets.discard('')  # Remove empty strings\n",
    "\n",
    "# # Create new columns for each unique target\n",
    "# for target in unique_targets:\n",
    "#     main_df_no_live[target] = main_df_no_live['target'].apply(lambda x: 1 if target in x else 0)\n",
    "\n",
    "# # Convert the set to a list before using it as an indexer\n",
    "# unique_targets_list = list(unique_targets)\n",
    "\n",
    "# # Sum the values across rows for each target\n",
    "# main_df_no_live['total_targets'] = main_df_no_live[unique_targets_list].sum(axis=1)\n"
   ]
  },
  {
   "cell_type": "code",
   "execution_count": 391,
   "metadata": {},
   "outputs": [],
   "source": [
    "import pandas as pd\n",
    "\n",
    "# Assuming your DataFrame is named main_df_no_live\n",
    "# Assuming 'target' and 'attack' are the column names\n",
    "\n",
    "# Split the values in 'target' column\n",
    "unique_targets = set(target.strip() for targets in main_df_no_live['target'].str.split(',') for target in targets)\n",
    "unique_targets.discard('')  # Remove empty strings\n",
    "\n",
    "# Create new columns for each unique target with 'target_' prefix\n",
    "for target in unique_targets:\n",
    "    main_df_no_live[f'target_{target}'] = main_df_no_live['target'].apply(lambda x: 1 if target in x else 0)\n",
    "\n",
    "# Convert the set to a list before using it as an indexer\n",
    "unique_targets_list = [f'target_{target}' for target in unique_targets]\n",
    "\n",
    "# Sum the values across rows for each target\n",
    "main_df_no_live['total_targets'] = main_df_no_live[unique_targets_list].sum(axis=1)\n"
   ]
  },
  {
   "cell_type": "code",
   "execution_count": 393,
   "metadata": {},
   "outputs": [
    {
     "data": {
      "application/vnd.plotly.v1+json": {
       "config": {
        "plotlyServerURL": "https://plot.ly"
       },
       "data": [
        {
         "link": {
          "source": [
           0,
           0,
           0,
           0,
           0,
           0,
           0,
           0,
           0,
           0,
           0,
           0,
           0,
           0,
           0,
           0,
           0,
           0,
           0
          ],
          "target": [
           1,
           2,
           3,
           4,
           5,
           6,
           7,
           8,
           9,
           10,
           11,
           12,
           13,
           14,
           15,
           16,
           17,
           18,
           19
          ],
          "value": [
           0,
           48,
           145,
           0,
           0,
           0,
           2,
           0,
           3,
           12,
           8,
           0,
           2,
           0,
           0,
           0,
           0,
           2,
           5
          ]
         },
         "node": {
          "color": "blue",
          "label": [
           "houyuih",
           "target_藍白合 (0)",
           "target_賴 (48)",
           "target_民進黨 (145)",
           "target_在野黨 (0)",
           "target_侯 (0)",
           "target_馬英九 (0)",
           "target_藍白 (2)",
           "target_藍綠 (0)",
           "target_綠營 (3)",
           "target_蔡 (12)",
           "target_柯 (8)",
           "target_趙 (0)",
           "target_民眾黨 (2)",
           "target_馬前總統 (0)",
           "target_國民黨 (0)",
           "target_朱 (0)",
           "target_在野黨/國民黨 (0)",
           "target_蕭 (2)",
           "target_執政黨/民進黨 (5)"
          ],
          "line": {
           "color": "black",
           "width": 0.5
          },
          "pad": 15,
          "thickness": 20
         },
         "type": "sankey"
        }
       ],
       "layout": {
        "font": {
         "size": 10
        },
        "template": {
         "data": {
          "bar": [
           {
            "error_x": {
             "color": "#2a3f5f"
            },
            "error_y": {
             "color": "#2a3f5f"
            },
            "marker": {
             "line": {
              "color": "#E5ECF6",
              "width": 0.5
             },
             "pattern": {
              "fillmode": "overlay",
              "size": 10,
              "solidity": 0.2
             }
            },
            "type": "bar"
           }
          ],
          "barpolar": [
           {
            "marker": {
             "line": {
              "color": "#E5ECF6",
              "width": 0.5
             },
             "pattern": {
              "fillmode": "overlay",
              "size": 10,
              "solidity": 0.2
             }
            },
            "type": "barpolar"
           }
          ],
          "carpet": [
           {
            "aaxis": {
             "endlinecolor": "#2a3f5f",
             "gridcolor": "white",
             "linecolor": "white",
             "minorgridcolor": "white",
             "startlinecolor": "#2a3f5f"
            },
            "baxis": {
             "endlinecolor": "#2a3f5f",
             "gridcolor": "white",
             "linecolor": "white",
             "minorgridcolor": "white",
             "startlinecolor": "#2a3f5f"
            },
            "type": "carpet"
           }
          ],
          "choropleth": [
           {
            "colorbar": {
             "outlinewidth": 0,
             "ticks": ""
            },
            "type": "choropleth"
           }
          ],
          "contour": [
           {
            "colorbar": {
             "outlinewidth": 0,
             "ticks": ""
            },
            "colorscale": [
             [
              0,
              "#0d0887"
             ],
             [
              0.1111111111111111,
              "#46039f"
             ],
             [
              0.2222222222222222,
              "#7201a8"
             ],
             [
              0.3333333333333333,
              "#9c179e"
             ],
             [
              0.4444444444444444,
              "#bd3786"
             ],
             [
              0.5555555555555556,
              "#d8576b"
             ],
             [
              0.6666666666666666,
              "#ed7953"
             ],
             [
              0.7777777777777778,
              "#fb9f3a"
             ],
             [
              0.8888888888888888,
              "#fdca26"
             ],
             [
              1,
              "#f0f921"
             ]
            ],
            "type": "contour"
           }
          ],
          "contourcarpet": [
           {
            "colorbar": {
             "outlinewidth": 0,
             "ticks": ""
            },
            "type": "contourcarpet"
           }
          ],
          "heatmap": [
           {
            "colorbar": {
             "outlinewidth": 0,
             "ticks": ""
            },
            "colorscale": [
             [
              0,
              "#0d0887"
             ],
             [
              0.1111111111111111,
              "#46039f"
             ],
             [
              0.2222222222222222,
              "#7201a8"
             ],
             [
              0.3333333333333333,
              "#9c179e"
             ],
             [
              0.4444444444444444,
              "#bd3786"
             ],
             [
              0.5555555555555556,
              "#d8576b"
             ],
             [
              0.6666666666666666,
              "#ed7953"
             ],
             [
              0.7777777777777778,
              "#fb9f3a"
             ],
             [
              0.8888888888888888,
              "#fdca26"
             ],
             [
              1,
              "#f0f921"
             ]
            ],
            "type": "heatmap"
           }
          ],
          "heatmapgl": [
           {
            "colorbar": {
             "outlinewidth": 0,
             "ticks": ""
            },
            "colorscale": [
             [
              0,
              "#0d0887"
             ],
             [
              0.1111111111111111,
              "#46039f"
             ],
             [
              0.2222222222222222,
              "#7201a8"
             ],
             [
              0.3333333333333333,
              "#9c179e"
             ],
             [
              0.4444444444444444,
              "#bd3786"
             ],
             [
              0.5555555555555556,
              "#d8576b"
             ],
             [
              0.6666666666666666,
              "#ed7953"
             ],
             [
              0.7777777777777778,
              "#fb9f3a"
             ],
             [
              0.8888888888888888,
              "#fdca26"
             ],
             [
              1,
              "#f0f921"
             ]
            ],
            "type": "heatmapgl"
           }
          ],
          "histogram": [
           {
            "marker": {
             "pattern": {
              "fillmode": "overlay",
              "size": 10,
              "solidity": 0.2
             }
            },
            "type": "histogram"
           }
          ],
          "histogram2d": [
           {
            "colorbar": {
             "outlinewidth": 0,
             "ticks": ""
            },
            "colorscale": [
             [
              0,
              "#0d0887"
             ],
             [
              0.1111111111111111,
              "#46039f"
             ],
             [
              0.2222222222222222,
              "#7201a8"
             ],
             [
              0.3333333333333333,
              "#9c179e"
             ],
             [
              0.4444444444444444,
              "#bd3786"
             ],
             [
              0.5555555555555556,
              "#d8576b"
             ],
             [
              0.6666666666666666,
              "#ed7953"
             ],
             [
              0.7777777777777778,
              "#fb9f3a"
             ],
             [
              0.8888888888888888,
              "#fdca26"
             ],
             [
              1,
              "#f0f921"
             ]
            ],
            "type": "histogram2d"
           }
          ],
          "histogram2dcontour": [
           {
            "colorbar": {
             "outlinewidth": 0,
             "ticks": ""
            },
            "colorscale": [
             [
              0,
              "#0d0887"
             ],
             [
              0.1111111111111111,
              "#46039f"
             ],
             [
              0.2222222222222222,
              "#7201a8"
             ],
             [
              0.3333333333333333,
              "#9c179e"
             ],
             [
              0.4444444444444444,
              "#bd3786"
             ],
             [
              0.5555555555555556,
              "#d8576b"
             ],
             [
              0.6666666666666666,
              "#ed7953"
             ],
             [
              0.7777777777777778,
              "#fb9f3a"
             ],
             [
              0.8888888888888888,
              "#fdca26"
             ],
             [
              1,
              "#f0f921"
             ]
            ],
            "type": "histogram2dcontour"
           }
          ],
          "mesh3d": [
           {
            "colorbar": {
             "outlinewidth": 0,
             "ticks": ""
            },
            "type": "mesh3d"
           }
          ],
          "parcoords": [
           {
            "line": {
             "colorbar": {
              "outlinewidth": 0,
              "ticks": ""
             }
            },
            "type": "parcoords"
           }
          ],
          "pie": [
           {
            "automargin": true,
            "type": "pie"
           }
          ],
          "scatter": [
           {
            "fillpattern": {
             "fillmode": "overlay",
             "size": 10,
             "solidity": 0.2
            },
            "type": "scatter"
           }
          ],
          "scatter3d": [
           {
            "line": {
             "colorbar": {
              "outlinewidth": 0,
              "ticks": ""
             }
            },
            "marker": {
             "colorbar": {
              "outlinewidth": 0,
              "ticks": ""
             }
            },
            "type": "scatter3d"
           }
          ],
          "scattercarpet": [
           {
            "marker": {
             "colorbar": {
              "outlinewidth": 0,
              "ticks": ""
             }
            },
            "type": "scattercarpet"
           }
          ],
          "scattergeo": [
           {
            "marker": {
             "colorbar": {
              "outlinewidth": 0,
              "ticks": ""
             }
            },
            "type": "scattergeo"
           }
          ],
          "scattergl": [
           {
            "marker": {
             "colorbar": {
              "outlinewidth": 0,
              "ticks": ""
             }
            },
            "type": "scattergl"
           }
          ],
          "scattermapbox": [
           {
            "marker": {
             "colorbar": {
              "outlinewidth": 0,
              "ticks": ""
             }
            },
            "type": "scattermapbox"
           }
          ],
          "scatterpolar": [
           {
            "marker": {
             "colorbar": {
              "outlinewidth": 0,
              "ticks": ""
             }
            },
            "type": "scatterpolar"
           }
          ],
          "scatterpolargl": [
           {
            "marker": {
             "colorbar": {
              "outlinewidth": 0,
              "ticks": ""
             }
            },
            "type": "scatterpolargl"
           }
          ],
          "scatterternary": [
           {
            "marker": {
             "colorbar": {
              "outlinewidth": 0,
              "ticks": ""
             }
            },
            "type": "scatterternary"
           }
          ],
          "surface": [
           {
            "colorbar": {
             "outlinewidth": 0,
             "ticks": ""
            },
            "colorscale": [
             [
              0,
              "#0d0887"
             ],
             [
              0.1111111111111111,
              "#46039f"
             ],
             [
              0.2222222222222222,
              "#7201a8"
             ],
             [
              0.3333333333333333,
              "#9c179e"
             ],
             [
              0.4444444444444444,
              "#bd3786"
             ],
             [
              0.5555555555555556,
              "#d8576b"
             ],
             [
              0.6666666666666666,
              "#ed7953"
             ],
             [
              0.7777777777777778,
              "#fb9f3a"
             ],
             [
              0.8888888888888888,
              "#fdca26"
             ],
             [
              1,
              "#f0f921"
             ]
            ],
            "type": "surface"
           }
          ],
          "table": [
           {
            "cells": {
             "fill": {
              "color": "#EBF0F8"
             },
             "line": {
              "color": "white"
             }
            },
            "header": {
             "fill": {
              "color": "#C8D4E3"
             },
             "line": {
              "color": "white"
             }
            },
            "type": "table"
           }
          ]
         },
         "layout": {
          "annotationdefaults": {
           "arrowcolor": "#2a3f5f",
           "arrowhead": 0,
           "arrowwidth": 1
          },
          "autotypenumbers": "strict",
          "coloraxis": {
           "colorbar": {
            "outlinewidth": 0,
            "ticks": ""
           }
          },
          "colorscale": {
           "diverging": [
            [
             0,
             "#8e0152"
            ],
            [
             0.1,
             "#c51b7d"
            ],
            [
             0.2,
             "#de77ae"
            ],
            [
             0.3,
             "#f1b6da"
            ],
            [
             0.4,
             "#fde0ef"
            ],
            [
             0.5,
             "#f7f7f7"
            ],
            [
             0.6,
             "#e6f5d0"
            ],
            [
             0.7,
             "#b8e186"
            ],
            [
             0.8,
             "#7fbc41"
            ],
            [
             0.9,
             "#4d9221"
            ],
            [
             1,
             "#276419"
            ]
           ],
           "sequential": [
            [
             0,
             "#0d0887"
            ],
            [
             0.1111111111111111,
             "#46039f"
            ],
            [
             0.2222222222222222,
             "#7201a8"
            ],
            [
             0.3333333333333333,
             "#9c179e"
            ],
            [
             0.4444444444444444,
             "#bd3786"
            ],
            [
             0.5555555555555556,
             "#d8576b"
            ],
            [
             0.6666666666666666,
             "#ed7953"
            ],
            [
             0.7777777777777778,
             "#fb9f3a"
            ],
            [
             0.8888888888888888,
             "#fdca26"
            ],
            [
             1,
             "#f0f921"
            ]
           ],
           "sequentialminus": [
            [
             0,
             "#0d0887"
            ],
            [
             0.1111111111111111,
             "#46039f"
            ],
            [
             0.2222222222222222,
             "#7201a8"
            ],
            [
             0.3333333333333333,
             "#9c179e"
            ],
            [
             0.4444444444444444,
             "#bd3786"
            ],
            [
             0.5555555555555556,
             "#d8576b"
            ],
            [
             0.6666666666666666,
             "#ed7953"
            ],
            [
             0.7777777777777778,
             "#fb9f3a"
            ],
            [
             0.8888888888888888,
             "#fdca26"
            ],
            [
             1,
             "#f0f921"
            ]
           ]
          },
          "colorway": [
           "#636efa",
           "#EF553B",
           "#00cc96",
           "#ab63fa",
           "#FFA15A",
           "#19d3f3",
           "#FF6692",
           "#B6E880",
           "#FF97FF",
           "#FECB52"
          ],
          "font": {
           "color": "#2a3f5f"
          },
          "geo": {
           "bgcolor": "white",
           "lakecolor": "white",
           "landcolor": "#E5ECF6",
           "showlakes": true,
           "showland": true,
           "subunitcolor": "white"
          },
          "hoverlabel": {
           "align": "left"
          },
          "hovermode": "closest",
          "mapbox": {
           "style": "light"
          },
          "paper_bgcolor": "white",
          "plot_bgcolor": "#E5ECF6",
          "polar": {
           "angularaxis": {
            "gridcolor": "white",
            "linecolor": "white",
            "ticks": ""
           },
           "bgcolor": "#E5ECF6",
           "radialaxis": {
            "gridcolor": "white",
            "linecolor": "white",
            "ticks": ""
           }
          },
          "scene": {
           "xaxis": {
            "backgroundcolor": "#E5ECF6",
            "gridcolor": "white",
            "gridwidth": 2,
            "linecolor": "white",
            "showbackground": true,
            "ticks": "",
            "zerolinecolor": "white"
           },
           "yaxis": {
            "backgroundcolor": "#E5ECF6",
            "gridcolor": "white",
            "gridwidth": 2,
            "linecolor": "white",
            "showbackground": true,
            "ticks": "",
            "zerolinecolor": "white"
           },
           "zaxis": {
            "backgroundcolor": "#E5ECF6",
            "gridcolor": "white",
            "gridwidth": 2,
            "linecolor": "white",
            "showbackground": true,
            "ticks": "",
            "zerolinecolor": "white"
           }
          },
          "shapedefaults": {
           "line": {
            "color": "#2a3f5f"
           }
          },
          "ternary": {
           "aaxis": {
            "gridcolor": "white",
            "linecolor": "white",
            "ticks": ""
           },
           "baxis": {
            "gridcolor": "white",
            "linecolor": "white",
            "ticks": ""
           },
           "bgcolor": "#E5ECF6",
           "caxis": {
            "gridcolor": "white",
            "linecolor": "white",
            "ticks": ""
           }
          },
          "title": {
           "x": 0.05
          },
          "xaxis": {
           "automargin": true,
           "gridcolor": "white",
           "linecolor": "white",
           "ticks": "",
           "title": {
            "standoff": 15
           },
           "zerolinecolor": "white",
           "zerolinewidth": 2
          },
          "yaxis": {
           "automargin": true,
           "gridcolor": "white",
           "linecolor": "white",
           "ticks": "",
           "title": {
            "standoff": 15
           },
           "zerolinecolor": "white",
           "zerolinewidth": 2
          }
         }
        },
        "title": {
         "text": "Sankey Diagram for User 'houyuih'"
        }
       }
      }
     },
     "metadata": {},
     "output_type": "display_data"
    }
   ],
   "source": [
    "import pandas as pd\n",
    "import plotly.graph_objects as go\n",
    "\n",
    "# Filter the DataFrame for the user 'houyuih'\n",
    "df_houyuih = main_df_no_live[main_df_no_live['User Name'] == 'houyuih']\n",
    "\n",
    "# Select columns that have 'target_' as a prefix\n",
    "target_columns = [col for col in df_houyuih.columns if col.startswith('target_')]\n",
    "\n",
    "# Calculate the cumulative values for each 'target_' column\n",
    "cumulative_values = df_houyuih[target_columns].sum().tolist()\n",
    "\n",
    "# Create labels with cumulative values\n",
    "labels_with_values = [f\"{col} ({val})\" for col, val in zip(target_columns, cumulative_values)]\n",
    "\n",
    "# Create the Sankey chart\n",
    "fig = go.Figure(data=[go.Sankey(\n",
    "    node = dict(\n",
    "      pad = 15,\n",
    "      thickness = 20,\n",
    "      line = dict(color = \"black\", width = 0.5),\n",
    "      label = ['houyuih'] + labels_with_values,  # Include 'houyuih' in the labels\n",
    "      color = \"blue\"\n",
    "    ),\n",
    "    link = dict(\n",
    "      source = [0]*len(target_columns),  # All links start from the first node ('houyuih')\n",
    "      target = list(range(1, len(target_columns) + 1)),  # Links end at each 'target_' node\n",
    "      value = cumulative_values\n",
    "    )\n",
    ")])\n",
    "\n",
    "fig.update_layout(title_text=\"Sankey Diagram for User 'houyuih'\", font_size=10)\n",
    "fig.show()"
   ]
  },
  {
   "cell_type": "code",
   "execution_count": 394,
   "metadata": {},
   "outputs": [
    {
     "data": {
      "application/vnd.plotly.v1+json": {
       "config": {
        "plotlyServerURL": "https://plot.ly"
       },
       "data": [
        {
         "link": {
          "source": [
           0,
           0,
           0,
           0,
           0,
           0,
           0,
           0,
           0,
           0,
           0,
           0,
           0,
           0,
           0,
           0,
           0,
           0,
           0
          ],
          "target": [
           1,
           2,
           3,
           4,
           5,
           6,
           7,
           8,
           9,
           10,
           11,
           12,
           13,
           14,
           15,
           16,
           17,
           18,
           19
          ],
          "value": [
           0,
           0,
           0,
           8,
           9,
           6,
           9,
           0,
           0,
           0,
           9,
           4,
           3,
           3,
           14,
           1,
           1,
           0,
           0
          ]
         },
         "node": {
          "color": "blue",
          "label": [
           "chingte",
           "target_藍白合 (0)",
           "target_賴 (0)",
           "target_民進黨 (0)",
           "target_在野黨 (8)",
           "target_侯 (9)",
           "target_馬英九 (6)",
           "target_藍白 (9)",
           "target_藍綠 (0)",
           "target_綠營 (0)",
           "target_蔡 (0)",
           "target_柯 (9)",
           "target_趙 (4)",
           "target_民眾黨 (3)",
           "target_馬前總統 (3)",
           "target_國民黨 (14)",
           "target_朱 (1)",
           "target_在野黨/國民黨 (1)",
           "target_蕭 (0)",
           "target_執政黨/民進黨 (0)"
          ],
          "line": {
           "color": "black",
           "width": 0.5
          },
          "pad": 15,
          "thickness": 20
         },
         "type": "sankey"
        }
       ],
       "layout": {
        "font": {
         "size": 10
        },
        "template": {
         "data": {
          "bar": [
           {
            "error_x": {
             "color": "#2a3f5f"
            },
            "error_y": {
             "color": "#2a3f5f"
            },
            "marker": {
             "line": {
              "color": "#E5ECF6",
              "width": 0.5
             },
             "pattern": {
              "fillmode": "overlay",
              "size": 10,
              "solidity": 0.2
             }
            },
            "type": "bar"
           }
          ],
          "barpolar": [
           {
            "marker": {
             "line": {
              "color": "#E5ECF6",
              "width": 0.5
             },
             "pattern": {
              "fillmode": "overlay",
              "size": 10,
              "solidity": 0.2
             }
            },
            "type": "barpolar"
           }
          ],
          "carpet": [
           {
            "aaxis": {
             "endlinecolor": "#2a3f5f",
             "gridcolor": "white",
             "linecolor": "white",
             "minorgridcolor": "white",
             "startlinecolor": "#2a3f5f"
            },
            "baxis": {
             "endlinecolor": "#2a3f5f",
             "gridcolor": "white",
             "linecolor": "white",
             "minorgridcolor": "white",
             "startlinecolor": "#2a3f5f"
            },
            "type": "carpet"
           }
          ],
          "choropleth": [
           {
            "colorbar": {
             "outlinewidth": 0,
             "ticks": ""
            },
            "type": "choropleth"
           }
          ],
          "contour": [
           {
            "colorbar": {
             "outlinewidth": 0,
             "ticks": ""
            },
            "colorscale": [
             [
              0,
              "#0d0887"
             ],
             [
              0.1111111111111111,
              "#46039f"
             ],
             [
              0.2222222222222222,
              "#7201a8"
             ],
             [
              0.3333333333333333,
              "#9c179e"
             ],
             [
              0.4444444444444444,
              "#bd3786"
             ],
             [
              0.5555555555555556,
              "#d8576b"
             ],
             [
              0.6666666666666666,
              "#ed7953"
             ],
             [
              0.7777777777777778,
              "#fb9f3a"
             ],
             [
              0.8888888888888888,
              "#fdca26"
             ],
             [
              1,
              "#f0f921"
             ]
            ],
            "type": "contour"
           }
          ],
          "contourcarpet": [
           {
            "colorbar": {
             "outlinewidth": 0,
             "ticks": ""
            },
            "type": "contourcarpet"
           }
          ],
          "heatmap": [
           {
            "colorbar": {
             "outlinewidth": 0,
             "ticks": ""
            },
            "colorscale": [
             [
              0,
              "#0d0887"
             ],
             [
              0.1111111111111111,
              "#46039f"
             ],
             [
              0.2222222222222222,
              "#7201a8"
             ],
             [
              0.3333333333333333,
              "#9c179e"
             ],
             [
              0.4444444444444444,
              "#bd3786"
             ],
             [
              0.5555555555555556,
              "#d8576b"
             ],
             [
              0.6666666666666666,
              "#ed7953"
             ],
             [
              0.7777777777777778,
              "#fb9f3a"
             ],
             [
              0.8888888888888888,
              "#fdca26"
             ],
             [
              1,
              "#f0f921"
             ]
            ],
            "type": "heatmap"
           }
          ],
          "heatmapgl": [
           {
            "colorbar": {
             "outlinewidth": 0,
             "ticks": ""
            },
            "colorscale": [
             [
              0,
              "#0d0887"
             ],
             [
              0.1111111111111111,
              "#46039f"
             ],
             [
              0.2222222222222222,
              "#7201a8"
             ],
             [
              0.3333333333333333,
              "#9c179e"
             ],
             [
              0.4444444444444444,
              "#bd3786"
             ],
             [
              0.5555555555555556,
              "#d8576b"
             ],
             [
              0.6666666666666666,
              "#ed7953"
             ],
             [
              0.7777777777777778,
              "#fb9f3a"
             ],
             [
              0.8888888888888888,
              "#fdca26"
             ],
             [
              1,
              "#f0f921"
             ]
            ],
            "type": "heatmapgl"
           }
          ],
          "histogram": [
           {
            "marker": {
             "pattern": {
              "fillmode": "overlay",
              "size": 10,
              "solidity": 0.2
             }
            },
            "type": "histogram"
           }
          ],
          "histogram2d": [
           {
            "colorbar": {
             "outlinewidth": 0,
             "ticks": ""
            },
            "colorscale": [
             [
              0,
              "#0d0887"
             ],
             [
              0.1111111111111111,
              "#46039f"
             ],
             [
              0.2222222222222222,
              "#7201a8"
             ],
             [
              0.3333333333333333,
              "#9c179e"
             ],
             [
              0.4444444444444444,
              "#bd3786"
             ],
             [
              0.5555555555555556,
              "#d8576b"
             ],
             [
              0.6666666666666666,
              "#ed7953"
             ],
             [
              0.7777777777777778,
              "#fb9f3a"
             ],
             [
              0.8888888888888888,
              "#fdca26"
             ],
             [
              1,
              "#f0f921"
             ]
            ],
            "type": "histogram2d"
           }
          ],
          "histogram2dcontour": [
           {
            "colorbar": {
             "outlinewidth": 0,
             "ticks": ""
            },
            "colorscale": [
             [
              0,
              "#0d0887"
             ],
             [
              0.1111111111111111,
              "#46039f"
             ],
             [
              0.2222222222222222,
              "#7201a8"
             ],
             [
              0.3333333333333333,
              "#9c179e"
             ],
             [
              0.4444444444444444,
              "#bd3786"
             ],
             [
              0.5555555555555556,
              "#d8576b"
             ],
             [
              0.6666666666666666,
              "#ed7953"
             ],
             [
              0.7777777777777778,
              "#fb9f3a"
             ],
             [
              0.8888888888888888,
              "#fdca26"
             ],
             [
              1,
              "#f0f921"
             ]
            ],
            "type": "histogram2dcontour"
           }
          ],
          "mesh3d": [
           {
            "colorbar": {
             "outlinewidth": 0,
             "ticks": ""
            },
            "type": "mesh3d"
           }
          ],
          "parcoords": [
           {
            "line": {
             "colorbar": {
              "outlinewidth": 0,
              "ticks": ""
             }
            },
            "type": "parcoords"
           }
          ],
          "pie": [
           {
            "automargin": true,
            "type": "pie"
           }
          ],
          "scatter": [
           {
            "fillpattern": {
             "fillmode": "overlay",
             "size": 10,
             "solidity": 0.2
            },
            "type": "scatter"
           }
          ],
          "scatter3d": [
           {
            "line": {
             "colorbar": {
              "outlinewidth": 0,
              "ticks": ""
             }
            },
            "marker": {
             "colorbar": {
              "outlinewidth": 0,
              "ticks": ""
             }
            },
            "type": "scatter3d"
           }
          ],
          "scattercarpet": [
           {
            "marker": {
             "colorbar": {
              "outlinewidth": 0,
              "ticks": ""
             }
            },
            "type": "scattercarpet"
           }
          ],
          "scattergeo": [
           {
            "marker": {
             "colorbar": {
              "outlinewidth": 0,
              "ticks": ""
             }
            },
            "type": "scattergeo"
           }
          ],
          "scattergl": [
           {
            "marker": {
             "colorbar": {
              "outlinewidth": 0,
              "ticks": ""
             }
            },
            "type": "scattergl"
           }
          ],
          "scattermapbox": [
           {
            "marker": {
             "colorbar": {
              "outlinewidth": 0,
              "ticks": ""
             }
            },
            "type": "scattermapbox"
           }
          ],
          "scatterpolar": [
           {
            "marker": {
             "colorbar": {
              "outlinewidth": 0,
              "ticks": ""
             }
            },
            "type": "scatterpolar"
           }
          ],
          "scatterpolargl": [
           {
            "marker": {
             "colorbar": {
              "outlinewidth": 0,
              "ticks": ""
             }
            },
            "type": "scatterpolargl"
           }
          ],
          "scatterternary": [
           {
            "marker": {
             "colorbar": {
              "outlinewidth": 0,
              "ticks": ""
             }
            },
            "type": "scatterternary"
           }
          ],
          "surface": [
           {
            "colorbar": {
             "outlinewidth": 0,
             "ticks": ""
            },
            "colorscale": [
             [
              0,
              "#0d0887"
             ],
             [
              0.1111111111111111,
              "#46039f"
             ],
             [
              0.2222222222222222,
              "#7201a8"
             ],
             [
              0.3333333333333333,
              "#9c179e"
             ],
             [
              0.4444444444444444,
              "#bd3786"
             ],
             [
              0.5555555555555556,
              "#d8576b"
             ],
             [
              0.6666666666666666,
              "#ed7953"
             ],
             [
              0.7777777777777778,
              "#fb9f3a"
             ],
             [
              0.8888888888888888,
              "#fdca26"
             ],
             [
              1,
              "#f0f921"
             ]
            ],
            "type": "surface"
           }
          ],
          "table": [
           {
            "cells": {
             "fill": {
              "color": "#EBF0F8"
             },
             "line": {
              "color": "white"
             }
            },
            "header": {
             "fill": {
              "color": "#C8D4E3"
             },
             "line": {
              "color": "white"
             }
            },
            "type": "table"
           }
          ]
         },
         "layout": {
          "annotationdefaults": {
           "arrowcolor": "#2a3f5f",
           "arrowhead": 0,
           "arrowwidth": 1
          },
          "autotypenumbers": "strict",
          "coloraxis": {
           "colorbar": {
            "outlinewidth": 0,
            "ticks": ""
           }
          },
          "colorscale": {
           "diverging": [
            [
             0,
             "#8e0152"
            ],
            [
             0.1,
             "#c51b7d"
            ],
            [
             0.2,
             "#de77ae"
            ],
            [
             0.3,
             "#f1b6da"
            ],
            [
             0.4,
             "#fde0ef"
            ],
            [
             0.5,
             "#f7f7f7"
            ],
            [
             0.6,
             "#e6f5d0"
            ],
            [
             0.7,
             "#b8e186"
            ],
            [
             0.8,
             "#7fbc41"
            ],
            [
             0.9,
             "#4d9221"
            ],
            [
             1,
             "#276419"
            ]
           ],
           "sequential": [
            [
             0,
             "#0d0887"
            ],
            [
             0.1111111111111111,
             "#46039f"
            ],
            [
             0.2222222222222222,
             "#7201a8"
            ],
            [
             0.3333333333333333,
             "#9c179e"
            ],
            [
             0.4444444444444444,
             "#bd3786"
            ],
            [
             0.5555555555555556,
             "#d8576b"
            ],
            [
             0.6666666666666666,
             "#ed7953"
            ],
            [
             0.7777777777777778,
             "#fb9f3a"
            ],
            [
             0.8888888888888888,
             "#fdca26"
            ],
            [
             1,
             "#f0f921"
            ]
           ],
           "sequentialminus": [
            [
             0,
             "#0d0887"
            ],
            [
             0.1111111111111111,
             "#46039f"
            ],
            [
             0.2222222222222222,
             "#7201a8"
            ],
            [
             0.3333333333333333,
             "#9c179e"
            ],
            [
             0.4444444444444444,
             "#bd3786"
            ],
            [
             0.5555555555555556,
             "#d8576b"
            ],
            [
             0.6666666666666666,
             "#ed7953"
            ],
            [
             0.7777777777777778,
             "#fb9f3a"
            ],
            [
             0.8888888888888888,
             "#fdca26"
            ],
            [
             1,
             "#f0f921"
            ]
           ]
          },
          "colorway": [
           "#636efa",
           "#EF553B",
           "#00cc96",
           "#ab63fa",
           "#FFA15A",
           "#19d3f3",
           "#FF6692",
           "#B6E880",
           "#FF97FF",
           "#FECB52"
          ],
          "font": {
           "color": "#2a3f5f"
          },
          "geo": {
           "bgcolor": "white",
           "lakecolor": "white",
           "landcolor": "#E5ECF6",
           "showlakes": true,
           "showland": true,
           "subunitcolor": "white"
          },
          "hoverlabel": {
           "align": "left"
          },
          "hovermode": "closest",
          "mapbox": {
           "style": "light"
          },
          "paper_bgcolor": "white",
          "plot_bgcolor": "#E5ECF6",
          "polar": {
           "angularaxis": {
            "gridcolor": "white",
            "linecolor": "white",
            "ticks": ""
           },
           "bgcolor": "#E5ECF6",
           "radialaxis": {
            "gridcolor": "white",
            "linecolor": "white",
            "ticks": ""
           }
          },
          "scene": {
           "xaxis": {
            "backgroundcolor": "#E5ECF6",
            "gridcolor": "white",
            "gridwidth": 2,
            "linecolor": "white",
            "showbackground": true,
            "ticks": "",
            "zerolinecolor": "white"
           },
           "yaxis": {
            "backgroundcolor": "#E5ECF6",
            "gridcolor": "white",
            "gridwidth": 2,
            "linecolor": "white",
            "showbackground": true,
            "ticks": "",
            "zerolinecolor": "white"
           },
           "zaxis": {
            "backgroundcolor": "#E5ECF6",
            "gridcolor": "white",
            "gridwidth": 2,
            "linecolor": "white",
            "showbackground": true,
            "ticks": "",
            "zerolinecolor": "white"
           }
          },
          "shapedefaults": {
           "line": {
            "color": "#2a3f5f"
           }
          },
          "ternary": {
           "aaxis": {
            "gridcolor": "white",
            "linecolor": "white",
            "ticks": ""
           },
           "baxis": {
            "gridcolor": "white",
            "linecolor": "white",
            "ticks": ""
           },
           "bgcolor": "#E5ECF6",
           "caxis": {
            "gridcolor": "white",
            "linecolor": "white",
            "ticks": ""
           }
          },
          "title": {
           "x": 0.05
          },
          "xaxis": {
           "automargin": true,
           "gridcolor": "white",
           "linecolor": "white",
           "ticks": "",
           "title": {
            "standoff": 15
           },
           "zerolinecolor": "white",
           "zerolinewidth": 2
          },
          "yaxis": {
           "automargin": true,
           "gridcolor": "white",
           "linecolor": "white",
           "ticks": "",
           "title": {
            "standoff": 15
           },
           "zerolinecolor": "white",
           "zerolinewidth": 2
          }
         }
        },
        "title": {
         "text": "Sankey Diagram for User 'houyuih'"
        }
       }
      }
     },
     "metadata": {},
     "output_type": "display_data"
    }
   ],
   "source": [
    "import pandas as pd\n",
    "import plotly.graph_objects as go\n",
    "\n",
    "# Filter the DataFrame for the user 'chingte'\n",
    "df_houyuih = main_df_no_live[main_df_no_live['User Name'] == 'chingte']\n",
    "\n",
    "# Select columns that have 'target_' as a prefix\n",
    "target_columns = [col for col in df_houyuih.columns if col.startswith('target_')]\n",
    "\n",
    "# Calculate the cumulative values for each 'target_' column\n",
    "cumulative_values = df_houyuih[target_columns].sum().tolist()\n",
    "\n",
    "# Create labels with cumulative values\n",
    "labels_with_values = [f\"{col} ({val})\" for col, val in zip(target_columns, cumulative_values)]\n",
    "\n",
    "# Create the Sankey chart\n",
    "fig = go.Figure(data=[go.Sankey(\n",
    "    node = dict(\n",
    "      pad = 15,\n",
    "      thickness = 20,\n",
    "      line = dict(color = \"black\", width = 0.5),\n",
    "      label = ['chingte'] + labels_with_values,  # Include 'houyuih' in the labels\n",
    "      color = \"blue\"\n",
    "    ),\n",
    "    link = dict(\n",
    "      source = [0]*len(target_columns),  # All links start from the first node ('houyuih')\n",
    "      target = list(range(1, len(target_columns) + 1)),  # Links end at each 'target_' node\n",
    "      value = cumulative_values\n",
    "    )\n",
    ")])\n",
    "\n",
    "fig.update_layout(title_text=\"Sankey Diagram for User 'houyuih'\", font_size=10)\n",
    "fig.show()"
   ]
  },
  {
   "cell_type": "code",
   "execution_count": 395,
   "metadata": {},
   "outputs": [
    {
     "data": {
      "application/vnd.plotly.v1+json": {
       "config": {
        "plotlyServerURL": "https://plot.ly"
       },
       "data": [
        {
         "link": {
          "source": [
           0,
           0,
           0,
           0,
           0,
           0,
           0,
           0,
           0,
           0,
           0,
           0,
           0,
           0,
           0,
           0,
           0,
           0,
           0
          ],
          "target": [
           1,
           2,
           3,
           4,
           5,
           6,
           7,
           8,
           9,
           10,
           11,
           12,
           13,
           14,
           15,
           16,
           17,
           18,
           19
          ],
          "value": [
           0,
           27,
           55,
           0,
           13,
           0,
           0,
           43,
           0,
           20,
           0,
           2,
           0,
           0,
           14,
           0,
           0,
           0,
           5
          ]
         },
         "node": {
          "color": "blue",
          "label": [
           "DoctorKoWJ",
           "target_藍白合 (0)",
           "target_賴 (27)",
           "target_民進黨 (55)",
           "target_在野黨 (0)",
           "target_侯 (13)",
           "target_馬英九 (0)",
           "target_藍白 (0)",
           "target_藍綠 (43)",
           "target_綠營 (0)",
           "target_蔡 (20)",
           "target_柯 (0)",
           "target_趙 (2)",
           "target_民眾黨 (0)",
           "target_馬前總統 (0)",
           "target_國民黨 (14)",
           "target_朱 (0)",
           "target_在野黨/國民黨 (0)",
           "target_蕭 (0)",
           "target_執政黨/民進黨 (5)"
          ],
          "line": {
           "color": "black",
           "width": 0.5
          },
          "pad": 15,
          "thickness": 20
         },
         "type": "sankey"
        }
       ],
       "layout": {
        "font": {
         "size": 10
        },
        "template": {
         "data": {
          "bar": [
           {
            "error_x": {
             "color": "#2a3f5f"
            },
            "error_y": {
             "color": "#2a3f5f"
            },
            "marker": {
             "line": {
              "color": "#E5ECF6",
              "width": 0.5
             },
             "pattern": {
              "fillmode": "overlay",
              "size": 10,
              "solidity": 0.2
             }
            },
            "type": "bar"
           }
          ],
          "barpolar": [
           {
            "marker": {
             "line": {
              "color": "#E5ECF6",
              "width": 0.5
             },
             "pattern": {
              "fillmode": "overlay",
              "size": 10,
              "solidity": 0.2
             }
            },
            "type": "barpolar"
           }
          ],
          "carpet": [
           {
            "aaxis": {
             "endlinecolor": "#2a3f5f",
             "gridcolor": "white",
             "linecolor": "white",
             "minorgridcolor": "white",
             "startlinecolor": "#2a3f5f"
            },
            "baxis": {
             "endlinecolor": "#2a3f5f",
             "gridcolor": "white",
             "linecolor": "white",
             "minorgridcolor": "white",
             "startlinecolor": "#2a3f5f"
            },
            "type": "carpet"
           }
          ],
          "choropleth": [
           {
            "colorbar": {
             "outlinewidth": 0,
             "ticks": ""
            },
            "type": "choropleth"
           }
          ],
          "contour": [
           {
            "colorbar": {
             "outlinewidth": 0,
             "ticks": ""
            },
            "colorscale": [
             [
              0,
              "#0d0887"
             ],
             [
              0.1111111111111111,
              "#46039f"
             ],
             [
              0.2222222222222222,
              "#7201a8"
             ],
             [
              0.3333333333333333,
              "#9c179e"
             ],
             [
              0.4444444444444444,
              "#bd3786"
             ],
             [
              0.5555555555555556,
              "#d8576b"
             ],
             [
              0.6666666666666666,
              "#ed7953"
             ],
             [
              0.7777777777777778,
              "#fb9f3a"
             ],
             [
              0.8888888888888888,
              "#fdca26"
             ],
             [
              1,
              "#f0f921"
             ]
            ],
            "type": "contour"
           }
          ],
          "contourcarpet": [
           {
            "colorbar": {
             "outlinewidth": 0,
             "ticks": ""
            },
            "type": "contourcarpet"
           }
          ],
          "heatmap": [
           {
            "colorbar": {
             "outlinewidth": 0,
             "ticks": ""
            },
            "colorscale": [
             [
              0,
              "#0d0887"
             ],
             [
              0.1111111111111111,
              "#46039f"
             ],
             [
              0.2222222222222222,
              "#7201a8"
             ],
             [
              0.3333333333333333,
              "#9c179e"
             ],
             [
              0.4444444444444444,
              "#bd3786"
             ],
             [
              0.5555555555555556,
              "#d8576b"
             ],
             [
              0.6666666666666666,
              "#ed7953"
             ],
             [
              0.7777777777777778,
              "#fb9f3a"
             ],
             [
              0.8888888888888888,
              "#fdca26"
             ],
             [
              1,
              "#f0f921"
             ]
            ],
            "type": "heatmap"
           }
          ],
          "heatmapgl": [
           {
            "colorbar": {
             "outlinewidth": 0,
             "ticks": ""
            },
            "colorscale": [
             [
              0,
              "#0d0887"
             ],
             [
              0.1111111111111111,
              "#46039f"
             ],
             [
              0.2222222222222222,
              "#7201a8"
             ],
             [
              0.3333333333333333,
              "#9c179e"
             ],
             [
              0.4444444444444444,
              "#bd3786"
             ],
             [
              0.5555555555555556,
              "#d8576b"
             ],
             [
              0.6666666666666666,
              "#ed7953"
             ],
             [
              0.7777777777777778,
              "#fb9f3a"
             ],
             [
              0.8888888888888888,
              "#fdca26"
             ],
             [
              1,
              "#f0f921"
             ]
            ],
            "type": "heatmapgl"
           }
          ],
          "histogram": [
           {
            "marker": {
             "pattern": {
              "fillmode": "overlay",
              "size": 10,
              "solidity": 0.2
             }
            },
            "type": "histogram"
           }
          ],
          "histogram2d": [
           {
            "colorbar": {
             "outlinewidth": 0,
             "ticks": ""
            },
            "colorscale": [
             [
              0,
              "#0d0887"
             ],
             [
              0.1111111111111111,
              "#46039f"
             ],
             [
              0.2222222222222222,
              "#7201a8"
             ],
             [
              0.3333333333333333,
              "#9c179e"
             ],
             [
              0.4444444444444444,
              "#bd3786"
             ],
             [
              0.5555555555555556,
              "#d8576b"
             ],
             [
              0.6666666666666666,
              "#ed7953"
             ],
             [
              0.7777777777777778,
              "#fb9f3a"
             ],
             [
              0.8888888888888888,
              "#fdca26"
             ],
             [
              1,
              "#f0f921"
             ]
            ],
            "type": "histogram2d"
           }
          ],
          "histogram2dcontour": [
           {
            "colorbar": {
             "outlinewidth": 0,
             "ticks": ""
            },
            "colorscale": [
             [
              0,
              "#0d0887"
             ],
             [
              0.1111111111111111,
              "#46039f"
             ],
             [
              0.2222222222222222,
              "#7201a8"
             ],
             [
              0.3333333333333333,
              "#9c179e"
             ],
             [
              0.4444444444444444,
              "#bd3786"
             ],
             [
              0.5555555555555556,
              "#d8576b"
             ],
             [
              0.6666666666666666,
              "#ed7953"
             ],
             [
              0.7777777777777778,
              "#fb9f3a"
             ],
             [
              0.8888888888888888,
              "#fdca26"
             ],
             [
              1,
              "#f0f921"
             ]
            ],
            "type": "histogram2dcontour"
           }
          ],
          "mesh3d": [
           {
            "colorbar": {
             "outlinewidth": 0,
             "ticks": ""
            },
            "type": "mesh3d"
           }
          ],
          "parcoords": [
           {
            "line": {
             "colorbar": {
              "outlinewidth": 0,
              "ticks": ""
             }
            },
            "type": "parcoords"
           }
          ],
          "pie": [
           {
            "automargin": true,
            "type": "pie"
           }
          ],
          "scatter": [
           {
            "fillpattern": {
             "fillmode": "overlay",
             "size": 10,
             "solidity": 0.2
            },
            "type": "scatter"
           }
          ],
          "scatter3d": [
           {
            "line": {
             "colorbar": {
              "outlinewidth": 0,
              "ticks": ""
             }
            },
            "marker": {
             "colorbar": {
              "outlinewidth": 0,
              "ticks": ""
             }
            },
            "type": "scatter3d"
           }
          ],
          "scattercarpet": [
           {
            "marker": {
             "colorbar": {
              "outlinewidth": 0,
              "ticks": ""
             }
            },
            "type": "scattercarpet"
           }
          ],
          "scattergeo": [
           {
            "marker": {
             "colorbar": {
              "outlinewidth": 0,
              "ticks": ""
             }
            },
            "type": "scattergeo"
           }
          ],
          "scattergl": [
           {
            "marker": {
             "colorbar": {
              "outlinewidth": 0,
              "ticks": ""
             }
            },
            "type": "scattergl"
           }
          ],
          "scattermapbox": [
           {
            "marker": {
             "colorbar": {
              "outlinewidth": 0,
              "ticks": ""
             }
            },
            "type": "scattermapbox"
           }
          ],
          "scatterpolar": [
           {
            "marker": {
             "colorbar": {
              "outlinewidth": 0,
              "ticks": ""
             }
            },
            "type": "scatterpolar"
           }
          ],
          "scatterpolargl": [
           {
            "marker": {
             "colorbar": {
              "outlinewidth": 0,
              "ticks": ""
             }
            },
            "type": "scatterpolargl"
           }
          ],
          "scatterternary": [
           {
            "marker": {
             "colorbar": {
              "outlinewidth": 0,
              "ticks": ""
             }
            },
            "type": "scatterternary"
           }
          ],
          "surface": [
           {
            "colorbar": {
             "outlinewidth": 0,
             "ticks": ""
            },
            "colorscale": [
             [
              0,
              "#0d0887"
             ],
             [
              0.1111111111111111,
              "#46039f"
             ],
             [
              0.2222222222222222,
              "#7201a8"
             ],
             [
              0.3333333333333333,
              "#9c179e"
             ],
             [
              0.4444444444444444,
              "#bd3786"
             ],
             [
              0.5555555555555556,
              "#d8576b"
             ],
             [
              0.6666666666666666,
              "#ed7953"
             ],
             [
              0.7777777777777778,
              "#fb9f3a"
             ],
             [
              0.8888888888888888,
              "#fdca26"
             ],
             [
              1,
              "#f0f921"
             ]
            ],
            "type": "surface"
           }
          ],
          "table": [
           {
            "cells": {
             "fill": {
              "color": "#EBF0F8"
             },
             "line": {
              "color": "white"
             }
            },
            "header": {
             "fill": {
              "color": "#C8D4E3"
             },
             "line": {
              "color": "white"
             }
            },
            "type": "table"
           }
          ]
         },
         "layout": {
          "annotationdefaults": {
           "arrowcolor": "#2a3f5f",
           "arrowhead": 0,
           "arrowwidth": 1
          },
          "autotypenumbers": "strict",
          "coloraxis": {
           "colorbar": {
            "outlinewidth": 0,
            "ticks": ""
           }
          },
          "colorscale": {
           "diverging": [
            [
             0,
             "#8e0152"
            ],
            [
             0.1,
             "#c51b7d"
            ],
            [
             0.2,
             "#de77ae"
            ],
            [
             0.3,
             "#f1b6da"
            ],
            [
             0.4,
             "#fde0ef"
            ],
            [
             0.5,
             "#f7f7f7"
            ],
            [
             0.6,
             "#e6f5d0"
            ],
            [
             0.7,
             "#b8e186"
            ],
            [
             0.8,
             "#7fbc41"
            ],
            [
             0.9,
             "#4d9221"
            ],
            [
             1,
             "#276419"
            ]
           ],
           "sequential": [
            [
             0,
             "#0d0887"
            ],
            [
             0.1111111111111111,
             "#46039f"
            ],
            [
             0.2222222222222222,
             "#7201a8"
            ],
            [
             0.3333333333333333,
             "#9c179e"
            ],
            [
             0.4444444444444444,
             "#bd3786"
            ],
            [
             0.5555555555555556,
             "#d8576b"
            ],
            [
             0.6666666666666666,
             "#ed7953"
            ],
            [
             0.7777777777777778,
             "#fb9f3a"
            ],
            [
             0.8888888888888888,
             "#fdca26"
            ],
            [
             1,
             "#f0f921"
            ]
           ],
           "sequentialminus": [
            [
             0,
             "#0d0887"
            ],
            [
             0.1111111111111111,
             "#46039f"
            ],
            [
             0.2222222222222222,
             "#7201a8"
            ],
            [
             0.3333333333333333,
             "#9c179e"
            ],
            [
             0.4444444444444444,
             "#bd3786"
            ],
            [
             0.5555555555555556,
             "#d8576b"
            ],
            [
             0.6666666666666666,
             "#ed7953"
            ],
            [
             0.7777777777777778,
             "#fb9f3a"
            ],
            [
             0.8888888888888888,
             "#fdca26"
            ],
            [
             1,
             "#f0f921"
            ]
           ]
          },
          "colorway": [
           "#636efa",
           "#EF553B",
           "#00cc96",
           "#ab63fa",
           "#FFA15A",
           "#19d3f3",
           "#FF6692",
           "#B6E880",
           "#FF97FF",
           "#FECB52"
          ],
          "font": {
           "color": "#2a3f5f"
          },
          "geo": {
           "bgcolor": "white",
           "lakecolor": "white",
           "landcolor": "#E5ECF6",
           "showlakes": true,
           "showland": true,
           "subunitcolor": "white"
          },
          "hoverlabel": {
           "align": "left"
          },
          "hovermode": "closest",
          "mapbox": {
           "style": "light"
          },
          "paper_bgcolor": "white",
          "plot_bgcolor": "#E5ECF6",
          "polar": {
           "angularaxis": {
            "gridcolor": "white",
            "linecolor": "white",
            "ticks": ""
           },
           "bgcolor": "#E5ECF6",
           "radialaxis": {
            "gridcolor": "white",
            "linecolor": "white",
            "ticks": ""
           }
          },
          "scene": {
           "xaxis": {
            "backgroundcolor": "#E5ECF6",
            "gridcolor": "white",
            "gridwidth": 2,
            "linecolor": "white",
            "showbackground": true,
            "ticks": "",
            "zerolinecolor": "white"
           },
           "yaxis": {
            "backgroundcolor": "#E5ECF6",
            "gridcolor": "white",
            "gridwidth": 2,
            "linecolor": "white",
            "showbackground": true,
            "ticks": "",
            "zerolinecolor": "white"
           },
           "zaxis": {
            "backgroundcolor": "#E5ECF6",
            "gridcolor": "white",
            "gridwidth": 2,
            "linecolor": "white",
            "showbackground": true,
            "ticks": "",
            "zerolinecolor": "white"
           }
          },
          "shapedefaults": {
           "line": {
            "color": "#2a3f5f"
           }
          },
          "ternary": {
           "aaxis": {
            "gridcolor": "white",
            "linecolor": "white",
            "ticks": ""
           },
           "baxis": {
            "gridcolor": "white",
            "linecolor": "white",
            "ticks": ""
           },
           "bgcolor": "#E5ECF6",
           "caxis": {
            "gridcolor": "white",
            "linecolor": "white",
            "ticks": ""
           }
          },
          "title": {
           "x": 0.05
          },
          "xaxis": {
           "automargin": true,
           "gridcolor": "white",
           "linecolor": "white",
           "ticks": "",
           "title": {
            "standoff": 15
           },
           "zerolinecolor": "white",
           "zerolinewidth": 2
          },
          "yaxis": {
           "automargin": true,
           "gridcolor": "white",
           "linecolor": "white",
           "ticks": "",
           "title": {
            "standoff": 15
           },
           "zerolinecolor": "white",
           "zerolinewidth": 2
          }
         }
        },
        "title": {
         "text": "Sankey Diagram for User 'houyuih'"
        }
       }
      }
     },
     "metadata": {},
     "output_type": "display_data"
    }
   ],
   "source": [
    "import pandas as pd\n",
    "import plotly.graph_objects as go\n",
    "\n",
    "# Filter the DataFrame for the user 'chingte'\n",
    "df_houyuih = main_df_no_live[main_df_no_live['User Name'] == 'DoctorKoWJ']\n",
    "\n",
    "# Select columns that have 'target_' as a prefix\n",
    "target_columns = [col for col in df_houyuih.columns if col.startswith('target_')]\n",
    "\n",
    "# Calculate the cumulative values for each 'target_' column\n",
    "cumulative_values = df_houyuih[target_columns].sum().tolist()\n",
    "\n",
    "# Create labels with cumulative values\n",
    "labels_with_values = [f\"{col} ({val})\" for col, val in zip(target_columns, cumulative_values)]\n",
    "\n",
    "# Create the Sankey chart\n",
    "fig = go.Figure(data=[go.Sankey(\n",
    "    node = dict(\n",
    "      pad = 15,\n",
    "      thickness = 20,\n",
    "      line = dict(color = \"black\", width = 0.5),\n",
    "      label = ['DoctorKoWJ'] + labels_with_values,  # Include 'houyuih' in the labels\n",
    "      color = \"blue\"\n",
    "    ),\n",
    "    link = dict(\n",
    "      source = [0]*len(target_columns),  # All links start from the first node ('houyuih')\n",
    "      target = list(range(1, len(target_columns) + 1)),  # Links end at each 'target_' node\n",
    "      value = cumulative_values\n",
    "    )\n",
    ")])\n",
    "\n",
    "fig.update_layout(title_text=\"Sankey Diagram for User 'houyuih'\", font_size=10)\n",
    "fig.show()"
   ]
  },
  {
   "cell_type": "code",
   "execution_count": 397,
   "metadata": {},
   "outputs": [],
   "source": [
    "#save main_df_no_live as a csv\n",
    "#main_df_no_live.to_csv('/Users/jasperhewitt/Desktop/github_repos/Campaigning_101/data/all_attacks.csv', index=False)"
   ]
  },
  {
   "cell_type": "code",
   "execution_count": 398,
   "metadata": {},
   "outputs": [
    {
     "data": {
      "text/plain": [
       "Index(['Unnamed: 0_x', 'serial_number', 'Page Name', 'User Name',\n",
       "       'Facebook Id', 'Page Category', 'Page Admin Top Country',\n",
       "       'Page Description', 'Page Created', 'Likes at Posting',\n",
       "       'Followers at Posting', 'Post Created', 'Post Created Date',\n",
       "       'Post Created Time', 'Type', 'Total Interactions', 'Likes', 'Comments',\n",
       "       'Shares', 'Love', 'Wow', 'Haha', 'Sad', 'Angry', 'Care',\n",
       "       'Video Share Status', 'Is Video Owner?', 'Post Views', 'Total Views',\n",
       "       'Total Views For All Crossposts', 'Video Length', 'URL', 'Message',\n",
       "       'Link', 'Final Link', 'Image Text', 'Link Text', 'Description',\n",
       "       'Sponsor Id', 'Sponsor Name', 'Sponsor Category',\n",
       "       'Total Interactions (weighted  —  Likes 1x Shares 1x Comments 1x Love 1x Wow 1x Haha 1x Sad 1x Angry 1x Care 1x )',\n",
       "       'Overperforming Score', 'combined_text', 'Unnamed: 0_y',\n",
       "       'mention_other', 'mentioned_other', 'attack', 'target', 'description',\n",
       "       'Overperforming Score (weighted  —  Likes 1x Shares 1x Comments 1x Love 1x Wow 1x Haha 1x Sad 1x Angry 1x Care 1x )',\n",
       "       'combined_text_length', 'combined_text_length_category', 'target_藍白合',\n",
       "       'target_賴', 'target_民進黨', 'target_在野黨', 'target_侯', 'target_馬英九',\n",
       "       'target_藍白', 'target_藍綠', 'target_綠營', 'target_蔡', 'target_柯',\n",
       "       'target_趙', 'target_民眾黨', 'target_馬前總統', 'target_國民黨', 'target_朱',\n",
       "       'target_在野黨/國民黨', 'target_蕭', 'target_執政黨/民進黨', 'total_targets'],\n",
       "      dtype='object')"
      ]
     },
     "execution_count": 398,
     "metadata": {},
     "output_type": "execute_result"
    }
   ],
   "source": [
    "#ok now run the word clouds and the topic model... \n",
    "main_df_no_live.columns"
   ]
  },
  {
   "cell_type": "code",
   "execution_count": null,
   "metadata": {},
   "outputs": [],
   "source": []
  },
  {
   "cell_type": "code",
   "execution_count": null,
   "metadata": {},
   "outputs": [],
   "source": []
  },
  {
   "cell_type": "code",
   "execution_count": 419,
   "metadata": {},
   "outputs": [
    {
     "name": "stdout",
     "output_type": "stream",
     "text": [
      "Requirement already satisfied: pandas in /Library/Frameworks/Python.framework/Versions/3.11/lib/python3.11/site-packages (2.0.0)\n",
      "Collecting bertopic\n",
      "  Downloading bertopic-0.16.0-py2.py3-none-any.whl (154 kB)\n",
      "\u001b[2K     \u001b[90m━━━━━━━━━━━━━━━━━━━━━━━━━━━━━━━━━━━━━━━\u001b[0m \u001b[32m154.1/154.1 kB\u001b[0m \u001b[31m1.0 MB/s\u001b[0m eta \u001b[36m0:00:00\u001b[0ma \u001b[36m0:00:01\u001b[0m\n",
      "\u001b[?25hRequirement already satisfied: python-dateutil>=2.8.2 in /Users/jasperhewitt/Library/Python/3.11/lib/python/site-packages (from pandas) (2.8.2)\n",
      "Requirement already satisfied: pytz>=2020.1 in /Library/Frameworks/Python.framework/Versions/3.11/lib/python3.11/site-packages (from pandas) (2023.3)\n",
      "Requirement already satisfied: tzdata>=2022.1 in /Library/Frameworks/Python.framework/Versions/3.11/lib/python3.11/site-packages (from pandas) (2023.3)\n",
      "Requirement already satisfied: numpy>=1.21.0 in /Library/Frameworks/Python.framework/Versions/3.11/lib/python3.11/site-packages (from pandas) (1.24.2)\n",
      "Collecting hdbscan>=0.8.29 (from bertopic)\n",
      "  Downloading hdbscan-0.8.33.tar.gz (5.2 MB)\n",
      "\u001b[2K     \u001b[90m━━━━━━━━━━━━━━━━━━━━━━━━━━━━━━━━━━━━━━━━\u001b[0m \u001b[32m5.2/5.2 MB\u001b[0m \u001b[31m3.5 MB/s\u001b[0m eta \u001b[36m0:00:00\u001b[0m00:01\u001b[0m00:01\u001b[0m\n",
      "\u001b[?25h  Installing build dependencies ... \u001b[?25ldone\n",
      "\u001b[?25h  Getting requirements to build wheel ... \u001b[?25ldone\n",
      "\u001b[?25h  Preparing metadata (pyproject.toml) ... \u001b[?25ldone\n",
      "\u001b[?25hCollecting umap-learn>=0.5.0 (from bertopic)\n",
      "  Downloading umap-learn-0.5.5.tar.gz (90 kB)\n",
      "\u001b[2K     \u001b[90m━━━━━━━━━━━━━━━━━━━━━━━━━━━━━━━━━━━━━━━━\u001b[0m \u001b[32m90.9/90.9 kB\u001b[0m \u001b[31m2.6 MB/s\u001b[0m eta \u001b[36m0:00:00\u001b[0m\n",
      "\u001b[?25h  Installing build dependencies ... \u001b[?25ldone\n",
      "\u001b[?25h  Getting requirements to build wheel ... \u001b[?25ldone\n",
      "\u001b[?25h  Preparing metadata (pyproject.toml) ... \u001b[?25ldone\n",
      "\u001b[?25hRequirement already satisfied: scikit-learn>=0.22.2.post1 in /Library/Frameworks/Python.framework/Versions/3.11/lib/python3.11/site-packages (from bertopic) (1.3.0)\n",
      "Requirement already satisfied: tqdm>=4.41.1 in /Library/Frameworks/Python.framework/Versions/3.11/lib/python3.11/site-packages (from bertopic) (4.65.0)\n",
      "Requirement already satisfied: sentence-transformers>=0.4.1 in /Library/Frameworks/Python.framework/Versions/3.11/lib/python3.11/site-packages (from bertopic) (2.2.2)\n",
      "Requirement already satisfied: plotly>=4.7.0 in /Library/Frameworks/Python.framework/Versions/3.11/lib/python3.11/site-packages (from bertopic) (5.15.0)\n",
      "Collecting cython<3,>=0.27 (from hdbscan>=0.8.29->bertopic)\n",
      "  Using cached Cython-0.29.37-py2.py3-none-any.whl (989 kB)\n",
      "Requirement already satisfied: scipy>=1.0 in /Library/Frameworks/Python.framework/Versions/3.11/lib/python3.11/site-packages (from hdbscan>=0.8.29->bertopic) (1.10.1)\n",
      "Requirement already satisfied: joblib>=1.0 in /Library/Frameworks/Python.framework/Versions/3.11/lib/python3.11/site-packages (from hdbscan>=0.8.29->bertopic) (1.2.0)\n",
      "Requirement already satisfied: tenacity>=6.2.0 in /Library/Frameworks/Python.framework/Versions/3.11/lib/python3.11/site-packages (from plotly>=4.7.0->bertopic) (8.2.2)\n",
      "Requirement already satisfied: packaging in /Users/jasperhewitt/Library/Python/3.11/lib/python/site-packages (from plotly>=4.7.0->bertopic) (23.1)\n",
      "Requirement already satisfied: six>=1.5 in /Users/jasperhewitt/Library/Python/3.11/lib/python/site-packages (from python-dateutil>=2.8.2->pandas) (1.16.0)\n",
      "Requirement already satisfied: threadpoolctl>=2.0.0 in /Library/Frameworks/Python.framework/Versions/3.11/lib/python3.11/site-packages (from scikit-learn>=0.22.2.post1->bertopic) (3.1.0)\n",
      "Requirement already satisfied: transformers<5.0.0,>=4.6.0 in /Library/Frameworks/Python.framework/Versions/3.11/lib/python3.11/site-packages (from sentence-transformers>=0.4.1->bertopic) (4.30.2)\n",
      "Requirement already satisfied: torch>=1.6.0 in /Library/Frameworks/Python.framework/Versions/3.11/lib/python3.11/site-packages (from sentence-transformers>=0.4.1->bertopic) (2.0.1)\n",
      "Requirement already satisfied: torchvision in /Library/Frameworks/Python.framework/Versions/3.11/lib/python3.11/site-packages (from sentence-transformers>=0.4.1->bertopic) (0.15.2)\n",
      "Requirement already satisfied: nltk in /Library/Frameworks/Python.framework/Versions/3.11/lib/python3.11/site-packages (from sentence-transformers>=0.4.1->bertopic) (3.8.1)\n",
      "Requirement already satisfied: sentencepiece in /Library/Frameworks/Python.framework/Versions/3.11/lib/python3.11/site-packages (from sentence-transformers>=0.4.1->bertopic) (0.1.99)\n",
      "Requirement already satisfied: huggingface-hub>=0.4.0 in /Library/Frameworks/Python.framework/Versions/3.11/lib/python3.11/site-packages (from sentence-transformers>=0.4.1->bertopic) (0.16.4)\n",
      "Requirement already satisfied: numba>=0.51.2 in /Library/Frameworks/Python.framework/Versions/3.11/lib/python3.11/site-packages (from umap-learn>=0.5.0->bertopic) (0.58.0)\n",
      "Collecting pynndescent>=0.5 (from umap-learn>=0.5.0->bertopic)\n",
      "  Downloading pynndescent-0.5.11-py3-none-any.whl (55 kB)\n",
      "\u001b[2K     \u001b[90m━━━━━━━━━━━━━━━━━━━━━━━━━━━━━━━━━━━━━━━━\u001b[0m \u001b[32m55.8/55.8 kB\u001b[0m \u001b[31m4.2 MB/s\u001b[0m eta \u001b[36m0:00:00\u001b[0m\n",
      "\u001b[?25hRequirement already satisfied: filelock in /Library/Frameworks/Python.framework/Versions/3.11/lib/python3.11/site-packages (from huggingface-hub>=0.4.0->sentence-transformers>=0.4.1->bertopic) (3.12.0)\n",
      "Requirement already satisfied: fsspec in /Library/Frameworks/Python.framework/Versions/3.11/lib/python3.11/site-packages (from huggingface-hub>=0.4.0->sentence-transformers>=0.4.1->bertopic) (2023.6.0)\n",
      "Requirement already satisfied: requests in /Library/Frameworks/Python.framework/Versions/3.11/lib/python3.11/site-packages (from huggingface-hub>=0.4.0->sentence-transformers>=0.4.1->bertopic) (2.28.2)\n",
      "Requirement already satisfied: pyyaml>=5.1 in /Library/Frameworks/Python.framework/Versions/3.11/lib/python3.11/site-packages (from huggingface-hub>=0.4.0->sentence-transformers>=0.4.1->bertopic) (6.0)\n",
      "Requirement already satisfied: typing-extensions>=3.7.4.3 in /Library/Frameworks/Python.framework/Versions/3.11/lib/python3.11/site-packages (from huggingface-hub>=0.4.0->sentence-transformers>=0.4.1->bertopic) (4.5.0)\n",
      "Requirement already satisfied: llvmlite<0.42,>=0.41.0dev0 in /Library/Frameworks/Python.framework/Versions/3.11/lib/python3.11/site-packages (from numba>=0.51.2->umap-learn>=0.5.0->bertopic) (0.41.0)\n",
      "Requirement already satisfied: sympy in /Library/Frameworks/Python.framework/Versions/3.11/lib/python3.11/site-packages (from torch>=1.6.0->sentence-transformers>=0.4.1->bertopic) (1.12)\n",
      "Requirement already satisfied: networkx in /Library/Frameworks/Python.framework/Versions/3.11/lib/python3.11/site-packages (from torch>=1.6.0->sentence-transformers>=0.4.1->bertopic) (3.1)\n",
      "Requirement already satisfied: jinja2 in /Library/Frameworks/Python.framework/Versions/3.11/lib/python3.11/site-packages (from torch>=1.6.0->sentence-transformers>=0.4.1->bertopic) (3.1.2)\n",
      "Requirement already satisfied: regex!=2019.12.17 in /Library/Frameworks/Python.framework/Versions/3.11/lib/python3.11/site-packages (from transformers<5.0.0,>=4.6.0->sentence-transformers>=0.4.1->bertopic) (2023.3.23)\n",
      "Requirement already satisfied: tokenizers!=0.11.3,<0.14,>=0.11.1 in /Library/Frameworks/Python.framework/Versions/3.11/lib/python3.11/site-packages (from transformers<5.0.0,>=4.6.0->sentence-transformers>=0.4.1->bertopic) (0.13.3)\n",
      "Requirement already satisfied: safetensors>=0.3.1 in /Library/Frameworks/Python.framework/Versions/3.11/lib/python3.11/site-packages (from transformers<5.0.0,>=4.6.0->sentence-transformers>=0.4.1->bertopic) (0.3.1)\n",
      "Requirement already satisfied: click in /Library/Frameworks/Python.framework/Versions/3.11/lib/python3.11/site-packages (from nltk->sentence-transformers>=0.4.1->bertopic) (8.1.3)\n",
      "Requirement already satisfied: pillow!=8.3.*,>=5.3.0 in /Library/Frameworks/Python.framework/Versions/3.11/lib/python3.11/site-packages (from torchvision->sentence-transformers>=0.4.1->bertopic) (9.5.0)\n",
      "Requirement already satisfied: MarkupSafe>=2.0 in /Library/Frameworks/Python.framework/Versions/3.11/lib/python3.11/site-packages (from jinja2->torch>=1.6.0->sentence-transformers>=0.4.1->bertopic) (2.1.2)\n",
      "Requirement already satisfied: charset-normalizer<4,>=2 in /Library/Frameworks/Python.framework/Versions/3.11/lib/python3.11/site-packages (from requests->huggingface-hub>=0.4.0->sentence-transformers>=0.4.1->bertopic) (3.1.0)\n",
      "Requirement already satisfied: idna<4,>=2.5 in /Library/Frameworks/Python.framework/Versions/3.11/lib/python3.11/site-packages (from requests->huggingface-hub>=0.4.0->sentence-transformers>=0.4.1->bertopic) (3.4)\n",
      "Requirement already satisfied: urllib3<1.27,>=1.21.1 in /Library/Frameworks/Python.framework/Versions/3.11/lib/python3.11/site-packages (from requests->huggingface-hub>=0.4.0->sentence-transformers>=0.4.1->bertopic) (1.26.15)\n",
      "Requirement already satisfied: certifi>=2017.4.17 in /Library/Frameworks/Python.framework/Versions/3.11/lib/python3.11/site-packages (from requests->huggingface-hub>=0.4.0->sentence-transformers>=0.4.1->bertopic) (2022.12.7)\n",
      "Requirement already satisfied: mpmath>=0.19 in /Library/Frameworks/Python.framework/Versions/3.11/lib/python3.11/site-packages (from sympy->torch>=1.6.0->sentence-transformers>=0.4.1->bertopic) (1.3.0)\n",
      "Building wheels for collected packages: hdbscan, umap-learn\n",
      "  Building wheel for hdbscan (pyproject.toml) ... \u001b[?25ldone\n",
      "\u001b[?25h  Created wheel for hdbscan: filename=hdbscan-0.8.33-cp311-cp311-macosx_10_9_universal2.whl size=1256464 sha256=6836c7a1b062b44b4f7356872b840e98d80d6f350c54bc5f387173290c643759\n",
      "  Stored in directory: /Users/jasperhewitt/Library/Caches/pip/wheels/4e/8c/6f/d0495e4e40cbd27a8c7330d4e963837e099d6e16014dbdcdb5\n",
      "  Building wheel for umap-learn (pyproject.toml) ... \u001b[?25ldone\n",
      "\u001b[?25h  Created wheel for umap-learn: filename=umap_learn-0.5.5-py3-none-any.whl size=86832 sha256=e0d638c3d1071c8d5109beadc3b27bd4033b94772b42f05c2ef91460ca2aece6\n",
      "  Stored in directory: /Users/jasperhewitt/Library/Caches/pip/wheels/de/07/2e/814a6ee82e37528f2044a609a431028375b149bc31f03c0e27\n",
      "Successfully built hdbscan umap-learn\n",
      "Installing collected packages: cython, pynndescent, hdbscan, umap-learn, bertopic\n",
      "Successfully installed bertopic-0.16.0 cython-0.29.37 hdbscan-0.8.33 pynndescent-0.5.11 umap-learn-0.5.5\n",
      "\n",
      "\u001b[1m[\u001b[0m\u001b[34;49mnotice\u001b[0m\u001b[1;39;49m]\u001b[0m\u001b[39;49m A new release of pip is available: \u001b[0m\u001b[31;49m23.1\u001b[0m\u001b[39;49m -> \u001b[0m\u001b[32;49m23.3.2\u001b[0m\n",
      "\u001b[1m[\u001b[0m\u001b[34;49mnotice\u001b[0m\u001b[1;39;49m]\u001b[0m\u001b[39;49m To update, run: \u001b[0m\u001b[32;49mpip install --upgrade pip\u001b[0m\n",
      "Note: you may need to restart the kernel to use updated packages.\n"
     ]
    }
   ],
   "source": [
    "pip install pandas bertopic"
   ]
  },
  {
   "cell_type": "markdown",
   "metadata": {},
   "source": [
    "# topic modelling (not working)"
   ]
  },
  {
   "cell_type": "code",
   "execution_count": 399,
   "metadata": {},
   "outputs": [
    {
     "name": "stdout",
     "output_type": "stream",
     "text": [
      "Requirement already satisfied: pandas in /Library/Frameworks/Python.framework/Versions/3.11/lib/python3.11/site-packages (2.0.0)\n",
      "Collecting jieba\n",
      "  Downloading jieba-0.42.1.tar.gz (19.2 MB)\n",
      "\u001b[2K     \u001b[90m━━━━━━━━━━━━━━━━━━━━━━━━━━━━━━━━━━━━━━━━\u001b[0m \u001b[32m19.2/19.2 MB\u001b[0m \u001b[31m4.6 MB/s\u001b[0m eta \u001b[36m0:00:00\u001b[0m00:01\u001b[0m00:01\u001b[0m\n",
      "\u001b[?25h  Installing build dependencies ... \u001b[?25ldone\n",
      "\u001b[?25h  Getting requirements to build wheel ... \u001b[?25ldone\n",
      "\u001b[?25h  Preparing metadata (pyproject.toml) ... \u001b[?25ldone\n",
      "\u001b[?25hRequirement already satisfied: nltk in /Library/Frameworks/Python.framework/Versions/3.11/lib/python3.11/site-packages (3.8.1)\n",
      "Requirement already satisfied: gensim in /Library/Frameworks/Python.framework/Versions/3.11/lib/python3.11/site-packages (4.3.1)\n",
      "Requirement already satisfied: python-dateutil>=2.8.2 in /Users/jasperhewitt/Library/Python/3.11/lib/python/site-packages (from pandas) (2.8.2)\n",
      "Requirement already satisfied: pytz>=2020.1 in /Library/Frameworks/Python.framework/Versions/3.11/lib/python3.11/site-packages (from pandas) (2023.3)\n",
      "Requirement already satisfied: tzdata>=2022.1 in /Library/Frameworks/Python.framework/Versions/3.11/lib/python3.11/site-packages (from pandas) (2023.3)\n",
      "Requirement already satisfied: numpy>=1.21.0 in /Library/Frameworks/Python.framework/Versions/3.11/lib/python3.11/site-packages (from pandas) (1.24.2)\n",
      "Requirement already satisfied: click in /Library/Frameworks/Python.framework/Versions/3.11/lib/python3.11/site-packages (from nltk) (8.1.3)\n",
      "Requirement already satisfied: joblib in /Library/Frameworks/Python.framework/Versions/3.11/lib/python3.11/site-packages (from nltk) (1.2.0)\n",
      "Requirement already satisfied: regex>=2021.8.3 in /Library/Frameworks/Python.framework/Versions/3.11/lib/python3.11/site-packages (from nltk) (2023.3.23)\n",
      "Requirement already satisfied: tqdm in /Library/Frameworks/Python.framework/Versions/3.11/lib/python3.11/site-packages (from nltk) (4.65.0)\n",
      "Requirement already satisfied: scipy>=1.7.0 in /Library/Frameworks/Python.framework/Versions/3.11/lib/python3.11/site-packages (from gensim) (1.10.1)\n",
      "Requirement already satisfied: smart-open>=1.8.1 in /Library/Frameworks/Python.framework/Versions/3.11/lib/python3.11/site-packages (from gensim) (6.3.0)\n",
      "Requirement already satisfied: six>=1.5 in /Users/jasperhewitt/Library/Python/3.11/lib/python/site-packages (from python-dateutil>=2.8.2->pandas) (1.16.0)\n",
      "Building wheels for collected packages: jieba\n",
      "  Building wheel for jieba (pyproject.toml) ... \u001b[?25ldone\n",
      "\u001b[?25h  Created wheel for jieba: filename=jieba-0.42.1-py3-none-any.whl size=19314459 sha256=a212daa0c2485bbfdf1dbeb227fba7ae185f8377624049de206205fb11437055\n",
      "  Stored in directory: /Users/jasperhewitt/Library/Caches/pip/wheels/ac/60/cf/538a1f183409caf1fc136b5d2c2dee329001ef6da2c5084bef\n",
      "Successfully built jieba\n",
      "Installing collected packages: jieba\n",
      "Successfully installed jieba-0.42.1\n",
      "\n",
      "\u001b[1m[\u001b[0m\u001b[34;49mnotice\u001b[0m\u001b[1;39;49m]\u001b[0m\u001b[39;49m A new release of pip is available: \u001b[0m\u001b[31;49m23.1\u001b[0m\u001b[39;49m -> \u001b[0m\u001b[32;49m23.3.2\u001b[0m\n",
      "\u001b[1m[\u001b[0m\u001b[34;49mnotice\u001b[0m\u001b[1;39;49m]\u001b[0m\u001b[39;49m To update, run: \u001b[0m\u001b[32;49mpip install --upgrade pip\u001b[0m\n",
      "Note: you may need to restart the kernel to use updated packages.\n"
     ]
    }
   ],
   "source": [
    "pip install pandas jieba nltk gensim\n"
   ]
  },
  {
   "cell_type": "code",
   "execution_count": 411,
   "metadata": {},
   "outputs": [
    {
     "name": "stdout",
     "output_type": "stream",
     "text": [
      "Requirement already satisfied: gensim in /Library/Frameworks/Python.framework/Versions/3.11/lib/python3.11/site-packages (4.3.1)\n",
      "Requirement already satisfied: numpy>=1.18.5 in /Library/Frameworks/Python.framework/Versions/3.11/lib/python3.11/site-packages (from gensim) (1.24.2)\n",
      "Requirement already satisfied: scipy>=1.7.0 in /Library/Frameworks/Python.framework/Versions/3.11/lib/python3.11/site-packages (from gensim) (1.10.1)\n",
      "Requirement already satisfied: smart-open>=1.8.1 in /Library/Frameworks/Python.framework/Versions/3.11/lib/python3.11/site-packages (from gensim) (6.3.0)\n",
      "\n",
      "\u001b[1m[\u001b[0m\u001b[34;49mnotice\u001b[0m\u001b[1;39;49m]\u001b[0m\u001b[39;49m A new release of pip is available: \u001b[0m\u001b[31;49m23.1\u001b[0m\u001b[39;49m -> \u001b[0m\u001b[32;49m23.3.2\u001b[0m\n",
      "\u001b[1m[\u001b[0m\u001b[34;49mnotice\u001b[0m\u001b[1;39;49m]\u001b[0m\u001b[39;49m To update, run: \u001b[0m\u001b[32;49mpip install --upgrade pip\u001b[0m\n"
     ]
    }
   ],
   "source": [
    "!pip install gensim"
   ]
  },
  {
   "cell_type": "code",
   "execution_count": 413,
   "metadata": {},
   "outputs": [
    {
     "data": {
      "text/plain": [
       "159"
      ]
     },
     "execution_count": 413,
     "metadata": {},
     "output_type": "execute_result"
    }
   ],
   "source": [
    "#read in the csv\n",
    "attack=pd.read_csv('/Users/jasperhewitt/Desktop/github_repos/Campaigning_101/data/all_attacks.csv')\n",
    "attack_hou= attack[attack['User Name']=='houyuih']\n",
    "len(attack_hou)"
   ]
  },
  {
   "cell_type": "code",
   "execution_count": 412,
   "metadata": {},
   "outputs": [
    {
     "name": "stderr",
     "output_type": "stream",
     "text": [
      "[nltk_data] Downloading package wordnet to\n",
      "[nltk_data]     /Users/jasperhewitt/nltk_data...\n",
      "[nltk_data]   Package wordnet is already up-to-date!\n",
      "[nltk_data] Downloading package stopwords to\n",
      "[nltk_data]     /Users/jasperhewitt/nltk_data...\n",
      "[nltk_data]   Package stopwords is already up-to-date!\n"
     ]
    },
    {
     "data": {
      "text/plain": [
       "True"
      ]
     },
     "execution_count": 412,
     "metadata": {},
     "output_type": "execute_result"
    }
   ],
   "source": [
    "import ssl\n",
    "import gensim\n",
    "from gensim.utils import simple_preprocess\n",
    "from gensim.parsing.preprocessing import STOPWORDS\n",
    "from nltk.stem import WordNetLemmatizer\n",
    "from nltk.corpus import wordnet\n",
    "import nltk\n",
    "\n",
    "try:\n",
    "    _create_unverified_https_context = ssl._create_unverified_context\n",
    "except AttributeError:\n",
    "    pass\n",
    "else:\n",
    "    ssl._create_default_https_context = _create_unverified_https_context\n",
    "\n",
    "nltk.download('wordnet')\n",
    "nltk.download('stopwords')\n"
   ]
  },
  {
   "cell_type": "code",
   "execution_count": null,
   "metadata": {},
   "outputs": [],
   "source": [
    "import gensim\n",
    "import jieba\n",
    "import pandas as pd\n",
    "\n",
    "# Assuming stopwords is your custom stopwords list\n",
    "stopwords = ['告訴', '願意', '推動', '承諾', '這片', '再次', '最大', '中央', '重要', '到底', '建設', '期待', '帶給', '趙少康', '選舉', '立刻', '必須', '清德', '清楚',\n",
    "                    '變成', '絕對', '區域', '侯友', '選擇', '更是', '主席', '不能', '確是', '還給', \"執政\", \"總統\", \"國民黨\", \"2024\", \"政治\", \"如今\", \"在此\", '最後', '全國',\n",
    "                    \"賴清德\", \"中華民國\", \"宜來\", \"未來\", \"侯友宜\", \"政黨\", \"一定\", \"民眾\", \"就讓\", \"民進黨\", \"人民\", \"政府\", \"國家\", \"報導\", \"可能\", \"指出\", \"認為\", \"新聞網\", \"國際\",\n",
    "                    \"應該\", \"可能\", \"提出\", \"過去\", \"現在\", \"進行\", \"今天\", \"相關\", \"社會\", \"議題\", \"很多\", \"undo\", \"需要\", \"需求\", \"已經\", \"目前\", \"今年\", \"透過\", \"地方\", \"沒有\",\n",
    "                    \"記者\", \"成為\", \"持續\", \"市場\", \"表示\", \"台灣\", \"造成\", \"不少\", \"原因\", \"影響\", \"問題\", \"/\", \"10\", \"20\", \"30\", \"一起\", \"市長\", \"市民\", \"朋友\", \"城市\", \"12\", \"11\",\n",
    "                    \"https\"]\n",
    "\n",
    "def preprocess(text):\n",
    "    result = []\n",
    "    for token in jieba.cut(text):\n",
    "        if token not in stopwords and len(token) > 3:\n",
    "            result.append(token)\n",
    "    return result\n",
    "\n",
    "processed_docs = attack_hou['combined_text'].map(preprocess)\n",
    "\n",
    "# Create Dictionary\n",
    "dictionary = gensim.corpora.Dictionary(processed_docs)\n",
    "\n",
    "# Create Corpus\n",
    "texts = processed_docs\n",
    "\n",
    "# Term Document Frequency\n",
    "corpus = [dictionary.doc2bow(text) for text in texts]\n",
    "\n",
    "# Build LDA model\n",
    "lda_model = gensim.models.LdaMulticore(corpus=corpus,\n",
    "                                       id2word=dictionary,\n",
    "                                       num_topics=5, \n",
    "                                       random_state=100,\n",
    "                                       chunksize=100,\n",
    "                                       passes=10,\n",
    "                                       per_word_topics=True)\n",
    "\n",
    "# Get the top terms for each topic\n",
    "topic_terms = lda_model.show_topics(num_topics=5, num_words=10, formatted=False)\n",
    "\n",
    "# Convert to DataFrame\n",
    "topics_df = pd.DataFrame()\n",
    "\n",
    "for i, topic in topic_terms:\n",
    "    terms = [term for term, _ in topic]\n",
    "    term_weights = [weight for _, weight in topic]\n",
    "    \n",
    "    topic_df = pd.DataFrame({\n",
    "        'topic': [i]*len(terms),\n",
    "        'term': terms,\n",
    "        'weight': term_weights\n",
    "    })\n",
    "    \n",
    "    topics_df = pd.concat([topics_df, topic_df])\n",
    "\n",
    "print(topics_df)"
   ]
  },
  {
   "cell_type": "code",
   "execution_count": 416,
   "metadata": {},
   "outputs": [
    {
     "name": "stdout",
     "output_type": "stream",
     "text": [
      "Requirement already satisfied: pyLDAvis in /Library/Frameworks/Python.framework/Versions/3.11/lib/python3.11/site-packages (3.4.1)\n",
      "Requirement already satisfied: numpy>=1.24.2 in /Library/Frameworks/Python.framework/Versions/3.11/lib/python3.11/site-packages (from pyLDAvis) (1.24.2)\n",
      "Requirement already satisfied: scipy in /Library/Frameworks/Python.framework/Versions/3.11/lib/python3.11/site-packages (from pyLDAvis) (1.10.1)\n",
      "Requirement already satisfied: pandas>=2.0.0 in /Library/Frameworks/Python.framework/Versions/3.11/lib/python3.11/site-packages (from pyLDAvis) (2.0.0)\n",
      "Requirement already satisfied: joblib>=1.2.0 in /Library/Frameworks/Python.framework/Versions/3.11/lib/python3.11/site-packages (from pyLDAvis) (1.2.0)\n",
      "Requirement already satisfied: jinja2 in /Library/Frameworks/Python.framework/Versions/3.11/lib/python3.11/site-packages (from pyLDAvis) (3.1.2)\n",
      "Requirement already satisfied: numexpr in /Library/Frameworks/Python.framework/Versions/3.11/lib/python3.11/site-packages (from pyLDAvis) (2.8.4)\n",
      "Requirement already satisfied: funcy in /Library/Frameworks/Python.framework/Versions/3.11/lib/python3.11/site-packages (from pyLDAvis) (2.0)\n",
      "Requirement already satisfied: scikit-learn>=1.0.0 in /Library/Frameworks/Python.framework/Versions/3.11/lib/python3.11/site-packages (from pyLDAvis) (1.3.0)\n",
      "Requirement already satisfied: gensim in /Library/Frameworks/Python.framework/Versions/3.11/lib/python3.11/site-packages (from pyLDAvis) (4.3.1)\n",
      "Requirement already satisfied: setuptools in /Library/Frameworks/Python.framework/Versions/3.11/lib/python3.11/site-packages (from pyLDAvis) (65.5.0)\n",
      "Requirement already satisfied: python-dateutil>=2.8.2 in /Users/jasperhewitt/Library/Python/3.11/lib/python/site-packages (from pandas>=2.0.0->pyLDAvis) (2.8.2)\n",
      "Requirement already satisfied: pytz>=2020.1 in /Library/Frameworks/Python.framework/Versions/3.11/lib/python3.11/site-packages (from pandas>=2.0.0->pyLDAvis) (2023.3)\n",
      "Requirement already satisfied: tzdata>=2022.1 in /Library/Frameworks/Python.framework/Versions/3.11/lib/python3.11/site-packages (from pandas>=2.0.0->pyLDAvis) (2023.3)\n",
      "Requirement already satisfied: threadpoolctl>=2.0.0 in /Library/Frameworks/Python.framework/Versions/3.11/lib/python3.11/site-packages (from scikit-learn>=1.0.0->pyLDAvis) (3.1.0)\n",
      "Requirement already satisfied: smart-open>=1.8.1 in /Library/Frameworks/Python.framework/Versions/3.11/lib/python3.11/site-packages (from gensim->pyLDAvis) (6.3.0)\n",
      "Requirement already satisfied: MarkupSafe>=2.0 in /Library/Frameworks/Python.framework/Versions/3.11/lib/python3.11/site-packages (from jinja2->pyLDAvis) (2.1.2)\n",
      "Requirement already satisfied: six>=1.5 in /Users/jasperhewitt/Library/Python/3.11/lib/python/site-packages (from python-dateutil>=2.8.2->pandas>=2.0.0->pyLDAvis) (1.16.0)\n",
      "\n",
      "\u001b[1m[\u001b[0m\u001b[34;49mnotice\u001b[0m\u001b[1;39;49m]\u001b[0m\u001b[39;49m A new release of pip is available: \u001b[0m\u001b[31;49m23.1\u001b[0m\u001b[39;49m -> \u001b[0m\u001b[32;49m23.3.2\u001b[0m\n",
      "\u001b[1m[\u001b[0m\u001b[34;49mnotice\u001b[0m\u001b[1;39;49m]\u001b[0m\u001b[39;49m To update, run: \u001b[0m\u001b[32;49mpip install --upgrade pip\u001b[0m\n"
     ]
    }
   ],
   "source": [
    "!pip install pyLDAvis"
   ]
  },
  {
   "cell_type": "code",
   "execution_count": 417,
   "metadata": {},
   "outputs": [
    {
     "data": {
      "text/html": [
       "\n",
       "<link rel=\"stylesheet\" type=\"text/css\" href=\"https://cdn.jsdelivr.net/gh/bmabey/pyLDAvis@3.4.0/pyLDAvis/js/ldavis.v1.0.0.css\">\n",
       "\n",
       "\n",
       "<div id=\"ldavis_el152871114632331294678954\" style=\"background-color:white;\"></div>\n",
       "<script type=\"text/javascript\">\n",
       "\n",
       "var ldavis_el152871114632331294678954_data = {\"mdsDat\": {\"x\": [-0.1502659206807212, 0.05150562376418684, 0.07713950329345683, 0.06285833740958718, -0.041237543786509796], \"y\": [-0.06132630634803922, 0.006406104658273992, 0.0137424916931938, -0.08556751298444969, 0.12674522298102114], \"topics\": [1, 2, 3, 4, 5], \"cluster\": [1, 1, 1, 1, 1], \"Freq\": [24.880536093115683, 19.64932176013796, 18.68775366092254, 18.676909109343956, 18.10547937647986]}, \"tinfo\": {\"Term\": [\"yuih\", \"\\u8523\\u842c\\u5b89\\u5e02\", \"\\u51f1\\u9054\\u683c\\u862d\", \"2025\", \"\\u5fc3\\u7406\\u5065\\u5eb7\", \"2030\", \"\\u4e2d\\u592e\\u653f\\u5e9c\", \"2050\", \"\\u6700\\u5f8c\\u4e00\\u54e9\\u8def\", \"\\u518d\\u751f\\u80fd\\u6e90\", \"\\u89c0\\u5149\\u7522\\u696d\", \"\\u4e8c\\u5206\\u4e4b\\u4e00\", \"\\u53f0\\u7063\\u6c11\\u773e\", \"\\u9752\\u5929\\u767d\\u65e5\", \"\\u57fa\\u5c64\\u6c11\\u773e\", \"\\u53f0\\u6f8e\\u91d1\\u99ac\", \"\\u4fdd\\u5bb6\\u885b\\u570b\", \"2040\", \"\\u9769\\u547d\\u5148\\u70c8\", \"1800\", \"Facebook\", \"\\u6709\\u5fc3\\u4eba\\u58eb\", \"0.125%\", \"\\u8cf4\\u76ae\\u8afe\\u4e18\", \"\\u5370\\u592a\\u5340\\u57df\", \"\\u6839\\u672c\\u5927\\u6cd5\", \"ETtoday\", \"YouTube\", \"\\u5168\\u570b\\u6c11\\u773e\", \"\\u96c6\\u4e2d\\u529b\\u91cf\", \"2030\", \"\\u53f0\\u7063\\u6c11\\u773e\", \"2040\", \"\\u6de8\\u96f6\\u53f0\\u7063\", \"2035\", \"2050\", \"\\u570b\\u6c11\\u5e38\\u8b58\", \"\\u570b\\u653f\\u65b9\\u91dd\", \"150%\", \"\\u63a8\\u52d5\\u653f\\u9ee8\", \"\\u592a\\u591a\\u592a\\u591a\", \"ECFA\", \"\\u4eba\\u8eab\\u81ea\\u7531\", \"\\u7063\\u570b\\u6176\\u65e5\", \"National\", \"Taiwan\", \"\\u8caa\\u6c61\\u8150\\u6557\", \"\\u71df\\u5229\\u4e8b\\u696d\", \"\\u78ba\\u4fdd\\u96fb\\u529b\", \"\\u5169\\u5cb8\\u6c11\\u8abf\", \"\\u8cf4\\u6e05\\u5fb7\\u7528\", \"\\u795d\\u4e2d\\u83ef\\u6c11\\u570b\", \"\\u57f7\\u653f\\u6642\\u4ee3\", \"\\u5c45\\u9ad8\\u4e0d\\u4e0b\", \"\\u8cf4\\u6e05\\u5fb7\\u5076\", \"\\u7d71\\u99ac\\u62c9\\u677e\", \"\\u4ee5\\u570b\\u6c11\\u9ee8\", \"220%\", \"\\u570b\\u653f\\u85cd\\u5716\", \"\\u5c07\\u96d9\\u5341\\u570b\\u6176\", \"\\u9752\\u5929\\u767d\\u65e5\", \"\\u96c6\\u4e2d\\u529b\\u91cf\", \"CPTPP\", \"\\u80fd\\u6e90\\u5b89\\u5168\", \"\\u78ba\\u4fdd\\u570b\\u5bb6\", \"\\u4f9b\\u96fb\\u7121\\u865e\", \"\\u5168\\u529b\\u652f\\u6301\", \"\\u5916\\u4ea4\\u653f\\u7b56\", \"\\u518d\\u751f\\u80fd\\u6e90\", \"\\u4eca\\u5929\\u4e0b\\u5348\", \"\\u71b1\\u611b\\u4e2d\\u83ef\\u6c11\\u570b\", \"\\u4e2d\\u570b\\u5927\\u9678\", \"2300\", \"\\u5b88\\u8b77\\u570b\\u5bb6\", \"\\u6c11\\u4e3b\\u81ea\\u7531\", \"\\u51f1\\u9054\\u683c\\u862d\", \"\\u5370\\u592a\\u5340\\u57df\", \"\\u5370\\u592a\\u5730\\u5340\", \"\\u5f37\\u5065\\u570b\\u9632\", \"\\u91cd\\u4e2d\\u4e4b\\u91cd\", \"County\", \"8400\", \"\\u4e2d\\u592e\\u8b66\\u5b98\", \"\\u5927\\u5b78\\u5b78\\u5236\", \"ETtoday\", \"YouTube\", \"\\u5168\\u570b\\u6c11\\u773e\", \"\\u4fdd\\u8b77\\u570b\\u6c11\", \"\\u5370\\u592a\\u570b\\u5bb6\", \"plus\", \"\\u7f3a\\u4e00\\u4e0d\\u53ef\", \"\\u53f0\\u7063\\u6c38\\u7e8c\", \"SDGs\", \"\\u64f4\\u5927\\u570b\\u969b\", \"\\u53c3\\u8207\\u5340\\u57df\", \"\\u5370\\u592a\\u9858\\u666f\", \"\\u4e92\\u60e0\\u4e92\\u5229\", \"HoHoGPT\", \"\\u4eba\\u5de5\\u667a\\u6167\", \"\\u7e41\\u69ae\\u570b\\u5bb6\", \"\\u611b\\u4e0d\\u611b\\u53f0\\u7063\", \"\\u4e0d\\u611b\\u53f0\\u7063\", \"\\u4e0d\\u611b\\u9019\\u500b\", \"\\u4e00\\u4eba\\u5f97\\u9053\", \"\\u4e2d\\u9ad8\\u968e\\u7d93\\u7406\", \"\\u6700\\u5f8c\\u4e00\\u54e9\\u8def\", \"Facebook\", \"\\u91cd\\u8cac\\u5927\\u4efb\", \"\\u8fb2\\u6f01\\u7522\\u54c1\", \"\\u8cf4\\u6e05\\u5fb7\\u70ba\", \"\\u4e00\\u624b\\u906e\\u5929\", \"\\u81ea\\u7531\\u6c11\\u4e3b\", \"\\u5168\\u529b\\u4ee5\\u8d74\", \"\\u4e2d\\u570b\\u5927\\u9678\", \"\\u53f0\\u6f8e\\u91d1\\u99ac\", \"2025\", \"yuih\", \"\\u9752\\u5929\\u767d\\u65e5\", \"\\u71b1\\u611b\\u4e2d\\u83ef\\u6c11\\u570b\", \"\\u8feb\\u5207\\u9700\\u8981\", \"CPTPP\", \"\\u9677\\u5165\\u56f0\\u5883\", \"\\u6c11\\u4e3b\\u81ea\\u7531\", \"\\u6709\\u5fc3\\u4eba\\u58eb\", \"0.125%\", \"1250\", \"\\u7576\\u57f7\\u653f\\u9ee8\", \"\\u7d50\\u52dd\\u5229\\u5927\\u6703\", \"\\u611b\\u4e2d\\u83ef\\u6c11\\u570b\", \"0.5%\", \"LIVE\", \"1500\", \"\\u884c\\u61b2\\u7d00\\u5ff5\", \"\\u6839\\u672c\\u5927\\u6cd5\", \"houyuih\", \"\\u4fdd\\u885b\\u570b\\u5bb6\", \"\\u8ecd\\u4eba\\u5f8c\\u76fe\", \"Arniec\", \"\\u570b\\u8ecd\\u5fe0\\u9748\", \"\\u5165\\u4e0d\\u6577\\u51fa\", \"lorces\", \"\\u4f5c\\u70ba\\u5f8c\\u76fe\", \"36000\", \"\\u9023\\u8b77\\u7406\\u5e2b\", \"\\u6050\\u5982\\u9673\\u975c\\u654f\", \"OECD\", \"\\u53f0\\u7063\\u7684\\u7d93\", \"11.1\", \"\\u6f20\\u8996\\u8b77\\u75c5\", \"\\u7d42\\u65bc\\u8868\\u614b\", \"\\u7f6e\\u4e4b\\u4e0d\\u7406\", \"metoo\", \"\\u8a8d\\u660e\\u7522\\u5730\", \"yuih\", \"\\u4fdd\\u5bb6\\u885b\\u570b\", \"\\u738b\\u60e0\\u7f8e\\u7e23\", \"\\u633a\\u8eab\\u800c\\u51fa\", \"GDP8%\", \"\\u53f0\\u6f8e\\u91d1\\u99ac\", \"Facebook\", \"2300\", \"\\u8523\\u842c\\u5b89\\u5e02\", \"\\u9752\\u5929\\u767d\\u65e5\", \"\\u82f1\\u4e5d\\u7e3d\\u7d71\", \"\\u9677\\u5165\\u56f0\\u5883\", \"\\u6298\\u8877\\u65b9\\u6848\", \"\\u884c\\u4e4b\\u6709\\u5e74\", \"\\u4e2d\\u83ef\\u6c11\\u570b\\u570b\", \"\\u4e00\\u624b\\u906e\\u5929\", \"\\u5145\\u8033\\u4e0d\\u805e\", \"\\u5b88\\u8b77\\u6c11\\u773e\", \"\\u5fd7\\u540c\\u9053\\u5408\", \"\\u4e8c\\u5206\\u4e4b\\u4e00\", \"\\u8cf4\\u76ae\\u8afe\\u4e18\", \"\\u767c\\u96fb\\u9078\\u9805\", \"\\u8cf4\\u6e05\\u5fb7\\u7d42\", \"\\u570b\\u969b\\u5171\\u6253\", \"\\u7e3d\\u7d71\\u5e9c\\u88e1\", \"\\u751f\\u547d\\u5b89\\u5168\", \"2015\", \"\\u98a8\\u98a8\\u96e8\\u96e8\", \"2025\", \"\\u4e2d\\u592e\\u653f\\u5e9c\", \"\\u8cf4\\u6e05\\u5fb7\\u9858\", \"\\u843d\\u5f8c\\u570b\\u969b\", \"\\u4e0d\\u4f46\\u5982\\u6b64\", \"\\u5162\\u5162\\u696d\\u696d\", \"breast\", \"\\u6a5f\\u7d44\\u7dad\\u6301\", \"\\u52de\\u5de5\\u5f8c\\u76fe\", \"\\u8cc7\\u9063\\u54e1\\u5de5\", \"awareness\", \"\\u8cfc\\u6240\\u7522\\u751f\", \"\\u7121\\u5de5\\u6703\\u8005\", \"\\u4e0a\\u5e02\\u516c\\u53f8\", \"\\u95dc\\u61f7\\u4ff1\\u6a02\\u90e8\", \"\\u52de\\u8cc7\\u6703\\u8b70\", \"\\u516c\\u52d9\\u9ad4\\u7cfb\", \"\\u5168\\u570b\\u7522\\u696d\", \"\\u7e3d\\u806f\\u5408\\u6703\", \"\\u96d9\\u5341\\u570b\\u6176\\u53ca\", \"month\", \"\\u57fa\\u5c64\\u6c11\\u773e\", \"\\u518d\\u751f\\u80fd\\u6e90\", \"yuih\", \"\\u6700\\u5f8c\\u4e00\\u54e9\\u8def\", \"\\u6c11\\u610f\\u4ee3\\u8868\", \"2016\", \"\\u653e\\u5728\\u5fc3\\u4e0a\", \"\\u4fdd\\u5bb6\\u885b\\u570b\", \"\\u5b88\\u8b77\\u570b\\u5bb6\", \"\\u6c11\\u4e3b\\u81ea\\u7531\", \"\\u53f0\\u6f8e\\u91d1\\u99ac\", \"2050\", \"\\u5168\\u529b\\u4ee5\\u8d74\", \"\\u70ba\\u6c11\\u800c\\u6230\", \"\\u53bb\\u5e74\\u540c\\u671f\", \"\\u7fa9\\u7121\\u53cd\\u9867\", \"\\u4ee5\\u5df4\\u6230\\u722d\", \"\\u70cf\\u4fc4\\u6230\\u722d\", \"\\u5171\\u540c\\u5b8c\\u6210\", \"\\u5fc3\\u7406\\u5065\\u5eb7\", \"\\u89c0\\u5149\\u7522\\u696d\", \"\\u9769\\u547d\\u5148\\u70c8\", \"1800\", \"\\u8523\\u842c\\u5b89\\u5e02\", \"\\u4e2d\\u83ef\\u6c11\\u570b\\u6703\\u7d66\", \"\\u793e\\u6703\\u5171\\u878d\", \"\\u8f9b\\u4ea5\\u9769\\u547d\", \"\\u5171\\u6cbb\\u570b\\u5bb6\", \"\\u9084\\u7d66\\u6c11\\u773e\", \"\\u59d4\\u54e1\\u6843\\u5712\", \"\\u8a31\\u591a\\u570b\\u5bb6\", \"\\u5168\\u4e2d\\u83ef\\u6c11\\u570b\", \"\\u5236\\u61b2\\u5efa\\u570b\", \"\\u9023\\u570b\\u6176\\u65e5\", \"TAIWAN\", \"\\u767c\\u5e03\\u8a0a\\u606f\", \"NATIONAL\", \"LDCT\", \"\\u622a\\u7136\\u4e0d\\u540c\", \"\\u52d5\\u570b\\u5bb6\\u7d1a\", \"\\u56de\\u570b\\u6c11\\u9ee8\", \"\\u8996\\u4e2d\\u83ef\\u6c11\\u570b\", \"\\u5148\\u9a45\\u7522\\u696d\", \"\\u6c38\\u7121\\u6230\\u4e8b\", \"\\u570b\\u6c11\\u6182\\u9b31\", \"MISSILE\", \"\\u767c\\u5e03\\u570b\\u5bb6\", \"\\u5177\\u9ad4\\u52d9\\u5be6\", \"\\u4f46\\u570b\\u6c11\\u9ee8\", \"\\u96d9\\u5341\\u570b\\u6176\", \"\\u53f0\\u6f8e\\u91d1\\u99ac\", \"\\u57fa\\u5c64\\u6c11\\u773e\", \"\\u9752\\u5929\\u767d\\u65e5\", \"2016\", \"\\u82f1\\u4e5d\\u7e3d\\u7d71\", \"\\u653e\\u5728\\u5fc3\\u4e0a\", \"\\u5168\\u529b\\u4ee5\\u8d74\", \"\\u96c6\\u4e2d\\u529b\\u91cf\", \"\\u6c11\\u4e3b\\u81ea\\u7531\", \"\\u6839\\u672c\\u5927\\u6cd5\", \"\\u6c11\\u4e3b\\u6539\\u9769\", \"\\u9023\\u4e2d\\u83ef\\u6c11\\u570b\", \"2020\", \"\\u9f90\\u5927\\u5149\\u96fb\", \"\\u7d93\\u6fdf\\u7522\\u696d\", \"\\u4eca\\u5929\\u4e0b\\u5348\", \"\\u4eba\\u53e3\\u6bd4\\u4f8b\", \"\\u5171\\u540c\\u52aa\\u529b\"], \"Freq\": [16.0, 6.0, 4.0, 5.0, 3.0, 4.0, 5.0, 5.0, 4.0, 5.0, 2.0, 3.0, 3.0, 10.0, 4.0, 9.0, 3.0, 3.0, 2.0, 2.0, 3.0, 2.0, 2.0, 2.0, 2.0, 3.0, 3.0, 3.0, 3.0, 5.0, 4.142810969961816, 3.4780532383580143, 2.804038904561647, 2.1391179095180815, 2.1375445717692596, 4.145870281730191, 1.4723483414473983, 1.4723483414473983, 1.472340534055303, 1.4723018924058187, 1.4722556410197352, 1.4714549386051023, 1.4704346409343212, 1.4682667554532811, 1.4681185138312187, 1.467809677118589, 2.141555990062267, 2.1425978321821213, 0.8030798643536097, 0.8030786784206332, 0.803078332523515, 0.8030771465905385, 0.8030767512795464, 0.8030762077269321, 0.8030762077269321, 0.8030758618298139, 0.8030755653465699, 0.8030748241384595, 0.8030749229662076, 0.8030747747245855, 5.478876340998621, 2.813632114064043, 2.1415300971922804, 2.1407916562589135, 1.4708129535538244, 1.4699281487256082, 1.4723649445090692, 1.4716793764209049, 2.809539459362145, 1.4723483414473983, 1.472464167568103, 1.4732015213962413, 1.4731536887661891, 1.473067807453141, 1.4723257098930966, 3.830425658219411, 1.9770239595951786, 1.3591992502638515, 1.3591827038992104, 1.3591652209478917, 1.3591639721656545, 1.3591635038723158, 1.3591364989564392, 1.3589996012037018, 1.9790327819212672, 1.9790263819123024, 1.9798543245354723, 0.7413666579946528, 0.7413657994568649, 0.741365331163526, 0.741365331163526, 0.7413647848212972, 0.741364472625738, 0.7413640823812889, 0.7413636921368398, 0.7413634579901703, 0.741363145794611, 0.7413625994523824, 0.7413611945723657, 0.741361038474586, 0.7413605701812471, 0.741360179936798, 0.7413595555456796, 0.7413587750567814, 0.7413582287145527, 2.595389079439593, 1.9784942445815357, 1.9783278443484476, 1.3597651047150188, 1.3591891039081754, 1.359054235426573, 1.359694548518625, 1.9777263996035241, 1.3583360295424847, 2.594344941391632, 1.3584866638998299, 1.972018684291268, 0.7508083882934943, 0.7460550548059101, 0.742927713839866, 0.7424449034074632, 0.7423472642463032, 0.7421092931812536, 1.9455845727656549, 1.9455677969090432, 1.3375794284721836, 1.3375766077529303, 1.3375580503894218, 1.337553893539996, 1.3375491428549378, 1.3375351877175794, 1.337503714429069, 1.3360302597664946, 1.9443866578364546, 0.7295826721070183, 0.7295806679117594, 0.729579851387765, 0.7295788864048626, 0.7295780698808682, 0.729577698733598, 0.7295771791274198, 0.7295767337506955, 0.729575546079431, 0.7295751749321608, 0.7295748780143447, 0.7295748037848907, 0.7295742841787125, 0.7295739872608963, 0.7295736903430802, 0.729573244966356, 0.7295727995896317, 0.7295726511307237, 0.7295725026718156, 8.014154500668207, 1.9492629391308547, 1.3378987635834378, 1.3380834464650744, 1.3383998123981673, 2.554251249953477, 1.3360915732955265, 1.3387803125795454, 1.332540436214541, 1.3334206490804759, 0.7312238853357096, 0.7311391895286568, 0.730112893097183, 0.730112893097183, 0.7298744680908259, 0.7296698917155082, 0.7296286943685194, 0.7296242406012773, 0.7296167434264199, 2.540193826729624, 1.9351727518595712, 1.3306025817979845, 1.3306012464431718, 1.3305582183436473, 1.3304829933558577, 1.3275839380572008, 1.3271883762870889, 1.3230901723665094, 3.74322803441199, 3.659216411954061, 0.7257699403292983, 0.7257690500927564, 0.7257678631107005, 0.7257651182146964, 0.7257645247236685, 0.7257645247236685, 0.725764005419019, 0.725764005419019, 0.7257634119279911, 0.7257632635552341, 0.7257632635552341, 0.7257631893688556, 0.7257623733186922, 0.7257620765731783, 0.7257619282004213, 0.7257619282004213, 0.7257620023867998, 0.7257614088957719, 0.7257608895911224, 2.3162791577499533, 2.534086804052275, 5.570461682786292, 1.9347945497020258, 1.1766225215848891, 1.3327867771535058, 1.330195446952828, 1.319484565999108, 1.3305208284088879, 1.328510080806278, 1.324699868406999, 0.7290173006749686, 0.7272946187800376, 0.7262741109575206, 0.7261746270239646, 0.72608048450966, 0.7258822585063331, 0.7258690533309617, 0.7257861129598092, 3.0885294843372337, 2.493635592970822, 1.9006122525711224, 1.9002536763650468, 4.871259917035899, 1.306684776579208, 1.3066597495997228, 1.306656585268983, 1.306618757133324, 1.3065783399997875, 1.3050058114554532, 0.7127213422834354, 0.7127205512007505, 0.7127195443682425, 0.7127170272869724, 0.7127142944558792, 0.7127136472064097, 0.7127137191230174, 0.7127132876233712, 0.712712568457294, 0.7127124246240786, 0.7127123527074708, 0.7127119212078246, 0.7127116335413937, 0.7127114897081782, 0.712711058208532, 0.7127101232926316, 0.712709763709593, 0.7127090445435159, 0.7127076781279692, 1.3073481353687872, 3.0943179082591383, 1.5265075248908466, 2.4977331136120906, 1.3055569803369942, 1.3109295824330807, 1.308603655506306, 1.3066069628096586, 1.3079112424072092, 1.3094909626123152, 0.7139138634725943, 0.7137552154359712, 0.7133203357091081, 0.7132826514066646, 0.7132523745148158, 0.7131532015127744, 0.7130057005503474, 0.7129407598535792, 0.7129322017772609], \"Total\": [16.0, 6.0, 4.0, 5.0, 3.0, 4.0, 5.0, 5.0, 4.0, 5.0, 2.0, 3.0, 3.0, 10.0, 4.0, 9.0, 3.0, 3.0, 2.0, 2.0, 3.0, 2.0, 2.0, 2.0, 2.0, 3.0, 3.0, 3.0, 3.0, 5.0, 4.6337898850352826, 3.964987067777069, 3.295212364980979, 2.6263530135276096, 2.6262003569455543, 5.238901130842578, 1.9573138477222756, 1.9573141012614992, 1.9573128937343158, 1.9573073224622188, 1.957300937542153, 1.9572425395100608, 1.9571671689538828, 1.9569996722317933, 1.9569880243074438, 1.9569641739099664, 3.2313960401348316, 3.2346734959746826, 1.2880322686776808, 1.2880321389468392, 1.2880320700753607, 1.2880320305818156, 1.2880319548179777, 1.2880318366811938, 1.2880318933319517, 1.288031733886423, 1.2880317351810295, 1.2880314430392776, 1.2880316603067807, 1.2880316476843379, 10.181918785089835, 5.101757450683394, 3.838380826617568, 3.83822699914216, 2.551176838038347, 2.5510387348487296, 2.5621249433679396, 2.5750672367908254, 5.715119598713678, 3.1592405775275454, 3.18003212261856, 3.1930247249972696, 3.791174687779873, 3.7750286318803323, 5.580648442878495, 4.325797230809292, 2.4722826162380382, 1.854443608088614, 1.8544427268847208, 1.8544418202231205, 1.8544416618679747, 1.85444188485052, 1.8544405958230041, 1.854433500434664, 3.0803066628348215, 3.0803070500588423, 3.1412744681335805, 1.2366015240675203, 1.23660161550309, 1.2366014377086816, 1.2366015394283518, 1.2366014080678838, 1.236601477186584, 1.2366013078247875, 1.2366012582468064, 1.2366014004500774, 1.2366013784665513, 1.2366012891779403, 1.2366011377891732, 1.2366013344878257, 1.236601200976371, 1.2366011470012421, 1.2366012025059268, 1.2366010285986753, 1.236601010021904, 4.904633408916486, 3.6883221010451557, 3.7354233361129694, 2.448410994027231, 2.462416716420965, 2.4624321082664076, 2.5236433299188263, 4.873013948631545, 3.1930247249972696, 9.701568074892709, 5.48349034270384, 16.487929811636242, 10.181918785089835, 3.18003212261856, 1.8306032948228677, 3.838380826617568, 2.449427026035197, 5.580648442878495, 2.4428309492386986, 2.4428308937474754, 1.8348089755125485, 1.8348089920873647, 1.8348080711103456, 1.8348078722573828, 1.8348084221323135, 1.8348078412147069, 1.8348076653639314, 1.8347728549641253, 3.0367502267883726, 1.2267851274574983, 1.2267851613011238, 1.2267850128913043, 1.226785072668357, 1.2267849827618371, 1.2267847548140933, 1.2267850116866676, 1.2267848452014325, 1.226784892940459, 1.2267847716478535, 1.226784769796573, 1.226784775485652, 1.2267847635882205, 1.2267848764691127, 1.2267847857612348, 1.2267844967203296, 1.226784825970001, 1.2267845986112973, 1.2267844317096523, 16.487929811636242, 3.6532914975082313, 2.42931701166174, 2.4396259476398328, 2.503967599867949, 9.701568074892709, 3.6883221010451557, 3.791174687779873, 6.586955928710711, 10.181918785089835, 3.688745049217184, 2.449427026035197, 1.8959653162154022, 1.8959639233561127, 1.8315852547746239, 2.4624321082664076, 1.820731495561371, 1.831599613276849, 1.8445936573634554, 3.0381328776793426, 2.4332905774614693, 1.8284496836765463, 1.8284495779725527, 1.8284489106288255, 1.828446664059768, 1.8283948492382953, 1.828387678595739, 1.8292341849084792, 5.48349034270384, 5.471825753786553, 1.223605556456934, 1.2236055649430555, 1.2236055063070952, 1.2236051909898542, 1.2236051275535602, 1.223605400315592, 1.223605239746365, 1.2236052476295227, 1.2236051843696305, 1.2236052117615133, 1.2236052694583541, 1.2236052856818613, 1.2236050703370123, 1.2236052534548372, 1.2236050788800144, 1.2236050837992314, 1.2236052408432754, 1.2236050339259343, 1.223605137832502, 4.222034627200927, 5.715119598713678, 16.487929811636242, 4.904633408916486, 2.443481565216854, 3.6243781456238873, 3.6854059278740694, 3.6532914975082313, 3.7750286318803323, 5.580648442878495, 9.701568074892709, 5.238901130842578, 4.873013948631545, 1.8315935324477206, 1.8927938983670098, 2.5106104282387838, 1.8928285267219405, 1.8928303259837171, 1.831598511925573, 3.5886331716793927, 2.9946767665723906, 2.400687095146269, 2.4006937182197277, 6.586955928710711, 1.8067130779476916, 1.8067130500651036, 1.806713396305361, 1.806713517194556, 1.8067115902828568, 1.8067357723829731, 1.2127373836917086, 1.2127373962938213, 1.2127373441233011, 1.2127372212851866, 1.2127371025753964, 1.2127368841884496, 1.2127372368149252, 1.2127370565546896, 1.2127368664140228, 1.212737199700242, 1.2127370972032026, 1.2127374779164106, 1.2127370755374436, 1.212737023835957, 1.2127371603036887, 1.2127370130391397, 1.2127369934361638, 1.21273728761478, 1.2127370371521682, 2.4755383750886155, 9.701568074892709, 4.222034627200927, 10.181918785089835, 3.6243781456238873, 3.688745049217184, 3.6854059278740694, 4.873013948631545, 5.101757450683394, 5.580648442878495, 3.0367502267883726, 1.8818322633699385, 1.881895736892318, 1.8818957783119568, 1.8305188779745014, 2.4353452367892148, 3.1592405775275454, 1.8819385849641077, 1.8819445255749732], \"Category\": [\"Default\", \"Default\", \"Default\", \"Default\", \"Default\", \"Default\", \"Default\", \"Default\", \"Default\", \"Default\", \"Default\", \"Default\", \"Default\", \"Default\", \"Default\", \"Default\", \"Default\", \"Default\", \"Default\", \"Default\", \"Default\", \"Default\", \"Default\", \"Default\", \"Default\", \"Default\", \"Default\", \"Default\", \"Default\", \"Default\", \"Topic1\", \"Topic1\", \"Topic1\", \"Topic1\", \"Topic1\", \"Topic1\", \"Topic1\", \"Topic1\", \"Topic1\", \"Topic1\", \"Topic1\", \"Topic1\", \"Topic1\", \"Topic1\", \"Topic1\", \"Topic1\", \"Topic1\", \"Topic1\", \"Topic1\", \"Topic1\", \"Topic1\", \"Topic1\", \"Topic1\", \"Topic1\", \"Topic1\", \"Topic1\", \"Topic1\", \"Topic1\", \"Topic1\", \"Topic1\", \"Topic1\", \"Topic1\", \"Topic1\", \"Topic1\", \"Topic1\", \"Topic1\", \"Topic1\", \"Topic1\", \"Topic1\", \"Topic1\", \"Topic1\", \"Topic1\", \"Topic1\", \"Topic1\", \"Topic1\", \"Topic2\", \"Topic2\", \"Topic2\", \"Topic2\", \"Topic2\", \"Topic2\", \"Topic2\", \"Topic2\", \"Topic2\", \"Topic2\", \"Topic2\", \"Topic2\", \"Topic2\", \"Topic2\", \"Topic2\", \"Topic2\", \"Topic2\", \"Topic2\", \"Topic2\", \"Topic2\", \"Topic2\", \"Topic2\", \"Topic2\", \"Topic2\", \"Topic2\", \"Topic2\", \"Topic2\", \"Topic2\", \"Topic2\", \"Topic2\", \"Topic2\", \"Topic2\", \"Topic2\", \"Topic2\", \"Topic2\", \"Topic2\", \"Topic2\", \"Topic2\", \"Topic2\", \"Topic2\", \"Topic2\", \"Topic2\", \"Topic2\", \"Topic2\", \"Topic2\", \"Topic2\", \"Topic2\", \"Topic2\", \"Topic3\", \"Topic3\", \"Topic3\", \"Topic3\", \"Topic3\", \"Topic3\", \"Topic3\", \"Topic3\", \"Topic3\", \"Topic3\", \"Topic3\", \"Topic3\", \"Topic3\", \"Topic3\", \"Topic3\", \"Topic3\", \"Topic3\", \"Topic3\", \"Topic3\", \"Topic3\", \"Topic3\", \"Topic3\", \"Topic3\", \"Topic3\", \"Topic3\", \"Topic3\", \"Topic3\", \"Topic3\", \"Topic3\", \"Topic3\", \"Topic3\", \"Topic3\", \"Topic3\", \"Topic3\", \"Topic3\", \"Topic3\", \"Topic3\", \"Topic3\", \"Topic3\", \"Topic3\", \"Topic3\", \"Topic3\", \"Topic3\", \"Topic3\", \"Topic3\", \"Topic3\", \"Topic3\", \"Topic3\", \"Topic3\", \"Topic4\", \"Topic4\", \"Topic4\", \"Topic4\", \"Topic4\", \"Topic4\", \"Topic4\", \"Topic4\", \"Topic4\", \"Topic4\", \"Topic4\", \"Topic4\", \"Topic4\", \"Topic4\", \"Topic4\", \"Topic4\", \"Topic4\", \"Topic4\", \"Topic4\", \"Topic4\", \"Topic4\", \"Topic4\", \"Topic4\", \"Topic4\", \"Topic4\", \"Topic4\", \"Topic4\", \"Topic4\", \"Topic4\", \"Topic4\", \"Topic4\", \"Topic4\", \"Topic4\", \"Topic4\", \"Topic4\", \"Topic4\", \"Topic4\", \"Topic4\", \"Topic4\", \"Topic4\", \"Topic4\", \"Topic4\", \"Topic4\", \"Topic4\", \"Topic4\", \"Topic4\", \"Topic4\", \"Topic4\", \"Topic4\", \"Topic5\", \"Topic5\", \"Topic5\", \"Topic5\", \"Topic5\", \"Topic5\", \"Topic5\", \"Topic5\", \"Topic5\", \"Topic5\", \"Topic5\", \"Topic5\", \"Topic5\", \"Topic5\", \"Topic5\", \"Topic5\", \"Topic5\", \"Topic5\", \"Topic5\", \"Topic5\", \"Topic5\", \"Topic5\", \"Topic5\", \"Topic5\", \"Topic5\", \"Topic5\", \"Topic5\", \"Topic5\", \"Topic5\", \"Topic5\", \"Topic5\", \"Topic5\", \"Topic5\", \"Topic5\", \"Topic5\", \"Topic5\", \"Topic5\", \"Topic5\", \"Topic5\", \"Topic5\", \"Topic5\", \"Topic5\", \"Topic5\", \"Topic5\", \"Topic5\", \"Topic5\", \"Topic5\", \"Topic5\", \"Topic5\"], \"logprob\": [30.0, 29.0, 28.0, 27.0, 26.0, 25.0, 24.0, 23.0, 22.0, 21.0, 20.0, 19.0, 18.0, 17.0, 16.0, 15.0, 14.0, 13.0, 12.0, 11.0, 10.0, 9.0, 8.0, 7.0, 6.0, 5.0, 4.0, 3.0, 2.0, 1.0, -3.9363, -4.1112, -4.3266, -4.5973, -4.598, -3.9356, -4.9708, -4.9708, -4.9708, -4.9708, -4.9709, -4.9714, -4.9721, -4.9736, -4.9737, -4.9739, -4.5961, -4.5957, -5.577, -5.577, -5.577, -5.577, -5.577, -5.577, -5.577, -5.577, -5.577, -5.577, -5.577, -5.577, -3.6568, -4.3232, -4.5962, -4.5965, -4.9719, -4.9725, -4.9708, -4.9713, -4.3247, -4.9708, -4.9707, -4.9702, -4.9703, -4.9703, -4.9708, -3.7787, -4.44, -4.8147, -4.8147, -4.8148, -4.8148, -4.8148, -4.8148, -4.8149, -4.439, -4.439, -4.4386, -5.4209, -5.4209, -5.4209, -5.4209, -5.4209, -5.4209, -5.4209, -5.4209, -5.4209, -5.4209, -5.4209, -5.4209, -5.4209, -5.4209, -5.4209, -5.4209, -5.4209, -5.4209, -4.1679, -4.4393, -4.4394, -4.8143, -4.8147, -4.8148, -4.8144, -4.4397, -4.8154, -4.1683, -4.8153, -4.4426, -5.4082, -5.4146, -5.4188, -5.4194, -5.4196, -5.4199, -4.4059, -4.4059, -4.7806, -4.7806, -4.7806, -4.7806, -4.7806, -4.7806, -4.7807, -4.7818, -4.4065, -5.3867, -5.3867, -5.3867, -5.3867, -5.3867, -5.3867, -5.3867, -5.3867, -5.3868, -5.3868, -5.3868, -5.3868, -5.3868, -5.3868, -5.3868, -5.3868, -5.3868, -5.3868, -5.3868, -2.9902, -4.404, -4.7804, -4.7802, -4.78, -4.1337, -4.7817, -4.7797, -4.7844, -4.7837, -5.3845, -5.3846, -5.386, -5.386, -5.3863, -5.3866, -5.3867, -5.3867, -5.3867, -4.1386, -4.4107, -4.7852, -4.7852, -4.7853, -4.7853, -4.7875, -4.7878, -4.7909, -3.7509, -3.7736, -5.3914, -5.3914, -5.3914, -5.3914, -5.3914, -5.3914, -5.3914, -5.3914, -5.3914, -5.3914, -5.3914, -5.3914, -5.3914, -5.3914, -5.3914, -5.3914, -5.3914, -5.3914, -5.3914, -4.2309, -4.141, -3.3534, -4.4109, -4.9082, -4.7836, -4.7856, -4.7936, -4.7853, -4.7868, -4.7897, -5.3869, -5.3893, -5.3907, -5.3908, -5.391, -5.3912, -5.3913, -5.3914, -3.9121, -4.1261, -4.3976, -4.3978, -3.4565, -4.7723, -4.7723, -4.7723, -4.7724, -4.7724, -4.7736, -5.3785, -5.3785, -5.3785, -5.3785, -5.3785, -5.3785, -5.3785, -5.3785, -5.3785, -5.3785, -5.3785, -5.3785, -5.3785, -5.3785, -5.3785, -5.3785, -5.3785, -5.3785, -5.3785, -4.7718, -3.9102, -4.6168, -4.1244, -4.7732, -4.7691, -4.7708, -4.7724, -4.7714, -4.7702, -5.3768, -5.377, -5.3776, -5.3777, -5.3777, -5.3779, -5.3781, -5.3782, -5.3782], \"loglift\": [30.0, 29.0, 28.0, 27.0, 26.0, 25.0, 24.0, 23.0, 22.0, 21.0, 20.0, 19.0, 18.0, 17.0, 16.0, 15.0, 14.0, 13.0, 12.0, 11.0, 10.0, 9.0, 8.0, 7.0, 6.0, 5.0, 4.0, 3.0, 2.0, 1.0, 1.2791, 1.2601, 1.2297, 1.1859, 1.1852, 1.1571, 1.1064, 1.1064, 1.1064, 1.1063, 1.1063, 1.1058, 1.1051, 1.1038, 1.1037, 1.1035, 0.9797, 0.9792, 0.9187, 0.9187, 0.9187, 0.9187, 0.9187, 0.9187, 0.9187, 0.9187, 0.9187, 0.9187, 0.9187, 0.9187, 0.7714, 0.796, 0.8076, 0.8072, 0.8403, 0.8398, 0.8371, 0.8316, 0.681, 0.6276, 0.6211, 0.6176, 0.4458, 0.45, 0.0586, 1.5055, 1.4036, 1.3164, 1.3164, 1.3164, 1.3164, 1.3164, 1.3164, 1.3163, 1.1847, 1.1847, 1.1655, 1.1155, 1.1155, 1.1155, 1.1155, 1.1155, 1.1155, 1.1155, 1.1155, 1.1155, 1.1155, 1.1155, 1.1155, 1.1155, 1.1155, 1.1155, 1.1155, 1.1155, 1.1155, 0.9907, 1.0043, 0.9915, 1.039, 1.0329, 1.0328, 1.0087, 0.7254, 0.7724, 0.3082, 0.2318, -0.4964, -0.9801, 0.1773, 0.7253, -0.0157, 0.4333, -0.3904, 1.4497, 1.4497, 1.3612, 1.3612, 1.3612, 1.3612, 1.3612, 1.3612, 1.3612, 1.3601, 1.2315, 1.1576, 1.1576, 1.1576, 1.1576, 1.1576, 1.1576, 1.1576, 1.1576, 1.1576, 1.1576, 1.1576, 1.1576, 1.1576, 1.1576, 1.1576, 1.1576, 1.1576, 1.1576, 1.1576, 0.9559, 1.0491, 1.0808, 1.0767, 1.0509, 0.3428, 0.6619, 0.6364, 0.0793, -0.3556, 0.059, 0.4683, 0.723, 0.723, 0.7572, 0.461, 0.7628, 0.7569, 0.7498, 1.4989, 1.4488, 1.36, 1.36, 1.36, 1.36, 1.3578, 1.3575, 1.354, 1.2961, 1.2755, 1.1556, 1.1556, 1.1556, 1.1556, 1.1556, 1.1556, 1.1556, 1.1556, 1.1555, 1.1555, 1.1555, 1.1555, 1.1555, 1.1555, 1.1555, 1.1555, 1.1555, 1.1555, 1.1555, 1.0775, 0.8646, 0.5927, 0.7477, 0.9471, 0.6775, 0.6588, 0.6595, 0.635, 0.2426, -0.3132, -0.2943, -0.2243, 0.7529, 0.7199, 0.4373, 0.7194, 0.7194, 0.7522, 1.5589, 1.5259, 1.4754, 1.4752, 1.4072, 1.3849, 1.3849, 1.3849, 1.3849, 1.3849, 1.3836, 1.1774, 1.1774, 1.1774, 1.1774, 1.1774, 1.1774, 1.1774, 1.1774, 1.1774, 1.1774, 1.1774, 1.1774, 1.1774, 1.1774, 1.1774, 1.1774, 1.1774, 1.1774, 1.1774, 1.0705, 0.5662, 0.6916, 0.3037, 0.6879, 0.6744, 0.6735, 0.3927, 0.3478, 0.2593, 0.2612, 0.7395, 0.7389, 0.7388, 0.7664, 0.4808, 0.2204, 0.7383, 0.7383]}, \"token.table\": {\"Topic\": [3, 3, 3, 3, 1, 3, 5, 4, 3, 4, 5, 1, 5, 2, 4, 1, 1, 1, 1, 4, 1, 1, 2, 3, 3, 2, 3, 1, 2, 5, 2, 1, 2, 3, 2, 3, 1, 3, 2, 5, 3, 5, 5, 1, 3, 2, 5, 1, 2, 3, 4, 4, 3, 3, 3, 4, 2, 1, 2, 3, 4, 2, 2, 3, 4, 4, 2, 2, 1, 2, 2, 3, 4, 2, 3, 4, 5, 2, 4, 2, 1, 5, 2, 1, 1, 3, 5, 1, 1, 4, 5, 3, 1, 5, 3, 4, 3, 2, 3, 5, 5, 4, 3, 5, 2, 3, 4, 5, 1, 4, 1, 2, 4, 1, 4, 1, 5, 3, 4, 5, 5, 1, 4, 2, 5, 5, 4, 4, 2, 2, 2, 2, 1, 4, 2, 2, 3, 4, 5, 1, 2, 3, 5, 1, 1, 1, 5, 3, 4, 1, 4, 5, 1, 2, 2, 1, 5, 1, 3, 4, 3, 4, 1, 1, 2, 5, 2, 3, 3, 2, 3, 5, 1, 3, 3, 4, 1, 2, 1, 4, 5, 2, 4, 3, 3, 5, 4, 1, 5, 1, 2, 3, 4, 5, 2, 4, 5, 1, 3, 1, 3, 4, 1, 4, 4, 1, 2, 4, 1, 3, 3, 5, 4, 3, 5, 5, 4, 1, 5, 1, 5, 1, 3, 3, 1, 2, 4, 5, 4, 4, 2, 2, 3, 1, 2, 4, 1, 2, 5, 1, 2, 1, 3, 4, 5, 4, 3, 5, 1, 3, 3, 5, 5, 5, 3, 1, 4, 4, 1, 2, 3, 1, 4, 4, 4, 4, 3, 5, 2, 5, 2, 5, 1, 5, 5, 3, 5, 2, 1, 2, 5, 4, 2, 3, 4, 1, 2, 5, 1, 5, 4, 1, 2, 3, 5, 5, 4, 2, 5], \"Freq\": [0.8187222476672785, 0.5450160288875582, 0.8151388390751632, 0.5450158645101749, 0.5109045177197608, 0.5450162536800016, 0.8330925285559257, 0.5469299600443777, 0.2759094001290706, 0.2759094001290706, 0.2759094001290706, 0.5313790548470175, 0.5313790548470175, 0.18236559882531178, 0.7294623953012471, 0.8632242935567509, 0.7615565182262534, 0.910411733059067, 0.7635188945351744, 0.1908797236337936, 0.7763785623434549, 0.26377048866234226, 0.26377048866234226, 0.26377048866234226, 0.8151388281307554, 0.5392458012134506, 0.8151387087103359, 0.5210530404202822, 0.2605265202101411, 0.2605265202101411, 0.5392458660536683, 0.5109228824805336, 0.6492860026343579, 0.32464300131717894, 0.5422519902568331, 0.27112599512841656, 0.39936618990307093, 0.39936618990307093, 0.808668087888517, 0.8245810537371866, 0.5450162014448146, 0.8245810833248858, 0.8245809311721572, 0.5109893303276032, 0.8151389061737632, 0.8086679649413967, 0.8245810224461485, 0.5109955579830695, 0.649285921012905, 0.3246429605064525, 0.8172570799584948, 0.817257117906469, 0.8151386723056314, 0.8151387492296893, 0.8151390236981991, 0.8172571110410694, 0.8086679907577302, 0.06065042800547689, 0.12130085601095378, 0.4852034240438151, 0.3639025680328613, 0.8086682582928196, 0.4061025669065111, 0.4061025669065111, 0.817257012291136, 0.817256864933578, 0.8086681808641372, 0.8086681445671707, 0.31318266725944477, 0.31318266725944477, 0.18275435750270208, 0.18275435750270208, 0.7310174300108083, 0.5392461760449103, 0.5459751313203544, 0.5459751313203544, 0.5534913164717525, 0.8086682704409944, 0.9874485813443189, 0.8086680294987629, 0.531366968077267, 0.531366968077267, 0.8086681868883165, 0.5109425581333994, 0.3165317662457382, 0.3165317662457382, 0.3165317662457382, 0.7763783862510597, 0.5283098737590516, 0.5283098737590516, 0.8245810669296192, 0.8151388598510153, 0.39199718386843607, 0.39199718386843607, 0.5474515245673998, 0.2737257622836999, 0.8151386498181994, 0.8086679342838967, 0.549229802657793, 0.549229802657793, 0.8245810408301686, 0.8172570755367871, 0.8151389199090102, 0.8245808227370937, 0.41042361484757217, 0.20521180742378609, 0.20521180742378609, 0.20521180742378609, 0.39030102828845253, 0.39030102828845253, 0.318342128376372, 0.636684256752744, 0.8172571471303887, 0.7763781428758844, 0.8172571504159792, 0.531365290746006, 0.531365290746006, 0.5459711795401562, 0.5459711795401562, 0.5534911819073499, 0.8245808966316249, 0.5249233980466866, 0.5249233980466866, 0.9246850433744579, 0.8245808582095813, 0.8245809564076823, 0.8172570429718697, 0.8172570338158569, 0.8089690017087571, 0.8086678744901747, 0.539245300120345, 0.8086680151227686, 0.5283195391018223, 0.5283195391018223, 0.8086681081157492, 0.3092283615226993, 0.3092283615226993, 0.10307612050756641, 0.3092283615226993, 0.7566228965487951, 0.8086680101411502, 0.8151389140790287, 0.824581026098885, 0.5109042025270726, 0.776378431382519, 0.5109042687066763, 0.8245809831947296, 0.8151387684488275, 0.5469116441739069, 0.7763782538619689, 0.473705257440282, 0.473705257440282, 0.38833937448804207, 0.38833937448804207, 0.539248239295509, 0.5109076385850675, 0.55348436405898, 0.26489865310025545, 0.26489865310025545, 0.26489865310025545, 0.5459708512445773, 0.5459708512445773, 0.7763784389908666, 0.7763783250704805, 0.5392455563617758, 0.8359728778286005, 0.5421248175759946, 0.5421248175759946, 0.8151389099538798, 0.8086681455674148, 0.5450161922238157, 0.8245811830202947, 0.5274358087921842, 0.5274358087921842, 0.40989890313612626, 0.40989890313612626, 0.5109059719564313, 0.8086680756945219, 0.2713405306147242, 0.2713405306147242, 0.2713405306147242, 0.6116665099874914, 0.4077776733249943, 0.8187222290692258, 0.658598781802076, 0.329299390901038, 0.81725693572624, 0.5313969897663593, 0.5313969897663593, 0.1791906460755662, 0.1791906460755662, 0.1791906460755662, 0.1791906460755662, 0.1791906460755662, 0.40925211560221125, 0.40925211560221125, 0.8245810759837632, 0.7615122528078135, 0.8151388993461375, 0.5109862889550637, 0.5459726638495013, 0.5459726638495013, 0.5283093715651945, 0.5283093715651945, 0.817257023126963, 0.3144622322797676, 0.3144622322797676, 0.3144622322797676, 0.6183004258355149, 0.30915021291775746, 0.4116383309381117, 0.4116383309381117, 0.5469278150814073, 0.5450158595867536, 0.8245810966536151, 0.8245811709348555, 0.546911412945887, 0.39197596383358546, 0.39197596383358546, 0.7763780646789382, 0.553491325013657, 0.7763782081943188, 0.8151390913998241, 0.545016133156011, 0.7763783870314012, 0.410619400031517, 0.410619400031517, 0.410619400031517, 0.546912316151275, 0.8172570422392333, 0.8086680582583868, 0.8086679242387759, 0.8151388726293664, 0.39830950622694145, 0.39830950622694145, 0.39830950622694145, 0.5210739230501474, 0.2605369615250737, 0.2605369615250737, 0.39625250848429727, 0.39625250848429727, 0.2710949080669637, 0.2710949080669637, 0.2710949080669637, 0.2710949080669637, 0.8172568257701069, 0.15181519518618272, 0.7590759759309136, 0.5274361962699504, 0.5274361962699504, 0.545026594051912, 0.8245807672391618, 0.667851710182777, 0.8245808313056928, 0.815139134596284, 0.6189275394162298, 0.3094637697081149, 0.8172570377066372, 0.7763782909234841, 0.4061051053346748, 0.4061051053346748, 0.7763781843890669, 0.5469114445632316, 0.8172568314380616, 0.8219322503136886, 0.8172570616632066, 0.815138748429267, 0.5534912189420581, 0.408428161137753, 0.408428161137753, 0.5462679996414853, 0.5462679996414853, 0.5313790665424203, 0.5313790665424203, 0.8245809417313502, 0.8151389087237939, 0.5534917722221736, 0.5392458200061964, 0.2677072743890352, 0.5354145487780704, 0.2677072743890352, 0.8172571561219294, 0.40825874352283337, 0.40825874352283337, 0.40825874352283337, 0.5880326591375178, 0.1960108863791726, 0.1960108863791726, 0.40395253414894183, 0.40395253414894183, 0.8172571804412262, 0.4910665765004808, 0.09821331530009617, 0.09821331530009617, 0.19642663060019233, 0.8330948269116862, 0.5466768597756292, 0.5462931915274843, 0.5462931915274843], \"Term\": [\"0.125%\", \"0.5%\", \"11.1\", \"1250\", \"150%\", \"1500\", \"1800\", \"2015\", \"2016\", \"2016\", \"2016\", \"2020\", \"2020\", \"2025\", \"2025\", \"2030\", \"2035\", \"2040\", \"2050\", \"2050\", \"220%\", \"2300\", \"2300\", \"2300\", \"36000\", \"8400\", \"Arniec\", \"CPTPP\", \"CPTPP\", \"CPTPP\", \"County\", \"ECFA\", \"ETtoday\", \"ETtoday\", \"Facebook\", \"Facebook\", \"GDP8%\", \"GDP8%\", \"HoHoGPT\", \"LDCT\", \"LIVE\", \"MISSILE\", \"NATIONAL\", \"National\", \"OECD\", \"SDGs\", \"TAIWAN\", \"Taiwan\", \"YouTube\", \"YouTube\", \"awareness\", \"breast\", \"houyuih\", \"lorces\", \"metoo\", \"month\", \"plus\", \"yuih\", \"yuih\", \"yuih\", \"yuih\", \"\\u4e00\\u4eba\\u5f97\\u9053\", \"\\u4e00\\u624b\\u906e\\u5929\", \"\\u4e00\\u624b\\u906e\\u5929\", \"\\u4e0a\\u5e02\\u516c\\u53f8\", \"\\u4e0d\\u4f46\\u5982\\u6b64\", \"\\u4e0d\\u611b\\u53f0\\u7063\", \"\\u4e0d\\u611b\\u9019\\u500b\", \"\\u4e2d\\u570b\\u5927\\u9678\", \"\\u4e2d\\u570b\\u5927\\u9678\", \"\\u4e2d\\u592e\\u653f\\u5e9c\", \"\\u4e2d\\u592e\\u653f\\u5e9c\", \"\\u4e2d\\u592e\\u653f\\u5e9c\", \"\\u4e2d\\u592e\\u8b66\\u5b98\", \"\\u4e2d\\u83ef\\u6c11\\u570b\\u570b\", \"\\u4e2d\\u83ef\\u6c11\\u570b\\u570b\", \"\\u4e2d\\u83ef\\u6c11\\u570b\\u6703\\u7d66\", \"\\u4e2d\\u9ad8\\u968e\\u7d93\\u7406\", \"\\u4e8c\\u5206\\u4e4b\\u4e00\", \"\\u4e92\\u60e0\\u4e92\\u5229\", \"\\u4eba\\u53e3\\u6bd4\\u4f8b\", \"\\u4eba\\u53e3\\u6bd4\\u4f8b\", \"\\u4eba\\u5de5\\u667a\\u6167\", \"\\u4eba\\u8eab\\u81ea\\u7531\", \"\\u4eca\\u5929\\u4e0b\\u5348\", \"\\u4eca\\u5929\\u4e0b\\u5348\", \"\\u4eca\\u5929\\u4e0b\\u5348\", \"\\u4ee5\\u570b\\u6c11\\u9ee8\", \"\\u4ee5\\u5df4\\u6230\\u722d\", \"\\u4ee5\\u5df4\\u6230\\u722d\", \"\\u4f46\\u570b\\u6c11\\u9ee8\", \"\\u4f5c\\u70ba\\u5f8c\\u76fe\", \"\\u4f9b\\u96fb\\u7121\\u865e\", \"\\u4f9b\\u96fb\\u7121\\u865e\", \"\\u4fdd\\u5bb6\\u885b\\u570b\", \"\\u4fdd\\u5bb6\\u885b\\u570b\", \"\\u4fdd\\u885b\\u570b\\u5bb6\", \"\\u4fdd\\u8b77\\u570b\\u6c11\", \"\\u5145\\u8033\\u4e0d\\u805e\", \"\\u5145\\u8033\\u4e0d\\u805e\", \"\\u5148\\u9a45\\u7522\\u696d\", \"\\u5162\\u5162\\u696d\\u696d\", \"\\u5165\\u4e0d\\u6577\\u51fa\", \"\\u5168\\u4e2d\\u83ef\\u6c11\\u570b\", \"\\u5168\\u529b\\u4ee5\\u8d74\", \"\\u5168\\u529b\\u4ee5\\u8d74\", \"\\u5168\\u529b\\u4ee5\\u8d74\", \"\\u5168\\u529b\\u4ee5\\u8d74\", \"\\u5168\\u529b\\u652f\\u6301\", \"\\u5168\\u529b\\u652f\\u6301\", \"\\u5168\\u570b\\u6c11\\u773e\", \"\\u5168\\u570b\\u6c11\\u773e\", \"\\u5168\\u570b\\u7522\\u696d\", \"\\u5169\\u5cb8\\u6c11\\u8abf\", \"\\u516c\\u52d9\\u9ad4\\u7cfb\", \"\\u5171\\u540c\\u52aa\\u529b\", \"\\u5171\\u540c\\u52aa\\u529b\", \"\\u5171\\u540c\\u5b8c\\u6210\", \"\\u5171\\u540c\\u5b8c\\u6210\", \"\\u5171\\u6cbb\\u570b\\u5bb6\", \"\\u5177\\u9ad4\\u52d9\\u5be6\", \"\\u518d\\u751f\\u80fd\\u6e90\", \"\\u518d\\u751f\\u80fd\\u6e90\", \"\\u51f1\\u9054\\u683c\\u862d\", \"\\u5236\\u61b2\\u5efa\\u570b\", \"\\u52d5\\u570b\\u5bb6\\u7d1a\", \"\\u52de\\u5de5\\u5f8c\\u76fe\", \"\\u52de\\u8cc7\\u6703\\u8b70\", \"\\u5370\\u592a\\u5340\\u57df\", \"\\u5370\\u592a\\u570b\\u5bb6\", \"\\u5370\\u592a\\u5730\\u5340\", \"\\u5370\\u592a\\u9858\\u666f\", \"\\u53bb\\u5e74\\u540c\\u671f\", \"\\u53bb\\u5e74\\u540c\\u671f\", \"\\u53c3\\u8207\\u5340\\u57df\", \"\\u53f0\\u6f8e\\u91d1\\u99ac\", \"\\u53f0\\u6f8e\\u91d1\\u99ac\", \"\\u53f0\\u6f8e\\u91d1\\u99ac\", \"\\u53f0\\u6f8e\\u91d1\\u99ac\", \"\\u53f0\\u7063\\u6c11\\u773e\", \"\\u53f0\\u7063\\u6c38\\u7e8c\", \"\\u53f0\\u7063\\u7684\\u7d93\", \"\\u56de\\u570b\\u6c11\\u9ee8\", \"\\u570b\\u653f\\u65b9\\u91dd\", \"\\u570b\\u653f\\u85cd\\u5716\", \"\\u570b\\u6c11\\u5e38\\u8b58\", \"\\u570b\\u6c11\\u6182\\u9b31\", \"\\u570b\\u8ecd\\u5fe0\\u9748\", \"\\u570b\\u969b\\u5171\\u6253\", \"\\u57f7\\u653f\\u6642\\u4ee3\", \"\\u57fa\\u5c64\\u6c11\\u773e\", \"\\u57fa\\u5c64\\u6c11\\u773e\", \"\\u5916\\u4ea4\\u653f\\u7b56\", \"\\u5916\\u4ea4\\u653f\\u7b56\", \"\\u5927\\u5b78\\u5b78\\u5236\", \"\\u592a\\u591a\\u592a\\u591a\", \"\\u59d4\\u54e1\\u6843\\u5712\", \"\\u5b88\\u8b77\\u570b\\u5bb6\", \"\\u5b88\\u8b77\\u570b\\u5bb6\", \"\\u5b88\\u8b77\\u570b\\u5bb6\", \"\\u5b88\\u8b77\\u6c11\\u773e\", \"\\u5b88\\u8b77\\u6c11\\u773e\", \"\\u5c07\\u96d9\\u5341\\u570b\\u6176\", \"\\u5c45\\u9ad8\\u4e0d\\u4e0b\", \"\\u5f37\\u5065\\u570b\\u9632\", \"\\u5fc3\\u7406\\u5065\\u5eb7\", \"\\u5fd7\\u540c\\u9053\\u5408\", \"\\u5fd7\\u540c\\u9053\\u5408\", \"\\u6050\\u5982\\u9673\\u975c\\u654f\", \"\\u611b\\u4e0d\\u611b\\u53f0\\u7063\", \"\\u611b\\u4e2d\\u83ef\\u6c11\\u570b\", \"\\u622a\\u7136\\u4e0d\\u540c\", \"\\u6298\\u8877\\u65b9\\u6848\", \"\\u6298\\u8877\\u65b9\\u6848\", \"\\u633a\\u8eab\\u800c\\u51fa\", \"\\u633a\\u8eab\\u800c\\u51fa\", \"\\u63a8\\u52d5\\u653f\\u9ee8\", \"\\u64f4\\u5927\\u570b\\u969b\", \"\\u653e\\u5728\\u5fc3\\u4e0a\", \"\\u653e\\u5728\\u5fc3\\u4e0a\", \"\\u653e\\u5728\\u5fc3\\u4e0a\", \"\\u6700\\u5f8c\\u4e00\\u54e9\\u8def\", \"\\u6700\\u5f8c\\u4e00\\u54e9\\u8def\", \"\\u6709\\u5fc3\\u4eba\\u58eb\", \"\\u6839\\u672c\\u5927\\u6cd5\", \"\\u6839\\u672c\\u5927\\u6cd5\", \"\\u6a5f\\u7d44\\u7dad\\u6301\", \"\\u6c11\\u4e3b\\u6539\\u9769\", \"\\u6c11\\u4e3b\\u6539\\u9769\", \"\\u6c11\\u4e3b\\u81ea\\u7531\", \"\\u6c11\\u4e3b\\u81ea\\u7531\", \"\\u6c11\\u4e3b\\u81ea\\u7531\", \"\\u6c11\\u4e3b\\u81ea\\u7531\", \"\\u6c11\\u4e3b\\u81ea\\u7531\", \"\\u6c11\\u610f\\u4ee3\\u8868\", \"\\u6c11\\u610f\\u4ee3\\u8868\", \"\\u6c38\\u7121\\u6230\\u4e8b\", \"\\u6de8\\u96f6\\u53f0\\u7063\", \"\\u6f20\\u8996\\u8b77\\u75c5\", \"\\u7063\\u570b\\u6176\\u65e5\", \"\\u70ba\\u6c11\\u800c\\u6230\", \"\\u70ba\\u6c11\\u800c\\u6230\", \"\\u70cf\\u4fc4\\u6230\\u722d\", \"\\u70cf\\u4fc4\\u6230\\u722d\", \"\\u7121\\u5de5\\u6703\\u8005\", \"\\u71b1\\u611b\\u4e2d\\u83ef\\u6c11\\u570b\", \"\\u71b1\\u611b\\u4e2d\\u83ef\\u6c11\\u570b\", \"\\u71b1\\u611b\\u4e2d\\u83ef\\u6c11\\u570b\", \"\\u71df\\u5229\\u4e8b\\u696d\", \"\\u71df\\u5229\\u4e8b\\u696d\", \"\\u738b\\u60e0\\u7f8e\\u7e23\", \"\\u738b\\u60e0\\u7f8e\\u7e23\", \"\\u751f\\u547d\\u5b89\\u5168\", \"\\u7576\\u57f7\\u653f\\u9ee8\", \"\\u767c\\u5e03\\u570b\\u5bb6\", \"\\u767c\\u5e03\\u8a0a\\u606f\", \"\\u767c\\u96fb\\u9078\\u9805\", \"\\u78ba\\u4fdd\\u570b\\u5bb6\", \"\\u78ba\\u4fdd\\u570b\\u5bb6\", \"\\u78ba\\u4fdd\\u96fb\\u529b\", \"\\u793e\\u6703\\u5171\\u878d\", \"\\u795d\\u4e2d\\u83ef\\u6c11\\u570b\", \"\\u7d42\\u65bc\\u8868\\u614b\", \"\\u7d50\\u52dd\\u5229\\u5927\\u6703\", \"\\u7d71\\u99ac\\u62c9\\u677e\", \"\\u7d93\\u6fdf\\u7522\\u696d\", \"\\u7d93\\u6fdf\\u7522\\u696d\", \"\\u7d93\\u6fdf\\u7522\\u696d\", \"\\u7e3d\\u7d71\\u5e9c\\u88e1\", \"\\u7e3d\\u806f\\u5408\\u6703\", \"\\u7e41\\u69ae\\u570b\\u5bb6\", \"\\u7f3a\\u4e00\\u4e0d\\u53ef\", \"\\u7f6e\\u4e4b\\u4e0d\\u7406\", \"\\u7fa9\\u7121\\u53cd\\u9867\", \"\\u7fa9\\u7121\\u53cd\\u9867\", \"\\u7fa9\\u7121\\u53cd\\u9867\", \"\\u80fd\\u6e90\\u5b89\\u5168\", \"\\u80fd\\u6e90\\u5b89\\u5168\", \"\\u80fd\\u6e90\\u5b89\\u5168\", \"\\u81ea\\u7531\\u6c11\\u4e3b\", \"\\u81ea\\u7531\\u6c11\\u4e3b\", \"\\u82f1\\u4e5d\\u7e3d\\u7d71\", \"\\u82f1\\u4e5d\\u7e3d\\u7d71\", \"\\u82f1\\u4e5d\\u7e3d\\u7d71\", \"\\u82f1\\u4e5d\\u7e3d\\u7d71\", \"\\u843d\\u5f8c\\u570b\\u969b\", \"\\u8523\\u842c\\u5b89\\u5e02\", \"\\u8523\\u842c\\u5b89\\u5e02\", \"\\u884c\\u4e4b\\u6709\\u5e74\", \"\\u884c\\u4e4b\\u6709\\u5e74\", \"\\u884c\\u61b2\\u7d00\\u5ff5\", \"\\u8996\\u4e2d\\u83ef\\u6c11\\u570b\", \"\\u89c0\\u5149\\u7522\\u696d\", \"\\u8a31\\u591a\\u570b\\u5bb6\", \"\\u8a8d\\u660e\\u7522\\u5730\", \"\\u8caa\\u6c61\\u8150\\u6557\", \"\\u8caa\\u6c61\\u8150\\u6557\", \"\\u8cc7\\u9063\\u54e1\\u5de5\", \"\\u8cf4\\u6e05\\u5fb7\\u5076\", \"\\u8cf4\\u6e05\\u5fb7\\u70ba\", \"\\u8cf4\\u6e05\\u5fb7\\u70ba\", \"\\u8cf4\\u6e05\\u5fb7\\u7528\", \"\\u8cf4\\u6e05\\u5fb7\\u7d42\", \"\\u8cf4\\u6e05\\u5fb7\\u9858\", \"\\u8cf4\\u76ae\\u8afe\\u4e18\", \"\\u8cfc\\u6240\\u7522\\u751f\", \"\\u8ecd\\u4eba\\u5f8c\\u76fe\", \"\\u8f9b\\u4ea5\\u9769\\u547d\", \"\\u8fb2\\u6f01\\u7522\\u54c1\", \"\\u8fb2\\u6f01\\u7522\\u54c1\", \"\\u8feb\\u5207\\u9700\\u8981\", \"\\u8feb\\u5207\\u9700\\u8981\", \"\\u9023\\u4e2d\\u83ef\\u6c11\\u570b\", \"\\u9023\\u4e2d\\u83ef\\u6c11\\u570b\", \"\\u9023\\u570b\\u6176\\u65e5\", \"\\u9023\\u8b77\\u7406\\u5e2b\", \"\\u9084\\u7d66\\u6c11\\u773e\", \"\\u91cd\\u4e2d\\u4e4b\\u91cd\", \"\\u91cd\\u8cac\\u5927\\u4efb\", \"\\u91cd\\u8cac\\u5927\\u4efb\", \"\\u91cd\\u8cac\\u5927\\u4efb\", \"\\u95dc\\u61f7\\u4ff1\\u6a02\\u90e8\", \"\\u9677\\u5165\\u56f0\\u5883\", \"\\u9677\\u5165\\u56f0\\u5883\", \"\\u9677\\u5165\\u56f0\\u5883\", \"\\u96c6\\u4e2d\\u529b\\u91cf\", \"\\u96c6\\u4e2d\\u529b\\u91cf\", \"\\u96c6\\u4e2d\\u529b\\u91cf\", \"\\u96d9\\u5341\\u570b\\u6176\", \"\\u96d9\\u5341\\u570b\\u6176\", \"\\u96d9\\u5341\\u570b\\u6176\\u53ca\", \"\\u9752\\u5929\\u767d\\u65e5\", \"\\u9752\\u5929\\u767d\\u65e5\", \"\\u9752\\u5929\\u767d\\u65e5\", \"\\u9752\\u5929\\u767d\\u65e5\", \"\\u9769\\u547d\\u5148\\u70c8\", \"\\u98a8\\u98a8\\u96e8\\u96e8\", \"\\u9f90\\u5927\\u5149\\u96fb\", \"\\u9f90\\u5927\\u5149\\u96fb\"]}, \"R\": 30, \"lambda.step\": 0.01, \"plot.opts\": {\"xlab\": \"PC1\", \"ylab\": \"PC2\"}, \"topic.order\": [5, 4, 3, 2, 1]};\n",
       "\n",
       "function LDAvis_load_lib(url, callback){\n",
       "  var s = document.createElement('script');\n",
       "  s.src = url;\n",
       "  s.async = true;\n",
       "  s.onreadystatechange = s.onload = callback;\n",
       "  s.onerror = function(){console.warn(\"failed to load library \" + url);};\n",
       "  document.getElementsByTagName(\"head\")[0].appendChild(s);\n",
       "}\n",
       "\n",
       "if(typeof(LDAvis) !== \"undefined\"){\n",
       "   // already loaded: just create the visualization\n",
       "   !function(LDAvis){\n",
       "       new LDAvis(\"#\" + \"ldavis_el152871114632331294678954\", ldavis_el152871114632331294678954_data);\n",
       "   }(LDAvis);\n",
       "}else if(typeof define === \"function\" && define.amd){\n",
       "   // require.js is available: use it to load d3/LDAvis\n",
       "   require.config({paths: {d3: \"https://d3js.org/d3.v5\"}});\n",
       "   require([\"d3\"], function(d3){\n",
       "      window.d3 = d3;\n",
       "      LDAvis_load_lib(\"https://cdn.jsdelivr.net/gh/bmabey/pyLDAvis@3.4.0/pyLDAvis/js/ldavis.v3.0.0.js\", function(){\n",
       "        new LDAvis(\"#\" + \"ldavis_el152871114632331294678954\", ldavis_el152871114632331294678954_data);\n",
       "      });\n",
       "    });\n",
       "}else{\n",
       "    // require.js not available: dynamically load d3 & LDAvis\n",
       "    LDAvis_load_lib(\"https://d3js.org/d3.v5.js\", function(){\n",
       "         LDAvis_load_lib(\"https://cdn.jsdelivr.net/gh/bmabey/pyLDAvis@3.4.0/pyLDAvis/js/ldavis.v3.0.0.js\", function(){\n",
       "                 new LDAvis(\"#\" + \"ldavis_el152871114632331294678954\", ldavis_el152871114632331294678954_data);\n",
       "            })\n",
       "         });\n",
       "}\n",
       "</script>"
      ],
      "text/plain": [
       "PreparedData(topic_coordinates=              x         y  topics  cluster       Freq\n",
       "topic                                                \n",
       "4     -0.150266 -0.061326       1        1  24.880536\n",
       "3      0.051506  0.006406       2        1  19.649322\n",
       "2      0.077140  0.013742       3        1  18.687754\n",
       "1      0.062858 -0.085568       4        1  18.676909\n",
       "0     -0.041238  0.126745       5        1  18.105479, topic_info=     Term       Freq      Total Category  logprob  loglift\n",
       "129  yuih  16.000000  16.000000  Default  30.0000  30.0000\n",
       "78   蔣萬安市   6.000000   6.000000  Default  29.0000  29.0000\n",
       "413  凱達格蘭   4.000000   4.000000  Default  28.0000  28.0000\n",
       "0    2025   5.000000   5.000000  Default  27.0000  27.0000\n",
       "125  心理健康   3.000000   3.000000  Default  26.0000  26.0000\n",
       "..    ...        ...        ...      ...      ...      ...\n",
       "251  龐大光電   0.713252   1.830519   Topic5  -5.3777   0.7664\n",
       "64   經濟產業   0.713153   2.435345   Topic5  -5.3779   0.4808\n",
       "382  今天下午   0.713006   3.159241   Topic5  -5.3781   0.2204\n",
       "69   人口比例   0.712941   1.881939   Topic5  -5.3782   0.7383\n",
       "344  共同努力   0.712932   1.881945   Topic5  -5.3782   0.7383\n",
       "\n",
       "[270 rows x 6 columns], token_table=      Topic      Freq    Term\n",
       "term                         \n",
       "373       3  0.818722  0.125%\n",
       "374       3  0.545016    0.5%\n",
       "171       3  0.815139    11.1\n",
       "405       3  0.545016    1250\n",
       "142       1  0.510905    150%\n",
       "...     ...       ...     ...\n",
       "12        5  0.196427    青天白日\n",
       "140       5  0.833095    革命先烈\n",
       "323       4  0.546677    風風雨雨\n",
       "251       2  0.546293    龐大光電\n",
       "251       5  0.546293    龐大光電\n",
       "\n",
       "[299 rows x 3 columns], R=30, lambda_step=0.01, plot_opts={'xlab': 'PC1', 'ylab': 'PC2'}, topic_order=[5, 4, 3, 2, 1])"
      ]
     },
     "execution_count": 417,
     "metadata": {},
     "output_type": "execute_result"
    }
   ],
   "source": [
    "#other visualizations! figure out how to read this!\n",
    "import pyLDAvis\n",
    "import pyLDAvis.gensim_models as gensimvis\n",
    "\n",
    "pyLDAvis.enable_notebook()\n",
    "\n",
    "vis = gensimvis.prepare(lda_model, corpus, dictionary)\n",
    "vis\n"
   ]
  },
  {
   "cell_type": "code",
   "execution_count": 17,
   "metadata": {},
   "outputs": [
    {
     "data": {
      "text/plain": [
       "322"
      ]
     },
     "execution_count": 17,
     "metadata": {},
     "output_type": "execute_result"
    }
   ],
   "source": [
    "99+32+159+32\n",
    "\n"
   ]
  }
 ],
 "metadata": {
  "kernelspec": {
   "display_name": "Python 3",
   "language": "python",
   "name": "python3"
  },
  "language_info": {
   "codemirror_mode": {
    "name": "ipython",
    "version": 3
   },
   "file_extension": ".py",
   "mimetype": "text/x-python",
   "name": "python",
   "nbconvert_exporter": "python",
   "pygments_lexer": "ipython3",
   "version": "3.11.3"
  },
  "orig_nbformat": 4
 },
 "nbformat": 4,
 "nbformat_minor": 2
}
